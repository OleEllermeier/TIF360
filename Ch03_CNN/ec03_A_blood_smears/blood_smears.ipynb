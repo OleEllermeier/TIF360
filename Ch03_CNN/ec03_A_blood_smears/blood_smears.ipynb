{
  "cells": [
    {
      "cell_type": "markdown",
      "metadata": {
        "id": "ar-nu8aC5ZTy"
      },
      "source": [
        "# Classifying Blood Smears with a Convolutional Neural Network\n",
        "\n",
        "\n",
        "<div style=\"background-color: #f0f8ff; border: 2px solid #4682b4; padding: 10px;\">\n",
        "<a href=\"https://colab.research.google.com/github/DeepTrackAI/DeepLearningCrashCourse/blob/main/Ch03_CNN/ec03_A_blood_smears/blood_smears.ipynb\" target=\"_parent\"><img src=\"https://colab.research.google.com/assets/colab-badge.svg\" alt=\"Open In Colab\"/></a>\n",
        "<strong>If using Colab/Kaggle:</strong> You need to uncomment the code in the cell below this one.\n",
        "</div>"
      ]
    },
    {
      "cell_type": "code",
      "execution_count": 1,
      "metadata": {
        "id": "bCT0qNXi5ZT3"
      },
      "outputs": [],
      "source": [
        "# !pip install deeplay  # Uncomment if using Colab/Kaggle."
      ]
    },
    {
      "cell_type": "markdown",
      "metadata": {
        "id": "dYb-hMRs5ZT5"
      },
      "source": [
        "This notebook provides you with a complete code example that loads the malaria dataset, trains a convolutional neural network with dense top to classify the images of cells with and without malaria, analyzes where the trained network fails, and shows the network activations and heatmaps."
      ]
    },
    {
      "cell_type": "markdown",
      "metadata": {
        "id": "3PWYs5g95ZT6"
      },
      "source": [
        "<div style=\"background-color: #f0f8ff; border: 2px solid #4682b4; padding: 10px;\">\n",
        "<strong>Note:</strong> This notebook contains the Code Example 3-A from the book  \n",
        "\n",
        "**Deep Learning Crash Course**  \n",
        "Benjamin Midtvedt, Jesús Pineda, Henrik Klein Moberg, Harshith Bachimanchi, Joana B. Pereira, Carlo Manzo, Giovanni Volpe  \n",
        "No Starch Press, San Francisco (CA), 2025  \n",
        "ISBN-13: 9781718503922  \n",
        "\n",
        "[https://nostarch.com/deep-learning-crash-course](https://nostarch.com/deep-learning-crash-course)\n",
        "\n",
        "You can find the other notebooks on the [Deep Learning Crash Course GitHub page](https://github.com/DeepTrackAI/DeepLearningCrashCourse).\n",
        "</div>"
      ]
    },
    {
      "cell_type": "markdown",
      "metadata": {
        "id": "kVmHdFCk5ZT7"
      },
      "source": [
        "## Loading the Malaria Dataset"
      ]
    },
    {
      "cell_type": "markdown",
      "metadata": {
        "id": "zNi_jukR5ZT8"
      },
      "source": [
        "This dataset was originally published in S. Rajaraman, S. K. Antani, M. Poost- chi, K. Silamut, Md A. Hossain, R. J. Maude, S. Jaeger, and G. R. Thoma. _Pre-trained convolutional neural networks as feature extractors toward improved malaria parasite detection in thin blood smear images._ PeerJ 6, e4568, 2018.\n",
        "\n",
        "It is available at https://data.lhncbc.nlm.nih.gov/public/Malaria/cell_images.zip.\n"
      ]
    },
    {
      "cell_type": "code",
      "execution_count": 2,
      "metadata": {
        "id": "ayl48cLf5ZT8"
      },
      "outputs": [],
      "source": [
        "import os\n",
        "from torchvision.datasets.utils import _extract_zip, download_url\n",
        "\n",
        "dataset_path = os.path.join(\".\", \"blood_smears_dataset\")\n",
        "if not os.path.exists(dataset_path):\n",
        "    url = \"https://data.lhncbc.nlm.nih.gov/public/Malaria/cell_images.zip\"\n",
        "    download_url(url, \".\")\n",
        "    _extract_zip(\"cell_images.zip\", dataset_path, None)\n",
        "    os.remove(\"cell_images.zip\")"
      ]
    },
    {
      "cell_type": "markdown",
      "metadata": {
        "id": "TpGcX1gJ5ZT9"
      },
      "source": [
        "### Transforming the Images and Their Ground Thruth\n",
        "\n",
        "Define a transformation to resize the images to 28 by 28 pixels and convert them to PyTorch tensors (note that `ToTensor()` also normalizes their values between 0 and 1) ..."
      ]
    },
    {
      "cell_type": "code",
      "execution_count": 3,
      "metadata": {
        "id": "ZM56mqv-5ZT_"
      },
      "outputs": [],
      "source": [
        "from torchvision.transforms import Compose, Resize, ToTensor\n",
        "\n",
        "image_trans = Compose([Resize((28, 28)), ToTensor()])"
      ]
    },
    {
      "cell_type": "markdown",
      "metadata": {
        "id": "_hQFiCCv5ZT_"
      },
      "source": [
        "... define a transformation to make the target label equal to 0 for the uninfected cells and to 1 for the parasitized ones, converting it into a floating-point PyTorch tensor and adding a new dimension for batch processing ..."
      ]
    },
    {
      "cell_type": "code",
      "execution_count": 4,
      "metadata": {
        "id": "J5NLJzHz5ZUA"
      },
      "outputs": [],
      "source": [
        "import torch\n",
        "\n",
        "def label_trans(label):\n",
        "    \"\"\"Transform label.\"\"\"\n",
        "    return torch.tensor(1 - label).float().unsqueeze(-1)"
      ]
    },
    {
      "cell_type": "markdown",
      "metadata": {
        "id": "E5RmMpZ35ZUA"
      },
      "source": [
        "... and define a dataset that also makes these transformations."
      ]
    },
    {
      "cell_type": "code",
      "execution_count": 5,
      "metadata": {
        "id": "Iv93uxHi5ZUB"
      },
      "outputs": [],
      "source": [
        "from torchvision.datasets import ImageFolder\n",
        "\n",
        "base_dir = os.path.join(dataset_path, \"cell_images\")\n",
        "dataset = ImageFolder(base_dir, transform=image_trans,\n",
        "                      target_transform=label_trans)"
      ]
    },
    {
      "cell_type": "markdown",
      "metadata": {
        "id": "3lzgyljM5ZUB"
      },
      "source": [
        "### Visualizing the Blood Smears\n",
        "\n",
        "Implement a function to plot some examples of blood smears ..."
      ]
    },
    {
      "cell_type": "code",
      "execution_count": 6,
      "metadata": {
        "id": "oEBRPnN65ZUC"
      },
      "outputs": [],
      "source": [
        "import matplotlib.pyplot as plt\n",
        "import numpy as np\n",
        "\n",
        "def plot_blood_smears(dataset, parasitized):\n",
        "    \"\"\"Plot blood smears.\"\"\"\n",
        "    fig, axs = plt.subplots(3, 6, figsize=(16, 8))\n",
        "    for ax in axs.ravel():\n",
        "        image, label = dataset[np.random.randint(0, len(dataset))]\n",
        "        if isinstance(image, torch.Tensor):\n",
        "            image, label = image.numpy().transpose(1, 2, 0), label.numpy()\n",
        "        ax.imshow(image)\n",
        "        ax.set_title(f\"Parasitized ({label})\" if label == parasitized\n",
        "                     else f\"Uninfected ({label})\", fontsize=16)\n",
        "    plt.tight_layout()\n",
        "    plt.show()"
      ]
    },
    {
      "cell_type": "markdown",
      "metadata": {
        "id": "qaxbEAR55ZUC"
      },
      "source": [
        "... and use it to plot them."
      ]
    },
    {
      "cell_type": "code",
      "execution_count": 7,
      "metadata": {
        "colab": {
          "base_uri": "https://localhost:8080/",
          "height": 0
        },
        "id": "LonXLaNW5ZUC",
        "outputId": "9b93af4d-fa8a-4b08-9283-57980fd442d4"
      },
      "outputs": [
        {
          "output_type": "display_data",
          "data": {
            "text/plain": [
              "<Figure size 1600x800 with 18 Axes>"
            ],
            "image/png": "[encoded data removed]"
          },
          "metadata": {}
        }
      ],
      "source": [
        "plot_blood_smears(dataset, parasitized=1)"
      ]
    },
    {
      "cell_type": "markdown",
      "source": [
        "# New data set"
      ],
      "metadata": {
        "id": "MaTE4Yi97IDv"
      }
    },
    {
      "cell_type": "code",
      "source": [
        "import os\n",
        "\n",
        "if not os.path.exists(\"MNIST_dataset\"):\n",
        "    os.system(\"git clone https://github.com/DeepTrackAI/MNIST_dataset\")\n",
        "\n",
        "train_path = os.path.join(\"MNIST_dataset\", \"mnist\", \"train\")\n",
        "train_image_files = sorted(os.listdir(train_path))"
      ],
      "metadata": {
        "id": "x3Q9YVdR7Os0"
      },
      "execution_count": 8,
      "outputs": []
    },
    {
      "cell_type": "code",
      "source": [
        "import matplotlib.pyplot as plt\n",
        "\n",
        "train_images = []\n",
        "for file in train_image_files:\n",
        "    image = plt.imread(os.path.join(train_path, file))\n",
        "    train_images.append(image)"
      ],
      "metadata": {
        "id": "TVwCwBit8Vbx"
      },
      "execution_count": 9,
      "outputs": []
    },
    {
      "cell_type": "code",
      "source": [
        "print(len(train_images))\n",
        "print(train_images[0].shape)"
      ],
      "metadata": {
        "colab": {
          "base_uri": "https://localhost:8080/"
        },
        "id": "zAiL1QN68UxX",
        "outputId": "c9f727eb-d7e9-4a99-e88b-a4d77a407449"
      },
      "execution_count": 10,
      "outputs": [
        {
          "output_type": "stream",
          "name": "stdout",
          "text": [
            "60000\n",
            "(28, 28)\n"
          ]
        }
      ]
    },
    {
      "cell_type": "code",
      "source": [
        "train_digits = []\n",
        "for file in train_image_files:\n",
        "    filename = os.path.basename(file)\n",
        "    digit = int(filename[0])\n",
        "    train_digits.append(digit)"
      ],
      "metadata": {
        "id": "Uxzgzdak8fHp"
      },
      "execution_count": 11,
      "outputs": []
    },
    {
      "cell_type": "code",
      "source": [
        "import numpy as np\n",
        "\n",
        "fig, axs = plt.subplots(nrows=3, ncols=10, figsize=(20, 6))\n",
        "for ax in axs.ravel():\n",
        "    idx_image = np.random.choice(60000)\n",
        "    ax.imshow(train_images[idx_image], cmap=\"Greys\")\n",
        "    ax.set_title(f\"Label: {train_digits[idx_image]}\", fontsize=20)\n",
        "    ax.axis(\"off\")\n",
        "plt.show()"
      ],
      "metadata": {
        "colab": {
          "base_uri": "https://localhost:8080/",
          "height": 474
        },
        "id": "1YzawLcZ8hlS",
        "outputId": "94897a61-2289-4b83-bdbb-e97a5d2b9057"
      },
      "execution_count": 12,
      "outputs": [
        {
          "output_type": "display_data",
          "data": {
            "text/plain": [
              "<Figure size 2000x600 with 30 Axes>"
            ],
            "image/png": "[encoded data removed]"
          },
          "metadata": {}
        }
      ]
    },
    {
      "cell_type": "markdown",
      "metadata": {
        "id": "xHD2oOYQ5ZUE"
      },
      "source": [
        "### Splitting the Dataset and Defining the Data Loaders\n",
        "\n",
        "Split the dataset, composed by ca. 27,000 cell images, into train (80%) and test (20%) sets ..."
      ]
    },
    {
      "cell_type": "code",
      "source": [
        "train_data = list(zip(train_images, train_digits))  # Create a list of (image, label) tuples"
      ],
      "metadata": {
        "id": "PshdUcIv_3NB"
      },
      "execution_count": 13,
      "outputs": []
    },
    {
      "cell_type": "code",
      "source": [
        "dataset = train_data # define the new data set"
      ],
      "metadata": {
        "id": "7GYSvE5U-Ttu"
      },
      "execution_count": 14,
      "outputs": []
    },
    {
      "cell_type": "code",
      "execution_count": 15,
      "metadata": {
        "id": "rjX7IcCM5ZUF"
      },
      "outputs": [],
      "source": [
        "train, test = torch.utils.data.random_split(dataset, [0.8, 0.2])"
      ]
    },
    {
      "cell_type": "markdown",
      "metadata": {
        "id": "LpB0O0Yx5ZUF"
      },
      "source": [
        "... and define the data loaders."
      ]
    },
    {
      "cell_type": "code",
      "execution_count": 16,
      "metadata": {
        "id": "0dxBPMb25ZUG"
      },
      "outputs": [],
      "source": [
        "train_loader = torch.utils.data.DataLoader(train, batch_size=32, shuffle=True)\n",
        "test_loader = torch.utils.data.DataLoader(test, batch_size=256, shuffle=False)"
      ]
    },
    {
      "cell_type": "markdown",
      "metadata": {
        "id": "Yu8aHcx75ZUH"
      },
      "source": [
        "## Classifying the Blood Smears with Dense Neural Networks\n",
        "\n",
        "Implement a dense neural network ..."
      ]
    },
    {
      "cell_type": "code",
      "execution_count": 17,
      "metadata": {
        "id": "a3cYV_NS5ZUH"
      },
      "outputs": [],
      "source": [
        "import deeplay as dl\n",
        "\n",
        "class MNISTClassifier(dl.Classifier):\n",
        "    def train_preprocess(self, batch):\n",
        "        images, labels = batch\n",
        "        # Reshape the images to be 1D tensors\n",
        "        images = images.view(images.size(0), -1)\n",
        "        # Explicitly convert labels to torch.int64\n",
        "        labels = labels.type(torch.int64)\n",
        "        return images, labels\n",
        "\n",
        "dnn = dl.MultiLayerPerceptron(\n",
        "    in_features=28 * 28, hidden_features=[128, 128], out_features=10, # change out_features to 10 for the 10 digits\n",
        "    out_activation=torch.nn.Softmax,\n",
        ")"
      ]
    },
    {
      "cell_type": "markdown",
      "metadata": {
        "id": "2i6McXZW5ZUI"
      },
      "source": [
        "... print out its detailed architecture ..."
      ]
    },
    {
      "cell_type": "code",
      "execution_count": 18,
      "metadata": {
        "colab": {
          "base_uri": "https://localhost:8080/"
        },
        "id": "WjfhzQUC5ZUI",
        "outputId": "e477577e-dbb5-4ec2-80ff-1b171092bb1d"
      },
      "outputs": [
        {
          "output_type": "stream",
          "name": "stdout",
          "text": [
            "MultiLayerPerceptron(\n",
            "  (blocks): LayerList(\n",
            "    (0): LinearBlock(\n",
            "      (layer): Layer[Linear](in_features=784, out_features=128, bias=True)\n",
            "      (activation): Layer[ReLU]()\n",
            "    )\n",
            "    (1): LinearBlock(\n",
            "      (layer): Layer[Linear](in_features=128, out_features=128, bias=True)\n",
            "      (activation): Layer[ReLU]()\n",
            "    )\n",
            "    (2): LinearBlock(\n",
            "      (layer): Layer[Linear](in_features=128, out_features=10, bias=True)\n",
            "      (activation): Layer[Softmax]()\n",
            "    )\n",
            "  )\n",
            ")\n"
          ]
        }
      ],
      "source": [
        "print(dnn)"
      ]
    },
    {
      "cell_type": "markdown",
      "metadata": {
        "id": "2eKlcqoy5ZUJ"
      },
      "source": [
        "... compile it ..."
      ]
    },
    {
      "cell_type": "code",
      "execution_count": 19,
      "metadata": {
        "colab": {
          "base_uri": "https://localhost:8080/"
        },
        "id": "weSodld65ZUJ",
        "outputId": "85c53bf2-c41e-4dfb-f245-1a4fd729cc3c"
      },
      "outputs": [
        {
          "output_type": "stream",
          "name": "stderr",
          "text": [
            "/usr/local/lib/python3.11/dist-packages/torch/nn/modules/module.py:1739: UserWarning: Implicit dimension choice for softmax has been deprecated. Change the call to include dim=X as an argument.\n",
            "  return self._call_impl(*args, **kwargs)\n"
          ]
        }
      ],
      "source": [
        "# dnn_classifier = dl.BinaryClassifier(\n",
        "#     model=dnn, optimizer=dl.RMSprop(lr=0.001),\n",
        "# ).create()\n",
        "\n",
        "from torch.nn import CrossEntropyLoss\n",
        "\n",
        "classifier_template = dl.Classifier(\n",
        "    model=dnn, num_classes=10, make_targets_one_hot=True,\n",
        "    loss=CrossEntropyLoss(),\n",
        ")\n",
        "dnn_classifier = classifier_template.create()"
      ]
    },
    {
      "cell_type": "markdown",
      "metadata": {
        "id": "6zOm8AgR5ZUK"
      },
      "source": [
        "... and print out the compiled dense neural network."
      ]
    },
    {
      "cell_type": "code",
      "execution_count": 20,
      "metadata": {
        "colab": {
          "base_uri": "https://localhost:8080/"
        },
        "id": "iolBIZgC5ZUK",
        "outputId": "04b4b1c0-5dca-4e6f-94e4-283faf07d060"
      },
      "outputs": [
        {
          "output_type": "stream",
          "name": "stdout",
          "text": [
            "Classifier(\n",
            "  (loss): CrossEntropyLoss()\n",
            "  (optimizer): Adam[Adam](lr=0.001)\n",
            "  (train_metrics): MetricCollection(\n",
            "    (MulticlassAccuracy): MulticlassAccuracy(),\n",
            "    prefix=train\n",
            "  )\n",
            "  (val_metrics): MetricCollection(\n",
            "    (MulticlassAccuracy): MulticlassAccuracy(),\n",
            "    prefix=val\n",
            "  )\n",
            "  (test_metrics): MetricCollection(\n",
            "    (MulticlassAccuracy): MulticlassAccuracy(),\n",
            "    prefix=test\n",
            "  )\n",
            "  (model): MultiLayerPerceptron(\n",
            "    (blocks): LayerList(\n",
            "      (0): LinearBlock(\n",
            "        (layer): Linear(in_features=784, out_features=128, bias=True)\n",
            "        (activation): ReLU()\n",
            "      )\n",
            "      (1): LinearBlock(\n",
            "        (layer): Linear(in_features=128, out_features=128, bias=True)\n",
            "        (activation): ReLU()\n",
            "      )\n",
            "      (2): LinearBlock(\n",
            "        (layer): Linear(in_features=128, out_features=10, bias=True)\n",
            "        (activation): Softmax(dim=None)\n",
            "      )\n",
            "    )\n",
            "  )\n",
            ")\n"
          ]
        }
      ],
      "source": [
        "print(dnn_classifier)"
      ]
    },
    {
      "cell_type": "markdown",
      "metadata": {
        "id": "gaaW4YYD5ZUK"
      },
      "source": [
        "The default loss of `dl.BinaryClassifier` is a binary cross-entropy loss."
      ]
    },
    {
      "cell_type": "markdown",
      "metadata": {
        "id": "JUvNQdJn5ZUL"
      },
      "source": [
        "### Training the Dense Neural Network"
      ]
    },
    {
      "cell_type": "code",
      "execution_count": 21,
      "metadata": {
        "colab": {
          "base_uri": "https://localhost:8080/",
          "height": 622,
          "referenced_widgets": [
            "6d4e2bb183244b009fecb2ae84e121e7",
            "1d68c918ad2d4d3f99859546a66e49f0",
            "c6d03cacb07749e7b33944bc0a59b454",
            "5ea7c022cf724a7cb029612d6e20044f",
            "bc06ff94173248d898f017bc8d9b17cc",
            "f3aa03f3536141809b6d93d758e1f6ea",
            "9b514b13afd447b79cfe2b5d5acd166e",
            "0fe186f10d5d4ffdad957edc588da1d5",
            "cb42000973594444ba7f98ca89825b65",
            "db3f1418c7d84e049e74f09771a7e08d",
            "37ec9d7021d34dfa8ed98e211a8d35f2"
          ]
        },
        "id": "mCnunbDT5ZUL",
        "outputId": "6581d990-4c62-4e33-f4e3-ba6ddbbf22a5"
      },
      "outputs": [
        {
          "output_type": "stream",
          "name": "stderr",
          "text": [
            "/usr/local/lib/python3.11/dist-packages/lightning/pytorch/trainer/configuration_validator.py:70: You defined a `validation_step` but have no `val_dataloader`. Skipping val loop.\n",
            "INFO: \n",
            "  | Name          | Type                 | Params | Mode \n",
            "---------------------------------------------------------------\n",
            "0 | loss          | CrossEntropyLoss     | 0      | train\n",
            "1 | train_metrics | MetricCollection     | 0      | train\n",
            "2 | val_metrics   | MetricCollection     | 0      | train\n",
            "3 | test_metrics  | MetricCollection     | 0      | train\n",
            "4 | model         | MultiLayerPerceptron | 118 K  | train\n",
            "5 | optimizer     | Adam                 | 0      | train\n",
            "---------------------------------------------------------------\n",
            "118 K     Trainable params\n",
            "0         Non-trainable params\n",
            "118 K     Total params\n",
            "0.473     Total estimated model params size (MB)\n",
            "19        Modules in train mode\n",
            "0         Modules in eval mode\n",
            "INFO:lightning.pytorch.callbacks.model_summary:\n",
            "  | Name          | Type                 | Params | Mode \n",
            "---------------------------------------------------------------\n",
            "0 | loss          | CrossEntropyLoss     | 0      | train\n",
            "1 | train_metrics | MetricCollection     | 0      | train\n",
            "2 | val_metrics   | MetricCollection     | 0      | train\n",
            "3 | test_metrics  | MetricCollection     | 0      | train\n",
            "4 | model         | MultiLayerPerceptron | 118 K  | train\n",
            "5 | optimizer     | Adam                 | 0      | train\n",
            "---------------------------------------------------------------\n",
            "118 K     Trainable params\n",
            "0         Non-trainable params\n",
            "118 K     Total params\n",
            "0.473     Total estimated model params size (MB)\n",
            "19        Modules in train mode\n",
            "0         Modules in eval mode\n"
          ]
        },
        {
          "output_type": "display_data",
          "data": {
            "text/plain": [
              "Training: |          | 0/? [00:00<?, ?it/s]"
            ],
            "application/vnd.jupyter.widget-view+json": {
              "version_major": 2,
              "version_minor": 0,
              "model_id": "6d4e2bb183244b009fecb2ae84e121e7"
            }
          },
          "metadata": {}
        }
      ],
      "source": [
        "dnn_trainer = dl.Trainer(max_epochs=5, accelerator=\"auto\")\n",
        "dnn_trainer.fit(dnn_classifier, train_loader)"
      ]
    },
    {
      "cell_type": "markdown",
      "metadata": {
        "id": "8X2vfgbh5ZUM"
      },
      "source": [
        "### Testing the Dense Neural Network"
      ]
    },
    {
      "cell_type": "code",
      "execution_count": 22,
      "metadata": {
        "colab": {
          "base_uri": "https://localhost:8080/",
          "height": 180,
          "referenced_widgets": [
            "49fb1be0f20e41d3bec791dc670aef38",
            "ad175bd9967d4db4be0463e3c4064e02",
            "99865536570141688fc99cf1fa1e28c5",
            "4c5f3139c32e413bb58ff46376116f96",
            "02078d204c034f0cafccb839ef696d71",
            "ea04574e56a14951bacfc566c755a9e7",
            "5f310feb46244f9684fba778becbb841",
            "1ed1d83a6b73461aabd0a76124a0cd6d",
            "185b0e77525b4a708935d1f184f14217",
            "6e0625bd81544e45b0b44a19e037e4c0",
            "99de5f664a7c4bef8dbddfde490ac3ad"
          ]
        },
        "id": "sXRkvj8W5ZUN",
        "outputId": "04916e70-5cdd-4c39-b067-f0481748b6ab"
      },
      "outputs": [
        {
          "output_type": "display_data",
          "data": {
            "text/plain": [
              "Testing: |          | 0/? [00:00<?, ?it/s]"
            ],
            "application/vnd.jupyter.widget-view+json": {
              "version_major": 2,
              "version_minor": 0,
              "model_id": "49fb1be0f20e41d3bec791dc670aef38"
            }
          },
          "metadata": {}
        },
        {
          "output_type": "display_data",
          "data": {
            "text/plain": [
              "┏━━━━━━━━━━━━━━━━━━━━━━━━━━━━━━┳━━━━━━━━━━━━━━━━━━━━━━━━━━━━━━┓\n",
              "┃\u001b[1m \u001b[0m\u001b[1m        Test metric         \u001b[0m\u001b[1m \u001b[0m┃\u001b[1m \u001b[0m\u001b[1m        DataLoader 0        \u001b[0m\u001b[1m \u001b[0m┃\n",
              "┡━━━━━━━━━━━━━━━━━━━━━━━━━━━━━━╇━━━━━━━━━━━━━━━━━━━━━━━━━━━━━━┩\n",
              "│\u001b[36m \u001b[0m\u001b[36mtestMulticlassAccuracy_epoch\u001b[0m\u001b[36m \u001b[0m│\u001b[35m \u001b[0m\u001b[35m     0.9625833630561829     \u001b[0m\u001b[35m \u001b[0m│\n",
              "│\u001b[36m \u001b[0m\u001b[36m      test_loss_epoch       \u001b[0m\u001b[36m \u001b[0m│\u001b[35m \u001b[0m\u001b[35m     1.4990946054458618     \u001b[0m\u001b[35m \u001b[0m│\n",
              "└──────────────────────────────┴──────────────────────────────┘\n"
            ],
            "text/html": [
              "<pre style=\"white-space:pre;overflow-x:auto;line-height:normal;font-family:Menlo,'DejaVu Sans Mono',consolas,'Courier New',monospace\">┏━━━━━━━━━━━━━━━━━━━━━━━━━━━━━━┳━━━━━━━━━━━━━━━━━━━━━━━━━━━━━━┓\n",
              "┃<span style=\"font-weight: bold\">         Test metric          </span>┃<span style=\"font-weight: bold\">         DataLoader 0         </span>┃\n",
              "┡━━━━━━━━━━━━━━━━━━━━━━━━━━━━━━╇━━━━━━━━━━━━━━━━━━━━━━━━━━━━━━┩\n",
              "│<span style=\"color: #008080; text-decoration-color: #008080\"> testMulticlassAccuracy_epoch </span>│<span style=\"color: #800080; text-decoration-color: #800080\">      0.9625833630561829      </span>│\n",
              "│<span style=\"color: #008080; text-decoration-color: #008080\">       test_loss_epoch        </span>│<span style=\"color: #800080; text-decoration-color: #800080\">      1.4990946054458618      </span>│\n",
              "└──────────────────────────────┴──────────────────────────────┘\n",
              "</pre>\n"
            ]
          },
          "metadata": {}
        },
        {
          "output_type": "execute_result",
          "data": {
            "text/plain": [
              "[{'test_loss_epoch': 1.4990946054458618,\n",
              "  'testMulticlassAccuracy_epoch': 0.9625833630561829}]"
            ]
          },
          "metadata": {},
          "execution_count": 22
        }
      ],
      "source": [
        "dnn_trainer.test(dnn_classifier, test_loader)"
      ]
    },
    {
      "cell_type": "markdown",
      "metadata": {
        "id": "KOFCOPHA5ZUN"
      },
      "source": [
        "### Plotting the ROC Curve\n",
        "\n",
        "Implement a function to plot the ROC curve ..."
      ]
    },
    {
      "cell_type": "code",
      "execution_count": 25,
      "metadata": {
        "id": "6nYc01ko5ZUN"
      },
      "outputs": [],
      "source": [
        "import torchmetrics as tm\n",
        "\n",
        "def plot_roc(classifier, loader):\n",
        "    \"\"\"Plot ROC curve.\"\"\"\n",
        "    roc = tm.ROC(task=\"multiclass\", num_classes=10)\n",
        "    for image, label in loader:\n",
        "        roc.update(classifier(image), label.long())\n",
        "\n",
        "    fig, ax = roc.plot(score=True)\n",
        "    ax.grid(False)\n",
        "    ax.axis(\"square\")\n",
        "    ax.set_xlim(0, 1)\n",
        "    ax.set_ylim(0, 1)\n",
        "    ax.legend(loc=\"center right\")\n",
        "    plt.show()"
      ]
    },
    {
      "cell_type": "markdown",
      "metadata": {
        "id": "n32y7wvX5ZUO"
      },
      "source": [
        "... and use it to plot the performance of the classifier based on a dense neural network."
      ]
    },
    {
      "cell_type": "code",
      "execution_count": 26,
      "metadata": {
        "colab": {
          "base_uri": "https://localhost:8080/",
          "height": 472
        },
        "id": "KFrv9fIX5ZUO",
        "outputId": "7066220c-0c8b-4cc7-95fa-2e002cd53471"
      },
      "outputs": [
        {
          "output_type": "display_data",
          "data": {
            "text/plain": [
              "<Figure size 640x480 with 1 Axes>"
            ],
            "image/png": "[encoded data removed]"
          },
          "metadata": {}
        }
      ],
      "source": [
        "plot_roc(dnn_classifier, test_loader)"
      ]
    },
    {
      "cell_type": "markdown",
      "metadata": {
        "id": "vTeIYb1F5ZUO"
      },
      "source": [
        "## Classifying the Blood Smears with Convolutional Neural Networks\n",
        "\n",
        "Implement a convolutional neural network with a dense top ..."
      ]
    },
    {
      "cell_type": "code",
      "execution_count": null,
      "metadata": {
        "id": "dD-fSmuq5ZUP"
      },
      "outputs": [],
      "source": [
        "conv_base = dl.ConvolutionalNeuralNetwork(\n",
        "    in_channels=3, hidden_channels=[16, 16, 32], out_channels=32,\n",
        ")\n",
        "conv_base.blocks[2].pool.configure(torch.nn.MaxPool2d, kernel_size=2)\n",
        "\n",
        "connector = dl.Layer(torch.nn.AdaptiveAvgPool2d, output_size=1)\n",
        "\n",
        "dense_top = dl.MultiLayerPerceptron(\n",
        "    in_features=32, hidden_features=[], out_features=1,\n",
        "    out_activation=torch.nn.Sigmoid,\n",
        ")\n",
        "\n",
        "cnn = dl.Sequential(conv_base, connector, dense_top)"
      ]
    },
    {
      "cell_type": "markdown",
      "metadata": {
        "id": "5ts0aBVs5ZUQ"
      },
      "source": [
        "... print out its detailed architecture ..."
      ]
    },
    {
      "cell_type": "code",
      "execution_count": null,
      "metadata": {
        "id": "18Rk2hMo5ZUQ"
      },
      "outputs": [],
      "source": [
        "print(cnn)"
      ]
    },
    {
      "cell_type": "markdown",
      "metadata": {
        "id": "bcbn2BgY5ZUR"
      },
      "source": [
        "... compile it ..."
      ]
    },
    {
      "cell_type": "code",
      "execution_count": null,
      "metadata": {
        "id": "XbsLtgbm5ZUR"
      },
      "outputs": [],
      "source": [
        "cnn_classifier = dl.BinaryClassifier(\n",
        "    model=cnn, optimizer=dl.RMSprop(lr=0.001),\n",
        ").create()"
      ]
    },
    {
      "cell_type": "markdown",
      "metadata": {
        "id": "mCli6out5ZUR"
      },
      "source": [
        "... and print out the compiled convolutional neural network."
      ]
    },
    {
      "cell_type": "code",
      "execution_count": null,
      "metadata": {
        "id": "0iHwbHXe5ZUS"
      },
      "outputs": [],
      "source": [
        "print(cnn_classifier)"
      ]
    },
    {
      "cell_type": "markdown",
      "metadata": {
        "id": "v4h0t0ww5ZUS"
      },
      "source": [
        "### Training the Convolutional Neural Network"
      ]
    },
    {
      "cell_type": "code",
      "execution_count": null,
      "metadata": {
        "id": "5-S_nmRv5ZUS"
      },
      "outputs": [],
      "source": [
        "cnn_trainer = dl.Trainer(max_epochs=5, accelerator=\"auto\")\n",
        "cnn_trainer.fit(cnn_classifier, train_loader)"
      ]
    },
    {
      "cell_type": "markdown",
      "metadata": {
        "id": "9hDfRJ5c5ZUT"
      },
      "source": [
        "### Testing the Convolutional Neural Network"
      ]
    },
    {
      "cell_type": "code",
      "execution_count": null,
      "metadata": {
        "id": "k6yuDNRD5ZUU"
      },
      "outputs": [],
      "source": [
        "cnn_trainer.test(cnn_classifier, test_loader)"
      ]
    },
    {
      "cell_type": "markdown",
      "metadata": {
        "id": "409-AabS5ZUU"
      },
      "source": [
        "### Plotting the ROC Curve"
      ]
    },
    {
      "cell_type": "code",
      "execution_count": null,
      "metadata": {
        "id": "FuA_q3qk5ZUV"
      },
      "outputs": [],
      "source": [
        "plot_roc(cnn_classifier, test_loader)"
      ]
    },
    {
      "cell_type": "markdown",
      "metadata": {
        "id": "LXAeB81y5ZUV"
      },
      "source": [
        "### Checking the Values of the Filters\n",
        "\n",
        "The following code accesses the 32nd filter's weights in the first convolutional layer of the CNN. It navigates through the model's first module (`model[0]`), selects the initial block (`blocks[0]`), and then targets the layer's weights (`layer.weight[15]`)."
      ]
    },
    {
      "cell_type": "code",
      "execution_count": null,
      "metadata": {
        "id": "ZB8tpcpA5ZUW"
      },
      "outputs": [],
      "source": [
        "filter = cnn_classifier.model[0].blocks[0].layer.weight[15]\n",
        "\n",
        "print(filter)"
      ]
    },
    {
      "cell_type": "markdown",
      "metadata": {
        "id": "W1zqRuij5ZUW"
      },
      "source": [
        "### Visualizing the Activations of the Convolutional Layers\n",
        "\n",
        "Pick the image of an infected smear to then check the activations it produces on the last convolutional layer ..."
      ]
    },
    {
      "cell_type": "code",
      "execution_count": null,
      "metadata": {
        "id": "RqJgnCWR5ZUX"
      },
      "outputs": [],
      "source": [
        "from PIL import Image\n",
        "\n",
        "im_ind = 0\n",
        "image_filename = dataset.samples[im_ind][0]\n",
        "image_hr = Image.open(image_filename)\n",
        "image = image_trans(image_hr)"
      ]
    },
    {
      "cell_type": "markdown",
      "metadata": {
        "id": "GTlPEwPc5ZUX"
      },
      "source": [
        "... verify whether this image is of a parasitized cell ..."
      ]
    },
    {
      "cell_type": "code",
      "execution_count": null,
      "metadata": {
        "id": "xJLY2Wj15ZUY"
      },
      "outputs": [],
      "source": [
        "print(label_trans(dataset.targets[im_ind]))"
      ]
    },
    {
      "cell_type": "markdown",
      "metadata": {
        "id": "gZ8OTIGt5ZUY"
      },
      "source": [
        "... define a function to visualize the activations ..."
      ]
    },
    {
      "cell_type": "code",
      "execution_count": null,
      "metadata": {
        "id": "6heKlVqB5ZUY"
      },
      "outputs": [],
      "source": [
        "def plot_activations(activations, cols=8):\n",
        "    \"\"\"Visualize activations.\"\"\"\n",
        "    rows = -(activations.shape[0] // -cols)\n",
        "\n",
        "    fig, axs = plt.subplots(rows, cols, figsize=(2 * cols, 2 * rows))\n",
        "    for i, ax in enumerate(axs.ravel()):\n",
        "        ax.axis(\"off\")\n",
        "        if i < activations.shape[0]:\n",
        "            ax.imshow(activations[i].numpy())\n",
        "            ax.set_title(i, fontsize=16)\n",
        "    plt.show()"
      ]
    },
    {
      "cell_type": "markdown",
      "metadata": {
        "id": "rzR5UvzT5ZUZ"
      },
      "source": [
        "... add a hook to access the activations in the forward pass ...\n"
      ]
    },
    {
      "cell_type": "code",
      "execution_count": null,
      "metadata": {
        "id": "RMIiR86P5ZUZ"
      },
      "outputs": [],
      "source": [
        "def hook_func(layer, input, output):\n",
        "    \"\"\"Hook for activations.\"\"\"\n",
        "    activations = output.detach().clone()\n",
        "    plot_activations(activations[0])\n",
        "\n",
        "for block in cnn_classifier.model[0].blocks:\n",
        "    layer = block.layer\n",
        "    handle_hook = layer.register_forward_hook(hook_func)\n",
        "\n",
        "    try:\n",
        "        pred = cnn_classifier.model(image.unsqueeze(0))\n",
        "    except Exception as e:\n",
        "        print(f\"An error occurred during model prediction: {e}\")\n",
        "    finally:\n",
        "        handle_hook.remove()"
      ]
    },
    {
      "cell_type": "markdown",
      "metadata": {
        "id": "LUvAB7Lc5ZUa"
      },
      "source": [
        "### Visualizing the Heatmaps\n",
        "\n",
        "Use hooks to keep tracks also of the gradients in the backward pass ..."
      ]
    },
    {
      "cell_type": "code",
      "execution_count": null,
      "metadata": {
        "id": "Y3BQP-rm5ZUa"
      },
      "outputs": [],
      "source": [
        "hookdata = {}\n",
        "\n",
        "def fwd_hook_func(layer, input, output):\n",
        "    \"\"\"Forward hook function.\"\"\"\n",
        "    hookdata[\"activations\"] = output.detach().clone()\n",
        "\n",
        "def bwd_hook_func(layer, grad_input, grad_output):\n",
        "    \"\"\"Backward hook function.\"\"\"\n",
        "    hookdata[\"gradients\"] = grad_output[0].detach().clone()\n",
        "\n",
        "layer = cnn_classifier.model[0].blocks[3].layer\n",
        "handle_fwd_hook = layer.register_forward_hook(fwd_hook_func)\n",
        "handle_bwd_hook = layer.register_full_backward_hook(bwd_hook_func)\n",
        "\n",
        "try:\n",
        "    pred = cnn_classifier.model(image.unsqueeze(0))\n",
        "    pred.sum().backward()\n",
        "except Exception as e:\n",
        "    print(f\"An error occurred during model prediction: {e}\")\n",
        "finally:\n",
        "    handle_fwd_hook.remove()\n",
        "    handle_bwd_hook.remove()"
      ]
    },
    {
      "cell_type": "markdown",
      "metadata": {
        "id": "Kmtw_0-U5ZUa"
      },
      "source": [
        "... calculate the heatmap combining activations and gradients ..."
      ]
    },
    {
      "cell_type": "code",
      "execution_count": null,
      "metadata": {
        "id": "eDyTW3_d5ZUb"
      },
      "outputs": [],
      "source": [
        "from torch.nn.functional import relu\n",
        "\n",
        "activations = hookdata[\"activations\"][0]\n",
        "gradients = hookdata[\"gradients\"][0]\n",
        "\n",
        "pooled_gradients = gradients.mean(dim=[1, 2], keepdim=True)\n",
        "heatmap = relu((pooled_gradients * activations).sum(0)).detach().numpy()"
      ]
    },
    {
      "cell_type": "markdown",
      "metadata": {
        "id": "Ya1DRRbq5ZUb"
      },
      "source": [
        "... and plot the heatmap."
      ]
    },
    {
      "cell_type": "code",
      "execution_count": null,
      "metadata": {
        "id": "PVG8S6j_5ZUc"
      },
      "outputs": [],
      "source": [
        "from numpy import array\n",
        "from skimage.exposure import rescale_intensity\n",
        "from skimage.transform import resize\n",
        "\n",
        "rescaled_image = rescale_intensity(array(image_hr), out_range=(0, 1))\n",
        "resized_heatmap = resize(heatmap, rescaled_image.shape, order=2)\n",
        "rescaled_heatmap = rescale_intensity(resized_heatmap, out_range=(0.25, 1))\n",
        "\n",
        "plt.figure(figsize=(12, 5))\n",
        "\n",
        "plt.subplot(1, 3, 1)\n",
        "plt.imshow(rescaled_image, interpolation=\"bilinear\")\n",
        "plt.title(\"Original image\", fontsize=16)\n",
        "plt.axis(\"off\")\n",
        "\n",
        "plt.subplot(1, 3, 2)\n",
        "plt.imshow(rescaled_heatmap.mean(axis=-1), interpolation=\"bilinear\")\n",
        "plt.title(\"Heatmap with Grad-CAM\", fontsize=16)\n",
        "plt.axis(\"off\")\n",
        "\n",
        "plt.subplot(1, 3, 3)\n",
        "plt.imshow(rescaled_image * rescaled_heatmap)\n",
        "plt.title(\"Overlay\", fontsize=16)\n",
        "plt.axis(\"off\")\n",
        "\n",
        "plt.show()"
      ]
    }
  ],
  "metadata": {
    "kernelspec": {
      "display_name": "py_env_book",
      "language": "python",
      "name": "python3"
    },
    "language_info": {
      "codemirror_mode": {
        "name": "ipython",
        "version": 3
      },
      "file_extension": ".py",
      "mimetype": "text/x-python",
      "name": "python",
      "nbconvert_exporter": "python",
      "pygments_lexer": "ipython3",
      "version": "3.10.15"
    },
    "colab": {
      "provenance": []
    },
    "widgets": {
      "application/vnd.jupyter.widget-state+json": {
        "6d4e2bb183244b009fecb2ae84e121e7": {
          "model_module": "@jupyter-widgets/controls",
          "model_name": "HBoxModel",
          "model_module_version": "1.5.0",
          "state": {
            "_dom_classes": [],
            "_model_module": "@jupyter-widgets/controls",
            "_model_module_version": "1.5.0",
            "_model_name": "HBoxModel",
            "_view_count": null,
            "_view_module": "@jupyter-widgets/controls",
            "_view_module_version": "1.5.0",
            "_view_name": "HBoxView",
            "box_style": "",
            "children": [
              "IPY_MODEL_1d68c918ad2d4d3f99859546a66e49f0",
              "IPY_MODEL_c6d03cacb07749e7b33944bc0a59b454",
              "IPY_MODEL_5ea7c022cf724a7cb029612d6e20044f"
            ],
            "layout": "IPY_MODEL_bc06ff94173248d898f017bc8d9b17cc"
          }
        },
        "1d68c918ad2d4d3f99859546a66e49f0": {
          "model_module": "@jupyter-widgets/controls",
          "model_name": "HTMLModel",
          "model_module_version": "1.5.0",
          "state": {
            "_dom_classes": [],
            "_model_module": "@jupyter-widgets/controls",
            "_model_module_version": "1.5.0",
            "_model_name": "HTMLModel",
            "_view_count": null,
            "_view_module": "@jupyter-widgets/controls",
            "_view_module_version": "1.5.0",
            "_view_name": "HTMLView",
            "description": "",
            "description_tooltip": null,
            "layout": "IPY_MODEL_f3aa03f3536141809b6d93d758e1f6ea",
            "placeholder": "​",
            "style": "IPY_MODEL_9b514b13afd447b79cfe2b5d5acd166e",
            "value": "Epoch 4: 100%"
          }
        },
        "c6d03cacb07749e7b33944bc0a59b454": {
          "model_module": "@jupyter-widgets/controls",
          "model_name": "FloatProgressModel",
          "model_module_version": "1.5.0",
          "state": {
            "_dom_classes": [],
            "_model_module": "@jupyter-widgets/controls",
            "_model_module_version": "1.5.0",
            "_model_name": "FloatProgressModel",
            "_view_count": null,
            "_view_module": "@jupyter-widgets/controls",
            "_view_module_version": "1.5.0",
            "_view_name": "ProgressView",
            "bar_style": "success",
            "description": "",
            "description_tooltip": null,
            "layout": "IPY_MODEL_0fe186f10d5d4ffdad957edc588da1d5",
            "max": 1500,
            "min": 0,
            "orientation": "horizontal",
            "style": "IPY_MODEL_cb42000973594444ba7f98ca89825b65",
            "value": 1500
          }
        },
        "5ea7c022cf724a7cb029612d6e20044f": {
          "model_module": "@jupyter-widgets/controls",
          "model_name": "HTMLModel",
          "model_module_version": "1.5.0",
          "state": {
            "_dom_classes": [],
            "_model_module": "@jupyter-widgets/controls",
            "_model_module_version": "1.5.0",
            "_model_name": "HTMLModel",
            "_view_count": null,
            "_view_module": "@jupyter-widgets/controls",
            "_view_module_version": "1.5.0",
            "_view_name": "HTMLView",
            "description": "",
            "description_tooltip": null,
            "layout": "IPY_MODEL_db3f1418c7d84e049e74f09771a7e08d",
            "placeholder": "​",
            "style": "IPY_MODEL_37ec9d7021d34dfa8ed98e211a8d35f2",
            "value": " 1500/1500 [00:18&lt;00:00, 79.86it/s, v_num=19, train_loss_step=1.560, trainMulticlassAccuracy_step=0.906, train_loss_epoch=1.500, trainMulticlassAccuracy_epoch=0.967]"
          }
        },
        "bc06ff94173248d898f017bc8d9b17cc": {
          "model_module": "@jupyter-widgets/base",
          "model_name": "LayoutModel",
          "model_module_version": "1.2.0",
          "state": {
            "_model_module": "@jupyter-widgets/base",
            "_model_module_version": "1.2.0",
            "_model_name": "LayoutModel",
            "_view_count": null,
            "_view_module": "@jupyter-widgets/base",
            "_view_module_version": "1.2.0",
            "_view_name": "LayoutView",
            "align_content": null,
            "align_items": null,
            "align_self": null,
            "border": null,
            "bottom": null,
            "display": "inline-flex",
            "flex": null,
            "flex_flow": "row wrap",
            "grid_area": null,
            "grid_auto_columns": null,
            "grid_auto_flow": null,
            "grid_auto_rows": null,
            "grid_column": null,
            "grid_gap": null,
            "grid_row": null,
            "grid_template_areas": null,
            "grid_template_columns": null,
            "grid_template_rows": null,
            "height": null,
            "justify_content": null,
            "justify_items": null,
            "left": null,
            "margin": null,
            "max_height": null,
            "max_width": null,
            "min_height": null,
            "min_width": null,
            "object_fit": null,
            "object_position": null,
            "order": null,
            "overflow": null,
            "overflow_x": null,
            "overflow_y": null,
            "padding": null,
            "right": null,
            "top": null,
            "visibility": null,
            "width": "100%"
          }
        },
        "f3aa03f3536141809b6d93d758e1f6ea": {
          "model_module": "@jupyter-widgets/base",
          "model_name": "LayoutModel",
          "model_module_version": "1.2.0",
          "state": {
            "_model_module": "@jupyter-widgets/base",
            "_model_module_version": "1.2.0",
            "_model_name": "LayoutModel",
            "_view_count": null,
            "_view_module": "@jupyter-widgets/base",
            "_view_module_version": "1.2.0",
            "_view_name": "LayoutView",
            "align_content": null,
            "align_items": null,
            "align_self": null,
            "border": null,
            "bottom": null,
            "display": null,
            "flex": null,
            "flex_flow": null,
            "grid_area": null,
            "grid_auto_columns": null,
            "grid_auto_flow": null,
            "grid_auto_rows": null,
            "grid_column": null,
            "grid_gap": null,
            "grid_row": null,
            "grid_template_areas": null,
            "grid_template_columns": null,
            "grid_template_rows": null,
            "height": null,
            "justify_content": null,
            "justify_items": null,
            "left": null,
            "margin": null,
            "max_height": null,
            "max_width": null,
            "min_height": null,
            "min_width": null,
            "object_fit": null,
            "object_position": null,
            "order": null,
            "overflow": null,
            "overflow_x": null,
            "overflow_y": null,
            "padding": null,
            "right": null,
            "top": null,
            "visibility": null,
            "width": null
          }
        },
        "9b514b13afd447b79cfe2b5d5acd166e": {
          "model_module": "@jupyter-widgets/controls",
          "model_name": "DescriptionStyleModel",
          "model_module_version": "1.5.0",
          "state": {
            "_model_module": "@jupyter-widgets/controls",
            "_model_module_version": "1.5.0",
            "_model_name": "DescriptionStyleModel",
            "_view_count": null,
            "_view_module": "@jupyter-widgets/base",
            "_view_module_version": "1.2.0",
            "_view_name": "StyleView",
            "description_width": ""
          }
        },
        "0fe186f10d5d4ffdad957edc588da1d5": {
          "model_module": "@jupyter-widgets/base",
          "model_name": "LayoutModel",
          "model_module_version": "1.2.0",
          "state": {
            "_model_module": "@jupyter-widgets/base",
            "_model_module_version": "1.2.0",
            "_model_name": "LayoutModel",
            "_view_count": null,
            "_view_module": "@jupyter-widgets/base",
            "_view_module_version": "1.2.0",
            "_view_name": "LayoutView",
            "align_content": null,
            "align_items": null,
            "align_self": null,
            "border": null,
            "bottom": null,
            "display": null,
            "flex": "2",
            "flex_flow": null,
            "grid_area": null,
            "grid_auto_columns": null,
            "grid_auto_flow": null,
            "grid_auto_rows": null,
            "grid_column": null,
            "grid_gap": null,
            "grid_row": null,
            "grid_template_areas": null,
            "grid_template_columns": null,
            "grid_template_rows": null,
            "height": null,
            "justify_content": null,
            "justify_items": null,
            "left": null,
            "margin": null,
            "max_height": null,
            "max_width": null,
            "min_height": null,
            "min_width": null,
            "object_fit": null,
            "object_position": null,
            "order": null,
            "overflow": null,
            "overflow_x": null,
            "overflow_y": null,
            "padding": null,
            "right": null,
            "top": null,
            "visibility": null,
            "width": null
          }
        },
        "cb42000973594444ba7f98ca89825b65": {
          "model_module": "@jupyter-widgets/controls",
          "model_name": "ProgressStyleModel",
          "model_module_version": "1.5.0",
          "state": {
            "_model_module": "@jupyter-widgets/controls",
            "_model_module_version": "1.5.0",
            "_model_name": "ProgressStyleModel",
            "_view_count": null,
            "_view_module": "@jupyter-widgets/base",
            "_view_module_version": "1.2.0",
            "_view_name": "StyleView",
            "bar_color": null,
            "description_width": ""
          }
        },
        "db3f1418c7d84e049e74f09771a7e08d": {
          "model_module": "@jupyter-widgets/base",
          "model_name": "LayoutModel",
          "model_module_version": "1.2.0",
          "state": {
            "_model_module": "@jupyter-widgets/base",
            "_model_module_version": "1.2.0",
            "_model_name": "LayoutModel",
            "_view_count": null,
            "_view_module": "@jupyter-widgets/base",
            "_view_module_version": "1.2.0",
            "_view_name": "LayoutView",
            "align_content": null,
            "align_items": null,
            "align_self": null,
            "border": null,
            "bottom": null,
            "display": null,
            "flex": null,
            "flex_flow": null,
            "grid_area": null,
            "grid_auto_columns": null,
            "grid_auto_flow": null,
            "grid_auto_rows": null,
            "grid_column": null,
            "grid_gap": null,
            "grid_row": null,
            "grid_template_areas": null,
            "grid_template_columns": null,
            "grid_template_rows": null,
            "height": null,
            "justify_content": null,
            "justify_items": null,
            "left": null,
            "margin": null,
            "max_height": null,
            "max_width": null,
            "min_height": null,
            "min_width": null,
            "object_fit": null,
            "object_position": null,
            "order": null,
            "overflow": null,
            "overflow_x": null,
            "overflow_y": null,
            "padding": null,
            "right": null,
            "top": null,
            "visibility": null,
            "width": null
          }
        },
        "37ec9d7021d34dfa8ed98e211a8d35f2": {
          "model_module": "@jupyter-widgets/controls",
          "model_name": "DescriptionStyleModel",
          "model_module_version": "1.5.0",
          "state": {
            "_model_module": "@jupyter-widgets/controls",
            "_model_module_version": "1.5.0",
            "_model_name": "DescriptionStyleModel",
            "_view_count": null,
            "_view_module": "@jupyter-widgets/base",
            "_view_module_version": "1.2.0",
            "_view_name": "StyleView",
            "description_width": ""
          }
        },
        "49fb1be0f20e41d3bec791dc670aef38": {
          "model_module": "@jupyter-widgets/controls",
          "model_name": "HBoxModel",
          "model_module_version": "1.5.0",
          "state": {
            "_dom_classes": [],
            "_model_module": "@jupyter-widgets/controls",
            "_model_module_version": "1.5.0",
            "_model_name": "HBoxModel",
            "_view_count": null,
            "_view_module": "@jupyter-widgets/controls",
            "_view_module_version": "1.5.0",
            "_view_name": "HBoxView",
            "box_style": "",
            "children": [
              "IPY_MODEL_ad175bd9967d4db4be0463e3c4064e02",
              "IPY_MODEL_99865536570141688fc99cf1fa1e28c5",
              "IPY_MODEL_4c5f3139c32e413bb58ff46376116f96"
            ],
            "layout": "IPY_MODEL_02078d204c034f0cafccb839ef696d71"
          }
        },
        "ad175bd9967d4db4be0463e3c4064e02": {
          "model_module": "@jupyter-widgets/controls",
          "model_name": "HTMLModel",
          "model_module_version": "1.5.0",
          "state": {
            "_dom_classes": [],
            "_model_module": "@jupyter-widgets/controls",
            "_model_module_version": "1.5.0",
            "_model_name": "HTMLModel",
            "_view_count": null,
            "_view_module": "@jupyter-widgets/controls",
            "_view_module_version": "1.5.0",
            "_view_name": "HTMLView",
            "description": "",
            "description_tooltip": null,
            "layout": "IPY_MODEL_ea04574e56a14951bacfc566c755a9e7",
            "placeholder": "​",
            "style": "IPY_MODEL_5f310feb46244f9684fba778becbb841",
            "value": "Testing DataLoader 0: 100%"
          }
        },
        "99865536570141688fc99cf1fa1e28c5": {
          "model_module": "@jupyter-widgets/controls",
          "model_name": "FloatProgressModel",
          "model_module_version": "1.5.0",
          "state": {
            "_dom_classes": [],
            "_model_module": "@jupyter-widgets/controls",
            "_model_module_version": "1.5.0",
            "_model_name": "FloatProgressModel",
            "_view_count": null,
            "_view_module": "@jupyter-widgets/controls",
            "_view_module_version": "1.5.0",
            "_view_name": "ProgressView",
            "bar_style": "success",
            "description": "",
            "description_tooltip": null,
            "layout": "IPY_MODEL_1ed1d83a6b73461aabd0a76124a0cd6d",
            "max": 47,
            "min": 0,
            "orientation": "horizontal",
            "style": "IPY_MODEL_185b0e77525b4a708935d1f184f14217",
            "value": 47
          }
        },
        "4c5f3139c32e413bb58ff46376116f96": {
          "model_module": "@jupyter-widgets/controls",
          "model_name": "HTMLModel",
          "model_module_version": "1.5.0",
          "state": {
            "_dom_classes": [],
            "_model_module": "@jupyter-widgets/controls",
            "_model_module_version": "1.5.0",
            "_model_name": "HTMLModel",
            "_view_count": null,
            "_view_module": "@jupyter-widgets/controls",
            "_view_module_version": "1.5.0",
            "_view_name": "HTMLView",
            "description": "",
            "description_tooltip": null,
            "layout": "IPY_MODEL_6e0625bd81544e45b0b44a19e037e4c0",
            "placeholder": "​",
            "style": "IPY_MODEL_99de5f664a7c4bef8dbddfde490ac3ad",
            "value": " 47/47 [00:00&lt;00:00, 106.69it/s]"
          }
        },
        "02078d204c034f0cafccb839ef696d71": {
          "model_module": "@jupyter-widgets/base",
          "model_name": "LayoutModel",
          "model_module_version": "1.2.0",
          "state": {
            "_model_module": "@jupyter-widgets/base",
            "_model_module_version": "1.2.0",
            "_model_name": "LayoutModel",
            "_view_count": null,
            "_view_module": "@jupyter-widgets/base",
            "_view_module_version": "1.2.0",
            "_view_name": "LayoutView",
            "align_content": null,
            "align_items": null,
            "align_self": null,
            "border": null,
            "bottom": null,
            "display": "inline-flex",
            "flex": null,
            "flex_flow": "row wrap",
            "grid_area": null,
            "grid_auto_columns": null,
            "grid_auto_flow": null,
            "grid_auto_rows": null,
            "grid_column": null,
            "grid_gap": null,
            "grid_row": null,
            "grid_template_areas": null,
            "grid_template_columns": null,
            "grid_template_rows": null,
            "height": null,
            "justify_content": null,
            "justify_items": null,
            "left": null,
            "margin": null,
            "max_height": null,
            "max_width": null,
            "min_height": null,
            "min_width": null,
            "object_fit": null,
            "object_position": null,
            "order": null,
            "overflow": null,
            "overflow_x": null,
            "overflow_y": null,
            "padding": null,
            "right": null,
            "top": null,
            "visibility": null,
            "width": "100%"
          }
        },
        "ea04574e56a14951bacfc566c755a9e7": {
          "model_module": "@jupyter-widgets/base",
          "model_name": "LayoutModel",
          "model_module_version": "1.2.0",
          "state": {
            "_model_module": "@jupyter-widgets/base",
            "_model_module_version": "1.2.0",
            "_model_name": "LayoutModel",
            "_view_count": null,
            "_view_module": "@jupyter-widgets/base",
            "_view_module_version": "1.2.0",
            "_view_name": "LayoutView",
            "align_content": null,
            "align_items": null,
            "align_self": null,
            "border": null,
            "bottom": null,
            "display": null,
            "flex": null,
            "flex_flow": null,
            "grid_area": null,
            "grid_auto_columns": null,
            "grid_auto_flow": null,
            "grid_auto_rows": null,
            "grid_column": null,
            "grid_gap": null,
            "grid_row": null,
            "grid_template_areas": null,
            "grid_template_columns": null,
            "grid_template_rows": null,
            "height": null,
            "justify_content": null,
            "justify_items": null,
            "left": null,
            "margin": null,
            "max_height": null,
            "max_width": null,
            "min_height": null,
            "min_width": null,
            "object_fit": null,
            "object_position": null,
            "order": null,
            "overflow": null,
            "overflow_x": null,
            "overflow_y": null,
            "padding": null,
            "right": null,
            "top": null,
            "visibility": null,
            "width": null
          }
        },
        "5f310feb46244f9684fba778becbb841": {
          "model_module": "@jupyter-widgets/controls",
          "model_name": "DescriptionStyleModel",
          "model_module_version": "1.5.0",
          "state": {
            "_model_module": "@jupyter-widgets/controls",
            "_model_module_version": "1.5.0",
            "_model_name": "DescriptionStyleModel",
            "_view_count": null,
            "_view_module": "@jupyter-widgets/base",
            "_view_module_version": "1.2.0",
            "_view_name": "StyleView",
            "description_width": ""
          }
        },
        "1ed1d83a6b73461aabd0a76124a0cd6d": {
          "model_module": "@jupyter-widgets/base",
          "model_name": "LayoutModel",
          "model_module_version": "1.2.0",
          "state": {
            "_model_module": "@jupyter-widgets/base",
            "_model_module_version": "1.2.0",
            "_model_name": "LayoutModel",
            "_view_count": null,
            "_view_module": "@jupyter-widgets/base",
            "_view_module_version": "1.2.0",
            "_view_name": "LayoutView",
            "align_content": null,
            "align_items": null,
            "align_self": null,
            "border": null,
            "bottom": null,
            "display": null,
            "flex": "2",
            "flex_flow": null,
            "grid_area": null,
            "grid_auto_columns": null,
            "grid_auto_flow": null,
            "grid_auto_rows": null,
            "grid_column": null,
            "grid_gap": null,
            "grid_row": null,
            "grid_template_areas": null,
            "grid_template_columns": null,
            "grid_template_rows": null,
            "height": null,
            "justify_content": null,
            "justify_items": null,
            "left": null,
            "margin": null,
            "max_height": null,
            "max_width": null,
            "min_height": null,
            "min_width": null,
            "object_fit": null,
            "object_position": null,
            "order": null,
            "overflow": null,
            "overflow_x": null,
            "overflow_y": null,
            "padding": null,
            "right": null,
            "top": null,
            "visibility": null,
            "width": null
          }
        },
        "185b0e77525b4a708935d1f184f14217": {
          "model_module": "@jupyter-widgets/controls",
          "model_name": "ProgressStyleModel",
          "model_module_version": "1.5.0",
          "state": {
            "_model_module": "@jupyter-widgets/controls",
            "_model_module_version": "1.5.0",
            "_model_name": "ProgressStyleModel",
            "_view_count": null,
            "_view_module": "@jupyter-widgets/base",
            "_view_module_version": "1.2.0",
            "_view_name": "StyleView",
            "bar_color": null,
            "description_width": ""
          }
        },
        "6e0625bd81544e45b0b44a19e037e4c0": {
          "model_module": "@jupyter-widgets/base",
          "model_name": "LayoutModel",
          "model_module_version": "1.2.0",
          "state": {
            "_model_module": "@jupyter-widgets/base",
            "_model_module_version": "1.2.0",
            "_model_name": "LayoutModel",
            "_view_count": null,
            "_view_module": "@jupyter-widgets/base",
            "_view_module_version": "1.2.0",
            "_view_name": "LayoutView",
            "align_content": null,
            "align_items": null,
            "align_self": null,
            "border": null,
            "bottom": null,
            "display": null,
            "flex": null,
            "flex_flow": null,
            "grid_area": null,
            "grid_auto_columns": null,
            "grid_auto_flow": null,
            "grid_auto_rows": null,
            "grid_column": null,
            "grid_gap": null,
            "grid_row": null,
            "grid_template_areas": null,
            "grid_template_columns": null,
            "grid_template_rows": null,
            "height": null,
            "justify_content": null,
            "justify_items": null,
            "left": null,
            "margin": null,
            "max_height": null,
            "max_width": null,
            "min_height": null,
            "min_width": null,
            "object_fit": null,
            "object_position": null,
            "order": null,
            "overflow": null,
            "overflow_x": null,
            "overflow_y": null,
            "padding": null,
            "right": null,
            "top": null,
            "visibility": null,
            "width": null
          }
        },
        "99de5f664a7c4bef8dbddfde490ac3ad": {
          "model_module": "@jupyter-widgets/controls",
          "model_name": "DescriptionStyleModel",
          "model_module_version": "1.5.0",
          "state": {
            "_model_module": "@jupyter-widgets/controls",
            "_model_module_version": "1.5.0",
            "_model_name": "DescriptionStyleModel",
            "_view_count": null,
            "_view_module": "@jupyter-widgets/base",
            "_view_module_version": "1.2.0",
            "_view_name": "StyleView",
            "description_width": ""
          }
        }
      }
    }
  },
  "nbformat": 4,
  "nbformat_minor": 0
}