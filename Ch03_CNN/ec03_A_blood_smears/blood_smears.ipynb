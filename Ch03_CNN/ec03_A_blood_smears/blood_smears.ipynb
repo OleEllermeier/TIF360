{
  "cells": [
    {
      "cell_type": "markdown",
      "metadata": {
        "id": "ar-nu8aC5ZTy"
      },
      "source": [
        "# Classifying Blood Smears with a Convolutional Neural Network\n",
        "\n",
        "\n",
        "<div style=\"background-color: #f0f8ff; border: 2px solid #4682b4; padding: 10px;\">\n",
        "<a href=\"https://colab.research.google.com/github/DeepTrackAI/DeepLearningCrashCourse/blob/main/Ch03_CNN/ec03_A_blood_smears/blood_smears.ipynb\" target=\"_parent\"><img src=\"https://colab.research.google.com/assets/colab-badge.svg\" alt=\"Open In Colab\"/></a>\n",
        "<strong>If using Colab/Kaggle:</strong> You need to uncomment the code in the cell below this one.\n",
        "</div>"
      ]
    },
    {
      "cell_type": "code",
      "execution_count": 1,
      "metadata": {
        "id": "bCT0qNXi5ZT3"
      },
      "outputs": [],
      "source": [
        "# !pip install deeplay  # Uncomment if using Colab/Kaggle."
      ]
    },
    {
      "cell_type": "markdown",
      "metadata": {
        "id": "dYb-hMRs5ZT5"
      },
      "source": [
        "This notebook provides you with a complete code example that loads the malaria dataset, trains a convolutional neural network with dense top to classify the images of cells with and without malaria, analyzes where the trained network fails, and shows the network activations and heatmaps."
      ]
    },
    {
      "cell_type": "markdown",
      "metadata": {
        "id": "3PWYs5g95ZT6"
      },
      "source": [
        "<div style=\"background-color: #f0f8ff; border: 2px solid #4682b4; padding: 10px;\">\n",
        "<strong>Note:</strong> This notebook contains the Code Example 3-A from the book  \n",
        "\n",
        "**Deep Learning Crash Course**  \n",
        "Benjamin Midtvedt, Jesús Pineda, Henrik Klein Moberg, Harshith Bachimanchi, Joana B. Pereira, Carlo Manzo, Giovanni Volpe  \n",
        "No Starch Press, San Francisco (CA), 2025  \n",
        "ISBN-13: 9781718503922  \n",
        "\n",
        "[https://nostarch.com/deep-learning-crash-course](https://nostarch.com/deep-learning-crash-course)\n",
        "\n",
        "You can find the other notebooks on the [Deep Learning Crash Course GitHub page](https://github.com/DeepTrackAI/DeepLearningCrashCourse).\n",
        "</div>"
      ]
    },
    {
      "cell_type": "markdown",
      "metadata": {
        "id": "kVmHdFCk5ZT7"
      },
      "source": [
        "## Loading the Malaria Dataset"
      ]
    },
    {
      "cell_type": "markdown",
      "metadata": {
        "id": "zNi_jukR5ZT8"
      },
      "source": [
        "This dataset was originally published in S. Rajaraman, S. K. Antani, M. Poost- chi, K. Silamut, Md A. Hossain, R. J. Maude, S. Jaeger, and G. R. Thoma. _Pre-trained convolutional neural networks as feature extractors toward improved malaria parasite detection in thin blood smear images._ PeerJ 6, e4568, 2018.\n",
        "\n",
        "It is available at https://data.lhncbc.nlm.nih.gov/public/Malaria/cell_images.zip.\n"
      ]
    },
    {
      "cell_type": "code",
      "execution_count": 2,
      "metadata": {
        "id": "ayl48cLf5ZT8"
      },
      "outputs": [],
      "source": [
        "import os\n",
        "from torchvision.datasets.utils import _extract_zip, download_url\n",
        "\n",
        "dataset_path = os.path.join(\".\", \"blood_smears_dataset\")\n",
        "if not os.path.exists(dataset_path):\n",
        "    url = \"https://data.lhncbc.nlm.nih.gov/public/Malaria/cell_images.zip\"\n",
        "    download_url(url, \".\")\n",
        "    _extract_zip(\"cell_images.zip\", dataset_path, None)\n",
        "    os.remove(\"cell_images.zip\")"
      ]
    },
    {
      "cell_type": "markdown",
      "metadata": {
        "id": "TpGcX1gJ5ZT9"
      },
      "source": [
        "### Transforming the Images and Their Ground Thruth\n",
        "\n",
        "Define a transformation to resize the images to 28 by 28 pixels and convert them to PyTorch tensors (note that `ToTensor()` also normalizes their values between 0 and 1) ..."
      ]
    },
    {
      "cell_type": "code",
      "execution_count": 3,
      "metadata": {
        "id": "ZM56mqv-5ZT_"
      },
      "outputs": [],
      "source": [
        "from torchvision.transforms import Compose, Resize, ToTensor\n",
        "\n",
        "image_trans = Compose([Resize((28, 28)), ToTensor()])"
      ]
    },
    {
      "cell_type": "markdown",
      "metadata": {
        "id": "_hQFiCCv5ZT_"
      },
      "source": [
        "... define a transformation to make the target label equal to 0 for the uninfected cells and to 1 for the parasitized ones, converting it into a floating-point PyTorch tensor and adding a new dimension for batch processing ..."
      ]
    },
    {
      "cell_type": "code",
      "execution_count": 4,
      "metadata": {
        "id": "J5NLJzHz5ZUA"
      },
      "outputs": [],
      "source": [
        "import torch\n",
        "\n",
        "def label_trans(label):\n",
        "    \"\"\"Transform label.\"\"\"\n",
        "    return torch.tensor(1 - label).float().unsqueeze(-1)"
      ]
    },
    {
      "cell_type": "markdown",
      "metadata": {
        "id": "E5RmMpZ35ZUA"
      },
      "source": [
        "... and define a dataset that also makes these transformations."
      ]
    },
    {
      "cell_type": "code",
      "execution_count": 5,
      "metadata": {
        "id": "Iv93uxHi5ZUB"
      },
      "outputs": [],
      "source": [
        "from torchvision.datasets import ImageFolder\n",
        "\n",
        "base_dir = os.path.join(dataset_path, \"cell_images\")\n",
        "dataset = ImageFolder(base_dir, transform=image_trans,\n",
        "                      target_transform=label_trans)"
      ]
    },
    {
      "cell_type": "markdown",
      "metadata": {
        "id": "3lzgyljM5ZUB"
      },
      "source": [
        "### Visualizing the Blood Smears\n",
        "\n",
        "Implement a function to plot some examples of blood smears ..."
      ]
    },
    {
      "cell_type": "code",
      "execution_count": 6,
      "metadata": {
        "id": "oEBRPnN65ZUC"
      },
      "outputs": [],
      "source": [
        "import matplotlib.pyplot as plt\n",
        "import numpy as np\n",
        "\n",
        "def plot_blood_smears(dataset, parasitized):\n",
        "    \"\"\"Plot blood smears.\"\"\"\n",
        "    fig, axs = plt.subplots(3, 6, figsize=(16, 8))\n",
        "    for ax in axs.ravel():\n",
        "        image, label = dataset[np.random.randint(0, len(dataset))]\n",
        "        if isinstance(image, torch.Tensor):\n",
        "            image, label = image.numpy().transpose(1, 2, 0), label.numpy()\n",
        "        ax.imshow(image)\n",
        "        ax.set_title(f\"Parasitized ({label})\" if label == parasitized\n",
        "                     else f\"Uninfected ({label})\", fontsize=16)\n",
        "    plt.tight_layout()\n",
        "    plt.show()"
      ]
    },
    {
      "cell_type": "markdown",
      "metadata": {
        "id": "qaxbEAR55ZUC"
      },
      "source": [
        "... and use it to plot them."
      ]
    },
    {
      "cell_type": "code",
      "execution_count": 7,
      "metadata": {
        "colab": {
          "base_uri": "https://localhost:8080/",
          "height": 0
        },
        "id": "LonXLaNW5ZUC",
        "outputId": "daed50bd-dcaa-4526-b2d3-0182acda3da7"
      },
      "outputs": [
        {
          "output_type": "display_data",
          "data": {
            "text/plain": [
              "<Figure size 1600x800 with 18 Axes>"
            ],
            "image/png": "[encoded data removed]"
          },
          "metadata": {}
        }
      ],
      "source": [
        "plot_blood_smears(dataset, parasitized=1)"
      ]
    },
    {
      "cell_type": "markdown",
      "source": [
        "# New data set"
      ],
      "metadata": {
        "id": "MaTE4Yi97IDv"
      }
    },
    {
      "cell_type": "code",
      "source": [
        "import os\n",
        "\n",
        "if not os.path.exists(\"MNIST_dataset\"):\n",
        "    os.system(\"git clone https://github.com/DeepTrackAI/MNIST_dataset\")\n",
        "\n",
        "train_path = os.path.join(\"MNIST_dataset\", \"mnist\", \"train\")\n",
        "train_image_files = sorted(os.listdir(train_path))"
      ],
      "metadata": {
        "id": "x3Q9YVdR7Os0"
      },
      "execution_count": 8,
      "outputs": []
    },
    {
      "cell_type": "code",
      "source": [
        "import matplotlib.pyplot as plt\n",
        "\n",
        "train_images = []\n",
        "for file in train_image_files:\n",
        "    image = plt.imread(os.path.join(train_path, file))\n",
        "    train_images.append(image)"
      ],
      "metadata": {
        "id": "TVwCwBit8Vbx"
      },
      "execution_count": 9,
      "outputs": []
    },
    {
      "cell_type": "code",
      "source": [
        "print(len(train_images))\n",
        "print(train_images[0].shape)"
      ],
      "metadata": {
        "colab": {
          "base_uri": "https://localhost:8080/"
        },
        "id": "zAiL1QN68UxX",
        "outputId": "4a32c9a0-3939-48cd-93b2-4a921ffd2319"
      },
      "execution_count": 10,
      "outputs": [
        {
          "output_type": "stream",
          "name": "stdout",
          "text": [
            "60000\n",
            "(28, 28)\n"
          ]
        }
      ]
    },
    {
      "cell_type": "code",
      "source": [
        "train_digits = []\n",
        "for file in train_image_files:\n",
        "    filename = os.path.basename(file)\n",
        "    digit = int(filename[0])\n",
        "    train_digits.append(digit)"
      ],
      "metadata": {
        "id": "Uxzgzdak8fHp"
      },
      "execution_count": 11,
      "outputs": []
    },
    {
      "cell_type": "code",
      "source": [
        "import numpy as np\n",
        "\n",
        "fig, axs = plt.subplots(nrows=3, ncols=10, figsize=(20, 6))\n",
        "for ax in axs.ravel():\n",
        "    idx_image = np.random.choice(60000)\n",
        "    ax.imshow(train_images[idx_image], cmap=\"Greys\")\n",
        "    ax.set_title(f\"Label: {train_digits[idx_image]}\", fontsize=20)\n",
        "    ax.axis(\"off\")\n",
        "plt.show()"
      ],
      "metadata": {
        "colab": {
          "base_uri": "https://localhost:8080/",
          "height": 474
        },
        "id": "1YzawLcZ8hlS",
        "outputId": "dca1f03a-98f8-46bf-b712-01df6cf4a039"
      },
      "execution_count": 12,
      "outputs": [
        {
          "output_type": "display_data",
          "data": {
            "text/plain": [
              "<Figure size 2000x600 with 30 Axes>"
            ],
            "image/png": "[encoded data removed]"
          },
          "metadata": {}
        }
      ]
    },
    {
      "cell_type": "markdown",
      "metadata": {
        "id": "xHD2oOYQ5ZUE"
      },
      "source": [
        "### Splitting the Dataset and Defining the Data Loaders\n",
        "\n",
        "Split the dataset, composed by ca. 27,000 cell images, into train (80%) and test (20%) sets ..."
      ]
    },
    {
      "cell_type": "code",
      "source": [
        "train_data = list(zip(train_images, train_digits))  # Create a list of (image, label) tuples"
      ],
      "metadata": {
        "id": "PshdUcIv_3NB"
      },
      "execution_count": 13,
      "outputs": []
    },
    {
      "cell_type": "code",
      "source": [
        "dataset = train_data # define the new data set"
      ],
      "metadata": {
        "id": "7GYSvE5U-Ttu"
      },
      "execution_count": 14,
      "outputs": []
    },
    {
      "cell_type": "code",
      "execution_count": 15,
      "metadata": {
        "id": "rjX7IcCM5ZUF"
      },
      "outputs": [],
      "source": [
        "train, test = torch.utils.data.random_split(dataset, [0.8, 0.2])"
      ]
    },
    {
      "cell_type": "markdown",
      "metadata": {
        "id": "LpB0O0Yx5ZUF"
      },
      "source": [
        "... and define the data loaders."
      ]
    },
    {
      "cell_type": "code",
      "execution_count": 16,
      "metadata": {
        "id": "0dxBPMb25ZUG"
      },
      "outputs": [],
      "source": [
        "train_loader = torch.utils.data.DataLoader(train, batch_size=32, shuffle=True)\n",
        "test_loader = torch.utils.data.DataLoader(test, batch_size=256, shuffle=False)"
      ]
    },
    {
      "cell_type": "markdown",
      "metadata": {
        "id": "Yu8aHcx75ZUH"
      },
      "source": [
        "## Classifying the Blood Smears with Dense Neural Networks\n",
        "\n",
        "Implement a dense neural network ..."
      ]
    },
    {
      "cell_type": "code",
      "execution_count": 17,
      "metadata": {
        "id": "a3cYV_NS5ZUH"
      },
      "outputs": [],
      "source": [
        "import deeplay as dl\n",
        "\n",
        "class MNISTClassifier(dl.Classifier):\n",
        "    def train_preprocess(self, batch):\n",
        "        images, labels = batch\n",
        "        # Reshape the images to be 1D tensors\n",
        "        images = images.view(images.size(0), -1)\n",
        "        # Explicitly convert labels to torch.int64\n",
        "        labels = labels.type(torch.int64)\n",
        "        return images, labels\n",
        "\n",
        "dnn = dl.MultiLayerPerceptron(\n",
        "    in_features=28 * 28, hidden_features=[128, 128], out_features=10, # change out_features to 10 for the 10 digits\n",
        "    out_activation=torch.nn.Softmax,\n",
        ")"
      ]
    },
    {
      "cell_type": "markdown",
      "metadata": {
        "id": "2i6McXZW5ZUI"
      },
      "source": [
        "... print out its detailed architecture ..."
      ]
    },
    {
      "cell_type": "code",
      "execution_count": 18,
      "metadata": {
        "colab": {
          "base_uri": "https://localhost:8080/"
        },
        "id": "WjfhzQUC5ZUI",
        "outputId": "5becad49-1b75-4119-a4a8-3303b3a59dc4"
      },
      "outputs": [
        {
          "output_type": "stream",
          "name": "stdout",
          "text": [
            "MultiLayerPerceptron(\n",
            "  (blocks): LayerList(\n",
            "    (0): LinearBlock(\n",
            "      (layer): Layer[Linear](in_features=784, out_features=128, bias=True)\n",
            "      (activation): Layer[ReLU]()\n",
            "    )\n",
            "    (1): LinearBlock(\n",
            "      (layer): Layer[Linear](in_features=128, out_features=128, bias=True)\n",
            "      (activation): Layer[ReLU]()\n",
            "    )\n",
            "    (2): LinearBlock(\n",
            "      (layer): Layer[Linear](in_features=128, out_features=10, bias=True)\n",
            "      (activation): Layer[Softmax]()\n",
            "    )\n",
            "  )\n",
            ")\n"
          ]
        }
      ],
      "source": [
        "print(dnn)"
      ]
    },
    {
      "cell_type": "markdown",
      "metadata": {
        "id": "2eKlcqoy5ZUJ"
      },
      "source": [
        "... compile it ..."
      ]
    },
    {
      "cell_type": "code",
      "execution_count": 19,
      "metadata": {
        "colab": {
          "base_uri": "https://localhost:8080/"
        },
        "id": "weSodld65ZUJ",
        "outputId": "fc3e1813-bff0-41e5-b39a-a7d06ce5da48"
      },
      "outputs": [
        {
          "output_type": "stream",
          "name": "stderr",
          "text": [
            "/usr/local/lib/python3.11/dist-packages/torch/nn/modules/module.py:1739: UserWarning: Implicit dimension choice for softmax has been deprecated. Change the call to include dim=X as an argument.\n",
            "  return self._call_impl(*args, **kwargs)\n"
          ]
        }
      ],
      "source": [
        "# dnn_classifier = dl.BinaryClassifier(\n",
        "#     model=dnn, optimizer=dl.RMSprop(lr=0.001),\n",
        "# ).create()\n",
        "\n",
        "from torch.nn import CrossEntropyLoss\n",
        "\n",
        "classifier_template = dl.Classifier(\n",
        "    model=dnn, num_classes=10, make_targets_one_hot=True,\n",
        "    loss=CrossEntropyLoss(),\n",
        ")\n",
        "dnn_classifier = classifier_template.create()"
      ]
    },
    {
      "cell_type": "markdown",
      "metadata": {
        "id": "6zOm8AgR5ZUK"
      },
      "source": [
        "... and print out the compiled dense neural network."
      ]
    },
    {
      "cell_type": "code",
      "execution_count": 20,
      "metadata": {
        "colab": {
          "base_uri": "https://localhost:8080/"
        },
        "id": "iolBIZgC5ZUK",
        "outputId": "45454c4c-c073-45de-a390-34d8237a71a2"
      },
      "outputs": [
        {
          "output_type": "stream",
          "name": "stdout",
          "text": [
            "Classifier(\n",
            "  (loss): CrossEntropyLoss()\n",
            "  (optimizer): Adam[Adam](lr=0.001)\n",
            "  (train_metrics): MetricCollection(\n",
            "    (MulticlassAccuracy): MulticlassAccuracy(),\n",
            "    prefix=train\n",
            "  )\n",
            "  (val_metrics): MetricCollection(\n",
            "    (MulticlassAccuracy): MulticlassAccuracy(),\n",
            "    prefix=val\n",
            "  )\n",
            "  (test_metrics): MetricCollection(\n",
            "    (MulticlassAccuracy): MulticlassAccuracy(),\n",
            "    prefix=test\n",
            "  )\n",
            "  (model): MultiLayerPerceptron(\n",
            "    (blocks): LayerList(\n",
            "      (0): LinearBlock(\n",
            "        (layer): Linear(in_features=784, out_features=128, bias=True)\n",
            "        (activation): ReLU()\n",
            "      )\n",
            "      (1): LinearBlock(\n",
            "        (layer): Linear(in_features=128, out_features=128, bias=True)\n",
            "        (activation): ReLU()\n",
            "      )\n",
            "      (2): LinearBlock(\n",
            "        (layer): Linear(in_features=128, out_features=10, bias=True)\n",
            "        (activation): Softmax(dim=None)\n",
            "      )\n",
            "    )\n",
            "  )\n",
            ")\n"
          ]
        }
      ],
      "source": [
        "print(dnn_classifier)"
      ]
    },
    {
      "cell_type": "markdown",
      "metadata": {
        "id": "gaaW4YYD5ZUK"
      },
      "source": [
        "The default loss of `dl.BinaryClassifier` is a binary cross-entropy loss."
      ]
    },
    {
      "cell_type": "markdown",
      "metadata": {
        "id": "JUvNQdJn5ZUL"
      },
      "source": [
        "### Training the Dense Neural Network"
      ]
    },
    {
      "cell_type": "code",
      "execution_count": 21,
      "metadata": {
        "colab": {
          "base_uri": "https://localhost:8080/",
          "height": 622,
          "referenced_widgets": [
            "58832b11c7624b829a54f5aa2ac17d72",
            "9687850f03d24b71bbe83aafb3b0059a",
            "4ea29a3f821b43a7880a46b93cc9f3ed",
            "c5618be827534932b25b757112893fcc",
            "b5589f80c30f4cdbad26db8acfc7b927",
            "af10b15b6a5b4005b98f759d37a2f62d",
            "1610400baede458da54dcf3eb7c2b903",
            "dcef99c142314f76860fa90441794013",
            "d423475bec7e4398ba110ed237d64c5b",
            "417b46aa81e3404f8724fe7c498ce616",
            "085967a0244a4252b986666090b7bd42"
          ]
        },
        "id": "mCnunbDT5ZUL",
        "outputId": "c82eafd2-2c99-4153-98e4-f9189b78c175"
      },
      "outputs": [
        {
          "output_type": "stream",
          "name": "stderr",
          "text": [
            "/usr/local/lib/python3.11/dist-packages/lightning/pytorch/trainer/configuration_validator.py:70: You defined a `validation_step` but have no `val_dataloader`. Skipping val loop.\n",
            "INFO: \n",
            "  | Name          | Type                 | Params | Mode \n",
            "---------------------------------------------------------------\n",
            "0 | loss          | CrossEntropyLoss     | 0      | train\n",
            "1 | train_metrics | MetricCollection     | 0      | train\n",
            "2 | val_metrics   | MetricCollection     | 0      | train\n",
            "3 | test_metrics  | MetricCollection     | 0      | train\n",
            "4 | model         | MultiLayerPerceptron | 118 K  | train\n",
            "5 | optimizer     | Adam                 | 0      | train\n",
            "---------------------------------------------------------------\n",
            "118 K     Trainable params\n",
            "0         Non-trainable params\n",
            "118 K     Total params\n",
            "0.473     Total estimated model params size (MB)\n",
            "19        Modules in train mode\n",
            "0         Modules in eval mode\n",
            "INFO:lightning.pytorch.callbacks.model_summary:\n",
            "  | Name          | Type                 | Params | Mode \n",
            "---------------------------------------------------------------\n",
            "0 | loss          | CrossEntropyLoss     | 0      | train\n",
            "1 | train_metrics | MetricCollection     | 0      | train\n",
            "2 | val_metrics   | MetricCollection     | 0      | train\n",
            "3 | test_metrics  | MetricCollection     | 0      | train\n",
            "4 | model         | MultiLayerPerceptron | 118 K  | train\n",
            "5 | optimizer     | Adam                 | 0      | train\n",
            "---------------------------------------------------------------\n",
            "118 K     Trainable params\n",
            "0         Non-trainable params\n",
            "118 K     Total params\n",
            "0.473     Total estimated model params size (MB)\n",
            "19        Modules in train mode\n",
            "0         Modules in eval mode\n"
          ]
        },
        {
          "output_type": "display_data",
          "data": {
            "text/plain": [
              "Training: |          | 0/? [00:00<?, ?it/s]"
            ],
            "application/vnd.jupyter.widget-view+json": {
              "version_major": 2,
              "version_minor": 0,
              "model_id": "58832b11c7624b829a54f5aa2ac17d72"
            }
          },
          "metadata": {}
        }
      ],
      "source": [
        "dnn_trainer = dl.Trainer(max_epochs=5, accelerator=\"auto\")\n",
        "dnn_trainer.fit(dnn_classifier, train_loader)"
      ]
    },
    {
      "cell_type": "markdown",
      "metadata": {
        "id": "8X2vfgbh5ZUM"
      },
      "source": [
        "### Testing the Dense Neural Network"
      ]
    },
    {
      "cell_type": "code",
      "execution_count": 22,
      "metadata": {
        "colab": {
          "base_uri": "https://localhost:8080/",
          "height": 180,
          "referenced_widgets": [
            "8ef56d92b91041c0b3bdc79ae0b65410",
            "23dddf4e6315471ba3e1400d86013ae5",
            "cfde6f4cc22c4ac687fa6ce836c58744",
            "42af9479c591470ab03ee49d5a218e74",
            "d51d2f00d8e04f7f8f969d2659b6a9d2",
            "06707be0c13e438b831a660a84a43de6",
            "17ad05314d964950963a0034ce41247c",
            "25b828dd41644bbc8d69a4b6fd5b14f8",
            "efe07059f726414ab353556c99b4078f",
            "a4523500bb9a45999ecee85e5c7ea2f7",
            "4b1512e7e4454f4380fa816d25775d68"
          ]
        },
        "id": "sXRkvj8W5ZUN",
        "outputId": "46072fdb-7539-4f3c-cda3-6195d1433043"
      },
      "outputs": [
        {
          "output_type": "display_data",
          "data": {
            "text/plain": [
              "Testing: |          | 0/? [00:00<?, ?it/s]"
            ],
            "application/vnd.jupyter.widget-view+json": {
              "version_major": 2,
              "version_minor": 0,
              "model_id": "8ef56d92b91041c0b3bdc79ae0b65410"
            }
          },
          "metadata": {}
        },
        {
          "output_type": "display_data",
          "data": {
            "text/plain": [
              "┏━━━━━━━━━━━━━━━━━━━━━━━━━━━━━━┳━━━━━━━━━━━━━━━━━━━━━━━━━━━━━━┓\n",
              "┃\u001b[1m \u001b[0m\u001b[1m        Test metric         \u001b[0m\u001b[1m \u001b[0m┃\u001b[1m \u001b[0m\u001b[1m        DataLoader 0        \u001b[0m\u001b[1m \u001b[0m┃\n",
              "┡━━━━━━━━━━━━━━━━━━━━━━━━━━━━━━╇━━━━━━━━━━━━━━━━━━━━━━━━━━━━━━┩\n",
              "│\u001b[36m \u001b[0m\u001b[36mtestMulticlassAccuracy_epoch\u001b[0m\u001b[36m \u001b[0m│\u001b[35m \u001b[0m\u001b[35m     0.9617499709129333     \u001b[0m\u001b[35m \u001b[0m│\n",
              "│\u001b[36m \u001b[0m\u001b[36m      test_loss_epoch       \u001b[0m\u001b[36m \u001b[0m│\u001b[35m \u001b[0m\u001b[35m     1.500020146369934      \u001b[0m\u001b[35m \u001b[0m│\n",
              "└──────────────────────────────┴──────────────────────────────┘\n"
            ],
            "text/html": [
              "<pre style=\"white-space:pre;overflow-x:auto;line-height:normal;font-family:Menlo,'DejaVu Sans Mono',consolas,'Courier New',monospace\">┏━━━━━━━━━━━━━━━━━━━━━━━━━━━━━━┳━━━━━━━━━━━━━━━━━━━━━━━━━━━━━━┓\n",
              "┃<span style=\"font-weight: bold\">         Test metric          </span>┃<span style=\"font-weight: bold\">         DataLoader 0         </span>┃\n",
              "┡━━━━━━━━━━━━━━━━━━━━━━━━━━━━━━╇━━━━━━━━━━━━━━━━━━━━━━━━━━━━━━┩\n",
              "│<span style=\"color: #008080; text-decoration-color: #008080\"> testMulticlassAccuracy_epoch </span>│<span style=\"color: #800080; text-decoration-color: #800080\">      0.9617499709129333      </span>│\n",
              "│<span style=\"color: #008080; text-decoration-color: #008080\">       test_loss_epoch        </span>│<span style=\"color: #800080; text-decoration-color: #800080\">      1.500020146369934       </span>│\n",
              "└──────────────────────────────┴──────────────────────────────┘\n",
              "</pre>\n"
            ]
          },
          "metadata": {}
        },
        {
          "output_type": "execute_result",
          "data": {
            "text/plain": [
              "[{'test_loss_epoch': 1.500020146369934,\n",
              "  'testMulticlassAccuracy_epoch': 0.9617499709129333}]"
            ]
          },
          "metadata": {},
          "execution_count": 22
        }
      ],
      "source": [
        "dnn_trainer.test(dnn_classifier, test_loader)"
      ]
    },
    {
      "cell_type": "markdown",
      "metadata": {
        "id": "KOFCOPHA5ZUN"
      },
      "source": [
        "### Plotting the ROC Curve\n",
        "\n",
        "Implement a function to plot the ROC curve ..."
      ]
    },
    {
      "cell_type": "code",
      "execution_count": 23,
      "metadata": {
        "id": "6nYc01ko5ZUN"
      },
      "outputs": [],
      "source": [
        "import torchmetrics as tm\n",
        "\n",
        "def plot_roc(classifier, loader):\n",
        "    \"\"\"Plot ROC curve.\"\"\"\n",
        "    roc = tm.ROC(task=\"multiclass\", num_classes=10)\n",
        "    for image, label in loader:\n",
        "        roc.update(classifier(image), label.long())\n",
        "\n",
        "    fig, ax = roc.plot(score=True)\n",
        "    ax.grid(False)\n",
        "    ax.axis(\"square\")\n",
        "    ax.set_xlim(0, 1)\n",
        "    ax.set_ylim(0, 1)\n",
        "    ax.legend(loc=\"center right\")\n",
        "    plt.show()"
      ]
    },
    {
      "cell_type": "markdown",
      "metadata": {
        "id": "n32y7wvX5ZUO"
      },
      "source": [
        "... and use it to plot the performance of the classifier based on a dense neural network."
      ]
    },
    {
      "cell_type": "code",
      "execution_count": 24,
      "metadata": {
        "colab": {
          "base_uri": "https://localhost:8080/",
          "height": 472
        },
        "id": "KFrv9fIX5ZUO",
        "outputId": "e6497bd3-b5c2-4dcc-9cf1-1c80f43b846d"
      },
      "outputs": [
        {
          "output_type": "display_data",
          "data": {
            "text/plain": [
              "<Figure size 640x480 with 1 Axes>"
            ],
            "image/png": "[encoded data removed]"
          },
          "metadata": {}
        }
      ],
      "source": [
        "plot_roc(dnn_classifier, test_loader)"
      ]
    },
    {
      "cell_type": "markdown",
      "metadata": {
        "id": "vTeIYb1F5ZUO"
      },
      "source": [
        "## Classifying the Blood Smears with Convolutional Neural Networks\n",
        "\n",
        "Implement a convolutional neural network with a dense top ..."
      ]
    },
    {
      "cell_type": "code",
      "source": [
        "class MNISTCNNClassifier(dl.Classifier):\n",
        "    def train_preprocess(self, batch):\n",
        "        images, labels = batch\n",
        "        # Convert images (which are numpy arrays) to torch tensors if needed.\n",
        "        if not isinstance(images, torch.Tensor):\n",
        "            images = torch.tensor(np.array(images), dtype=torch.float32)\n",
        "        # If the image is 2D (28, 28), add a channel dimension.\n",
        "        if images.ndim == 3:  # (batch, height, width)\n",
        "            images = images.unsqueeze(1)  # becomes (batch, 1, height, width)\n",
        "        # Ensure labels are proper torch tensors\n",
        "        if not isinstance(labels, torch.Tensor):\n",
        "            labels = torch.tensor(labels, dtype=torch.int64)\n",
        "        return images, labels\n",
        "\n",
        "    def test_preprocess(self, batch):\n",
        "        images, labels = batch\n",
        "        # Same as train_preprocess: convert and add channel if necessary.\n",
        "        if not isinstance(images, torch.Tensor):\n",
        "            images = torch.tensor(np.array(images), dtype=torch.float32)\n",
        "        if images.ndim == 3:\n",
        "            images = images.unsqueeze(1)\n",
        "        if not isinstance(labels, torch.Tensor):\n",
        "            labels = torch.tensor(labels, dtype=torch.int64)\n",
        "        return images, labels\n"
      ],
      "metadata": {
        "id": "aDNNdG4lZJXx"
      },
      "execution_count": 25,
      "outputs": []
    },
    {
      "cell_type": "code",
      "execution_count": 26,
      "metadata": {
        "id": "dD-fSmuq5ZUP"
      },
      "outputs": [],
      "source": [
        "conv_base = dl.ConvolutionalNeuralNetwork(\n",
        "    in_channels=1, hidden_channels=[16, 16, 32], out_channels=32, #in_channels = 1\n",
        ")\n",
        "conv_base.blocks[2].pool.configure(torch.nn.MaxPool2d, kernel_size=2)\n",
        "\n",
        "connector = dl.Layer(torch.nn.AdaptiveAvgPool2d, output_size=1)\n",
        "\n",
        "dense_top = dl.MultiLayerPerceptron(\n",
        "    in_features=32, hidden_features=[], out_features=10, #out_features 10\n",
        ")\n",
        "\n",
        "cnn = dl.Sequential(conv_base, connector, dense_top)"
      ]
    },
    {
      "cell_type": "markdown",
      "metadata": {
        "id": "5ts0aBVs5ZUQ"
      },
      "source": [
        "... print out its detailed architecture ..."
      ]
    },
    {
      "cell_type": "code",
      "execution_count": 27,
      "metadata": {
        "colab": {
          "base_uri": "https://localhost:8080/"
        },
        "id": "18Rk2hMo5ZUQ",
        "outputId": "12b029b1-91eb-463d-9b6c-5ed0c601f5c7"
      },
      "outputs": [
        {
          "output_type": "stream",
          "name": "stdout",
          "text": [
            "Sequential(\n",
            "  (0): ConvolutionalNeuralNetwork(\n",
            "    (blocks): LayerList(\n",
            "      (0): Conv2dBlock(\n",
            "        (layer): Layer[Conv2d](in_channels=1, out_channels=16, kernel_size=3, stride=1, padding=1)\n",
            "        (activation): Layer[ReLU]()\n",
            "      )\n",
            "      (1): Conv2dBlock(\n",
            "        (layer): Layer[Conv2d](in_channels=16, out_channels=16, kernel_size=3, stride=1, padding=1)\n",
            "        (activation): Layer[ReLU]()\n",
            "      )\n",
            "      (2): Conv2dBlock(\n",
            "        (pool): Layer[MaxPool2d](kernel_size=2)\n",
            "        (layer): Layer[Conv2d](in_channels=16, out_channels=32, kernel_size=3, stride=1, padding=1)\n",
            "        (activation): Layer[ReLU]()\n",
            "      )\n",
            "      (3): Conv2dBlock(\n",
            "        (layer): Layer[Conv2d](in_channels=32, out_channels=32, kernel_size=3, stride=1, padding=1)\n",
            "        (activation): Layer[Identity]()\n",
            "      )\n",
            "    )\n",
            "  )\n",
            "  (1): Layer[AdaptiveAvgPool2d](output_size=1)\n",
            "  (2): MultiLayerPerceptron(\n",
            "    (blocks): LayerList(\n",
            "      (0): LinearBlock(\n",
            "        (layer): Layer[Linear](in_features=32, out_features=10, bias=True)\n",
            "        (activation): Layer[Identity]()\n",
            "      )\n",
            "    )\n",
            "  )\n",
            ")\n"
          ]
        }
      ],
      "source": [
        "print(cnn)"
      ]
    },
    {
      "cell_type": "markdown",
      "metadata": {
        "id": "bcbn2BgY5ZUR"
      },
      "source": [
        "... compile it ..."
      ]
    },
    {
      "cell_type": "code",
      "execution_count": 28,
      "metadata": {
        "id": "XbsLtgbm5ZUR"
      },
      "outputs": [],
      "source": [
        "# cnn_classifier = dl.Classifier( #multiple classes\n",
        "#     model=cnn,\n",
        "#     num_classes=10,\n",
        "#     make_targets_one_hot=True,\n",
        "#     loss=CrossEntropyLoss(),\n",
        "# ).create()\n",
        "\n",
        "cnn_classifier = MNISTCNNClassifier(\n",
        "    model=cnn,\n",
        "    num_classes=10,\n",
        "    make_targets_one_hot=True,\n",
        "    loss=CrossEntropyLoss(),\n",
        ").create()"
      ]
    },
    {
      "cell_type": "markdown",
      "metadata": {
        "id": "mCli6out5ZUR"
      },
      "source": [
        "... and print out the compiled convolutional neural network."
      ]
    },
    {
      "cell_type": "code",
      "execution_count": 29,
      "metadata": {
        "colab": {
          "base_uri": "https://localhost:8080/"
        },
        "id": "0iHwbHXe5ZUS",
        "outputId": "bfaafcf3-73ff-4566-abe2-adb0af5c3755"
      },
      "outputs": [
        {
          "output_type": "stream",
          "name": "stdout",
          "text": [
            "MNISTCNNClassifier(\n",
            "  (loss): CrossEntropyLoss()\n",
            "  (optimizer): Adam[Adam](lr=0.001)\n",
            "  (train_metrics): MetricCollection(\n",
            "    (MulticlassAccuracy): MulticlassAccuracy(),\n",
            "    prefix=train\n",
            "  )\n",
            "  (val_metrics): MetricCollection(\n",
            "    (MulticlassAccuracy): MulticlassAccuracy(),\n",
            "    prefix=val\n",
            "  )\n",
            "  (test_metrics): MetricCollection(\n",
            "    (MulticlassAccuracy): MulticlassAccuracy(),\n",
            "    prefix=test\n",
            "  )\n",
            "  (model): Sequential(\n",
            "    (0): ConvolutionalNeuralNetwork(\n",
            "      (blocks): LayerList(\n",
            "        (0): Conv2dBlock(\n",
            "          (layer): Conv2d(1, 16, kernel_size=(3, 3), stride=(1, 1), padding=(1, 1))\n",
            "          (activation): ReLU()\n",
            "        )\n",
            "        (1): Conv2dBlock(\n",
            "          (layer): Conv2d(16, 16, kernel_size=(3, 3), stride=(1, 1), padding=(1, 1))\n",
            "          (activation): ReLU()\n",
            "        )\n",
            "        (2): Conv2dBlock(\n",
            "          (pool): MaxPool2d(kernel_size=2, stride=2, padding=0, dilation=1, ceil_mode=False)\n",
            "          (layer): Conv2d(16, 32, kernel_size=(3, 3), stride=(1, 1), padding=(1, 1))\n",
            "          (activation): ReLU()\n",
            "        )\n",
            "        (3): Conv2dBlock(\n",
            "          (layer): Conv2d(32, 32, kernel_size=(3, 3), stride=(1, 1), padding=(1, 1))\n",
            "          (activation): Identity()\n",
            "        )\n",
            "      )\n",
            "    )\n",
            "    (1): AdaptiveAvgPool2d(output_size=1)\n",
            "    (2): MultiLayerPerceptron(\n",
            "      (blocks): LayerList(\n",
            "        (0): LinearBlock(\n",
            "          (layer): Linear(in_features=32, out_features=10, bias=True)\n",
            "          (activation): Identity()\n",
            "        )\n",
            "      )\n",
            "    )\n",
            "  )\n",
            ")\n"
          ]
        }
      ],
      "source": [
        "print(cnn_classifier)"
      ]
    },
    {
      "cell_type": "markdown",
      "metadata": {
        "id": "v4h0t0ww5ZUS"
      },
      "source": [
        "### Training the Convolutional Neural Network"
      ]
    },
    {
      "cell_type": "code",
      "execution_count": 30,
      "metadata": {
        "colab": {
          "base_uri": "https://localhost:8080/",
          "height": 622,
          "referenced_widgets": [
            "f86ed4b917824edbb071212dc1a069b7",
            "6a144bd88a514471a8b7117b17914c02",
            "6f6259a1b5a94e45b7c06c3ab8811f0e",
            "902c9f5ad56c4d12a52ebb62b3cfb26a",
            "3a35a20028dd471fb0e3a29254744a63",
            "c3ac10a6bc7a49b6825af52e9a9d1af0",
            "e5fd9f6d26cc4af29f5e4c5b4ffd2023",
            "827167e243b84b06a44eaf68e70ca6d2",
            "80d221d151de4bb98bb3b94809ae1e1a",
            "fbc228e8d5424da88fd01a75d9350e44",
            "a4624091b24b4111bdf69725358337a0"
          ]
        },
        "id": "5-S_nmRv5ZUS",
        "outputId": "c9a4c067-c78b-4c12-f536-de40721050d6"
      },
      "outputs": [
        {
          "output_type": "stream",
          "name": "stderr",
          "text": [
            "/usr/local/lib/python3.11/dist-packages/lightning/pytorch/trainer/configuration_validator.py:70: You defined a `validation_step` but have no `val_dataloader`. Skipping val loop.\n",
            "INFO: \n",
            "  | Name          | Type             | Params | Mode \n",
            "-----------------------------------------------------------\n",
            "0 | loss          | CrossEntropyLoss | 0      | train\n",
            "1 | train_metrics | MetricCollection | 0      | train\n",
            "2 | val_metrics   | MetricCollection | 0      | train\n",
            "3 | test_metrics  | MetricCollection | 0      | train\n",
            "4 | model         | Sequential       | 16.7 K | train\n",
            "5 | optimizer     | Adam             | 0      | train\n",
            "-----------------------------------------------------------\n",
            "16.7 K    Trainable params\n",
            "0         Non-trainable params\n",
            "16.7 K    Total params\n",
            "0.067     Total estimated model params size (MB)\n",
            "30        Modules in train mode\n",
            "0         Modules in eval mode\n",
            "INFO:lightning.pytorch.callbacks.model_summary:\n",
            "  | Name          | Type             | Params | Mode \n",
            "-----------------------------------------------------------\n",
            "0 | loss          | CrossEntropyLoss | 0      | train\n",
            "1 | train_metrics | MetricCollection | 0      | train\n",
            "2 | val_metrics   | MetricCollection | 0      | train\n",
            "3 | test_metrics  | MetricCollection | 0      | train\n",
            "4 | model         | Sequential       | 16.7 K | train\n",
            "5 | optimizer     | Adam             | 0      | train\n",
            "-----------------------------------------------------------\n",
            "16.7 K    Trainable params\n",
            "0         Non-trainable params\n",
            "16.7 K    Total params\n",
            "0.067     Total estimated model params size (MB)\n",
            "30        Modules in train mode\n",
            "0         Modules in eval mode\n"
          ]
        },
        {
          "output_type": "display_data",
          "data": {
            "text/plain": [
              "Training: |          | 0/? [00:00<?, ?it/s]"
            ],
            "application/vnd.jupyter.widget-view+json": {
              "version_major": 2,
              "version_minor": 0,
              "model_id": "f86ed4b917824edbb071212dc1a069b7"
            }
          },
          "metadata": {}
        }
      ],
      "source": [
        "cnn_trainer = dl.Trainer(max_epochs=5, accelerator=\"auto\")\n",
        "cnn_trainer.fit(cnn_classifier, train_loader)"
      ]
    },
    {
      "cell_type": "markdown",
      "metadata": {
        "id": "9hDfRJ5c5ZUT"
      },
      "source": [
        "### Testing the Convolutional Neural Network"
      ]
    },
    {
      "cell_type": "code",
      "execution_count": 31,
      "metadata": {
        "colab": {
          "base_uri": "https://localhost:8080/",
          "height": 180,
          "referenced_widgets": [
            "8231897b24dc4e2f8256268be1040f7e",
            "117054ac11ca45a99d7f990c9b6f0474",
            "7c648c12ca4049efbca1fb8fd8ed2e11",
            "ea493c4c352a4befa3de8a4a583e1912",
            "568d6367cfe448118f4411a2f04bdf32",
            "151783c597434d0bbe5368b66f01d3c2",
            "197f55cc6e4b4b5485fc626cb665d1fd",
            "2884620488df49bc80ac2e128005a96c",
            "b4da5cac58d64ac0b92c7c7242670e4b",
            "479dcca9920b45828e5ce9f5fc6dad33",
            "da03d5c951194036a0d657949de16e09"
          ]
        },
        "id": "k6yuDNRD5ZUU",
        "outputId": "de87411e-003d-415e-b5e8-64280776d617"
      },
      "outputs": [
        {
          "output_type": "display_data",
          "data": {
            "text/plain": [
              "Testing: |          | 0/? [00:00<?, ?it/s]"
            ],
            "application/vnd.jupyter.widget-view+json": {
              "version_major": 2,
              "version_minor": 0,
              "model_id": "8231897b24dc4e2f8256268be1040f7e"
            }
          },
          "metadata": {}
        },
        {
          "output_type": "display_data",
          "data": {
            "text/plain": [
              "┏━━━━━━━━━━━━━━━━━━━━━━━━━━━━━━┳━━━━━━━━━━━━━━━━━━━━━━━━━━━━━━┓\n",
              "┃\u001b[1m \u001b[0m\u001b[1m        Test metric         \u001b[0m\u001b[1m \u001b[0m┃\u001b[1m \u001b[0m\u001b[1m        DataLoader 0        \u001b[0m\u001b[1m \u001b[0m┃\n",
              "┡━━━━━━━━━━━━━━━━━━━━━━━━━━━━━━╇━━━━━━━━━━━━━━━━━━━━━━━━━━━━━━┩\n",
              "│\u001b[36m \u001b[0m\u001b[36mtestMulticlassAccuracy_epoch\u001b[0m\u001b[36m \u001b[0m│\u001b[35m \u001b[0m\u001b[35m     0.9447500109672546     \u001b[0m\u001b[35m \u001b[0m│\n",
              "│\u001b[36m \u001b[0m\u001b[36m      test_loss_epoch       \u001b[0m\u001b[36m \u001b[0m│\u001b[35m \u001b[0m\u001b[35m    0.17665372788906097     \u001b[0m\u001b[35m \u001b[0m│\n",
              "└──────────────────────────────┴──────────────────────────────┘\n"
            ],
            "text/html": [
              "<pre style=\"white-space:pre;overflow-x:auto;line-height:normal;font-family:Menlo,'DejaVu Sans Mono',consolas,'Courier New',monospace\">┏━━━━━━━━━━━━━━━━━━━━━━━━━━━━━━┳━━━━━━━━━━━━━━━━━━━━━━━━━━━━━━┓\n",
              "┃<span style=\"font-weight: bold\">         Test metric          </span>┃<span style=\"font-weight: bold\">         DataLoader 0         </span>┃\n",
              "┡━━━━━━━━━━━━━━━━━━━━━━━━━━━━━━╇━━━━━━━━━━━━━━━━━━━━━━━━━━━━━━┩\n",
              "│<span style=\"color: #008080; text-decoration-color: #008080\"> testMulticlassAccuracy_epoch </span>│<span style=\"color: #800080; text-decoration-color: #800080\">      0.9447500109672546      </span>│\n",
              "│<span style=\"color: #008080; text-decoration-color: #008080\">       test_loss_epoch        </span>│<span style=\"color: #800080; text-decoration-color: #800080\">     0.17665372788906097      </span>│\n",
              "└──────────────────────────────┴──────────────────────────────┘\n",
              "</pre>\n"
            ]
          },
          "metadata": {}
        },
        {
          "output_type": "execute_result",
          "data": {
            "text/plain": [
              "[{'test_loss_epoch': 0.17665372788906097,\n",
              "  'testMulticlassAccuracy_epoch': 0.9447500109672546}]"
            ]
          },
          "metadata": {},
          "execution_count": 31
        }
      ],
      "source": [
        "cnn_trainer.test(cnn_classifier, test_loader)"
      ]
    },
    {
      "cell_type": "markdown",
      "metadata": {
        "id": "409-AabS5ZUU"
      },
      "source": [
        "### Plotting the ROC Curve"
      ]
    },
    {
      "cell_type": "code",
      "execution_count": 35,
      "metadata": {
        "colab": {
          "base_uri": "https://localhost:8080/",
          "height": 472
        },
        "id": "FuA_q3qk5ZUV",
        "outputId": "ee90d37a-da78-4c21-87bd-edf42b1f0b15"
      },
      "outputs": [
        {
          "output_type": "display_data",
          "data": {
            "text/plain": [
              "<Figure size 640x480 with 1 Axes>"
            ],
            "image/png": "[encoded data removed]"
          },
          "metadata": {}
        }
      ],
      "source": [
        "# plot_roc(cnn_classifier, test_loader)\n",
        "\n",
        "def plot_roc(classifier, loader):\n",
        "    \"\"\"Plot ROC curve.\"\"\"\n",
        "    roc = tm.ROC(task=\"multiclass\", num_classes=10)\n",
        "    for images, labels in loader:\n",
        "        # Apply test preprocessing to ensure proper shape.\n",
        "        images, labels = classifier.test_preprocess((images, labels))\n",
        "        outputs = classifier(images)\n",
        "        roc.update(outputs, labels.long())\n",
        "\n",
        "    fig, ax = roc.plot(score=True)\n",
        "    ax.grid(False)\n",
        "    ax.axis(\"square\")\n",
        "    ax.set_xlim(0, 1)\n",
        "    ax.set_ylim(0, 1)\n",
        "    ax.legend(loc=\"center right\")\n",
        "    plt.show()\n",
        "\n",
        "plot_roc(cnn_classifier, test_loader)"
      ]
    },
    {
      "cell_type": "markdown",
      "metadata": {
        "id": "LXAeB81y5ZUV"
      },
      "source": [
        "### Checking the Values of the Filters\n",
        "\n",
        "The following code accesses the 32nd filter's weights in the first convolutional layer of the CNN. It navigates through the model's first module (`model[0]`), selects the initial block (`blocks[0]`), and then targets the layer's weights (`layer.weight[15]`)."
      ]
    },
    {
      "cell_type": "code",
      "execution_count": 36,
      "metadata": {
        "colab": {
          "base_uri": "https://localhost:8080/"
        },
        "id": "ZB8tpcpA5ZUW",
        "outputId": "06a9fe42-39bc-48c2-b7f7-5a3940a077a0"
      },
      "outputs": [
        {
          "output_type": "stream",
          "name": "stdout",
          "text": [
            "tensor([[[ 0.4024,  0.3000,  0.3122],\n",
            "         [ 0.1823,  0.3942, -0.0013],\n",
            "         [-0.1987, -0.2554, -0.4594]]], grad_fn=<SelectBackward0>)\n"
          ]
        }
      ],
      "source": [
        "filter = cnn_classifier.model[0].blocks[0].layer.weight[15]\n",
        "\n",
        "print(filter)"
      ]
    },
    {
      "cell_type": "markdown",
      "metadata": {
        "id": "W1zqRuij5ZUW"
      },
      "source": [
        "### Visualizing the Activations of the Convolutional Layers\n",
        "\n",
        "Pick the image of an infected smear to then check the activations it produces on the last convolutional layer ..."
      ]
    },
    {
      "cell_type": "code",
      "execution_count": 37,
      "metadata": {
        "colab": {
          "base_uri": "https://localhost:8080/",
          "height": 211
        },
        "id": "RqJgnCWR5ZUX",
        "outputId": "9378b687-1533-410a-b71b-2977a1389231"
      },
      "outputs": [
        {
          "output_type": "error",
          "ename": "AttributeError",
          "evalue": "'list' object has no attribute 'samples'",
          "traceback": [
            "\u001b[0;31m---------------------------------------------------------------------------\u001b[0m",
            "\u001b[0;31mAttributeError\u001b[0m                            Traceback (most recent call last)",
            "\u001b[0;32m<ipython-input-37-5e3cac4b65e6>\u001b[0m in \u001b[0;36m<cell line: 0>\u001b[0;34m()\u001b[0m\n\u001b[1;32m      2\u001b[0m \u001b[0;34m\u001b[0m\u001b[0m\n\u001b[1;32m      3\u001b[0m \u001b[0mim_ind\u001b[0m \u001b[0;34m=\u001b[0m \u001b[0;36m0\u001b[0m\u001b[0;34m\u001b[0m\u001b[0;34m\u001b[0m\u001b[0m\n\u001b[0;32m----> 4\u001b[0;31m \u001b[0mimage_filename\u001b[0m \u001b[0;34m=\u001b[0m \u001b[0mdataset\u001b[0m\u001b[0;34m.\u001b[0m\u001b[0msamples\u001b[0m\u001b[0;34m[\u001b[0m\u001b[0mim_ind\u001b[0m\u001b[0;34m]\u001b[0m\u001b[0;34m[\u001b[0m\u001b[0;36m0\u001b[0m\u001b[0;34m]\u001b[0m\u001b[0;34m\u001b[0m\u001b[0;34m\u001b[0m\u001b[0m\n\u001b[0m\u001b[1;32m      5\u001b[0m \u001b[0mimage_hr\u001b[0m \u001b[0;34m=\u001b[0m \u001b[0mImage\u001b[0m\u001b[0;34m.\u001b[0m\u001b[0mopen\u001b[0m\u001b[0;34m(\u001b[0m\u001b[0mimage_filename\u001b[0m\u001b[0;34m)\u001b[0m\u001b[0;34m\u001b[0m\u001b[0;34m\u001b[0m\u001b[0m\n\u001b[1;32m      6\u001b[0m \u001b[0mimage\u001b[0m \u001b[0;34m=\u001b[0m \u001b[0mimage_trans\u001b[0m\u001b[0;34m(\u001b[0m\u001b[0mimage_hr\u001b[0m\u001b[0;34m)\u001b[0m\u001b[0;34m\u001b[0m\u001b[0;34m\u001b[0m\u001b[0m\n",
            "\u001b[0;31mAttributeError\u001b[0m: 'list' object has no attribute 'samples'"
          ]
        }
      ],
      "source": [
        "from PIL import Image\n",
        "\n",
        "im_ind = 0\n",
        "image_filename = dataset.samples[im_ind][0]\n",
        "image_hr = Image.open(image_filename)\n",
        "image = image_trans(image_hr)"
      ]
    },
    {
      "cell_type": "markdown",
      "metadata": {
        "id": "GTlPEwPc5ZUX"
      },
      "source": [
        "... verify whether this image is of a parasitized cell ..."
      ]
    },
    {
      "cell_type": "code",
      "execution_count": null,
      "metadata": {
        "id": "xJLY2Wj15ZUY"
      },
      "outputs": [],
      "source": [
        "print(label_trans(dataset.targets[im_ind]))"
      ]
    },
    {
      "cell_type": "markdown",
      "metadata": {
        "id": "gZ8OTIGt5ZUY"
      },
      "source": [
        "... define a function to visualize the activations ..."
      ]
    },
    {
      "cell_type": "code",
      "execution_count": null,
      "metadata": {
        "id": "6heKlVqB5ZUY"
      },
      "outputs": [],
      "source": [
        "def plot_activations(activations, cols=8):\n",
        "    \"\"\"Visualize activations.\"\"\"\n",
        "    rows = -(activations.shape[0] // -cols)\n",
        "\n",
        "    fig, axs = plt.subplots(rows, cols, figsize=(2 * cols, 2 * rows))\n",
        "    for i, ax in enumerate(axs.ravel()):\n",
        "        ax.axis(\"off\")\n",
        "        if i < activations.shape[0]:\n",
        "            ax.imshow(activations[i].numpy())\n",
        "            ax.set_title(i, fontsize=16)\n",
        "    plt.show()"
      ]
    },
    {
      "cell_type": "markdown",
      "metadata": {
        "id": "rzR5UvzT5ZUZ"
      },
      "source": [
        "... add a hook to access the activations in the forward pass ...\n"
      ]
    },
    {
      "cell_type": "code",
      "execution_count": null,
      "metadata": {
        "id": "RMIiR86P5ZUZ"
      },
      "outputs": [],
      "source": [
        "def hook_func(layer, input, output):\n",
        "    \"\"\"Hook for activations.\"\"\"\n",
        "    activations = output.detach().clone()\n",
        "    plot_activations(activations[0])\n",
        "\n",
        "for block in cnn_classifier.model[0].blocks:\n",
        "    layer = block.layer\n",
        "    handle_hook = layer.register_forward_hook(hook_func)\n",
        "\n",
        "    try:\n",
        "        pred = cnn_classifier.model(image.unsqueeze(0))\n",
        "    except Exception as e:\n",
        "        print(f\"An error occurred during model prediction: {e}\")\n",
        "    finally:\n",
        "        handle_hook.remove()"
      ]
    },
    {
      "cell_type": "markdown",
      "metadata": {
        "id": "LUvAB7Lc5ZUa"
      },
      "source": [
        "### Visualizing the Heatmaps\n",
        "\n",
        "Use hooks to keep tracks also of the gradients in the backward pass ..."
      ]
    },
    {
      "cell_type": "code",
      "execution_count": null,
      "metadata": {
        "id": "Y3BQP-rm5ZUa"
      },
      "outputs": [],
      "source": [
        "hookdata = {}\n",
        "\n",
        "def fwd_hook_func(layer, input, output):\n",
        "    \"\"\"Forward hook function.\"\"\"\n",
        "    hookdata[\"activations\"] = output.detach().clone()\n",
        "\n",
        "def bwd_hook_func(layer, grad_input, grad_output):\n",
        "    \"\"\"Backward hook function.\"\"\"\n",
        "    hookdata[\"gradients\"] = grad_output[0].detach().clone()\n",
        "\n",
        "layer = cnn_classifier.model[0].blocks[3].layer\n",
        "handle_fwd_hook = layer.register_forward_hook(fwd_hook_func)\n",
        "handle_bwd_hook = layer.register_full_backward_hook(bwd_hook_func)\n",
        "\n",
        "try:\n",
        "    pred = cnn_classifier.model(image.unsqueeze(0))\n",
        "    pred.sum().backward()\n",
        "except Exception as e:\n",
        "    print(f\"An error occurred during model prediction: {e}\")\n",
        "finally:\n",
        "    handle_fwd_hook.remove()\n",
        "    handle_bwd_hook.remove()"
      ]
    },
    {
      "cell_type": "markdown",
      "metadata": {
        "id": "Kmtw_0-U5ZUa"
      },
      "source": [
        "... calculate the heatmap combining activations and gradients ..."
      ]
    },
    {
      "cell_type": "code",
      "execution_count": null,
      "metadata": {
        "id": "eDyTW3_d5ZUb"
      },
      "outputs": [],
      "source": [
        "from torch.nn.functional import relu\n",
        "\n",
        "activations = hookdata[\"activations\"][0]\n",
        "gradients = hookdata[\"gradients\"][0]\n",
        "\n",
        "pooled_gradients = gradients.mean(dim=[1, 2], keepdim=True)\n",
        "heatmap = relu((pooled_gradients * activations).sum(0)).detach().numpy()"
      ]
    },
    {
      "cell_type": "markdown",
      "metadata": {
        "id": "Ya1DRRbq5ZUb"
      },
      "source": [
        "... and plot the heatmap."
      ]
    },
    {
      "cell_type": "code",
      "execution_count": null,
      "metadata": {
        "id": "PVG8S6j_5ZUc"
      },
      "outputs": [],
      "source": [
        "from numpy import array\n",
        "from skimage.exposure import rescale_intensity\n",
        "from skimage.transform import resize\n",
        "\n",
        "rescaled_image = rescale_intensity(array(image_hr), out_range=(0, 1))\n",
        "resized_heatmap = resize(heatmap, rescaled_image.shape, order=2)\n",
        "rescaled_heatmap = rescale_intensity(resized_heatmap, out_range=(0.25, 1))\n",
        "\n",
        "plt.figure(figsize=(12, 5))\n",
        "\n",
        "plt.subplot(1, 3, 1)\n",
        "plt.imshow(rescaled_image, interpolation=\"bilinear\")\n",
        "plt.title(\"Original image\", fontsize=16)\n",
        "plt.axis(\"off\")\n",
        "\n",
        "plt.subplot(1, 3, 2)\n",
        "plt.imshow(rescaled_heatmap.mean(axis=-1), interpolation=\"bilinear\")\n",
        "plt.title(\"Heatmap with Grad-CAM\", fontsize=16)\n",
        "plt.axis(\"off\")\n",
        "\n",
        "plt.subplot(1, 3, 3)\n",
        "plt.imshow(rescaled_image * rescaled_heatmap)\n",
        "plt.title(\"Overlay\", fontsize=16)\n",
        "plt.axis(\"off\")\n",
        "\n",
        "plt.show()"
      ]
    }
  ],
  "metadata": {
    "kernelspec": {
      "display_name": "py_env_book",
      "language": "python",
      "name": "python3"
    },
    "language_info": {
      "codemirror_mode": {
        "name": "ipython",
        "version": 3
      },
      "file_extension": ".py",
      "mimetype": "text/x-python",
      "name": "python",
      "nbconvert_exporter": "python",
      "pygments_lexer": "ipython3",
      "version": "3.10.15"
    },
    "colab": {
      "provenance": []
    },
    "widgets": {
      "application/vnd.jupyter.widget-state+json": {
        "58832b11c7624b829a54f5aa2ac17d72": {
          "model_module": "@jupyter-widgets/controls",
          "model_name": "HBoxModel",
          "model_module_version": "1.5.0",
          "state": {
            "_dom_classes": [],
            "_model_module": "@jupyter-widgets/controls",
            "_model_module_version": "1.5.0",
            "_model_name": "HBoxModel",
            "_view_count": null,
            "_view_module": "@jupyter-widgets/controls",
            "_view_module_version": "1.5.0",
            "_view_name": "HBoxView",
            "box_style": "",
            "children": [
              "IPY_MODEL_9687850f03d24b71bbe83aafb3b0059a",
              "IPY_MODEL_4ea29a3f821b43a7880a46b93cc9f3ed",
              "IPY_MODEL_c5618be827534932b25b757112893fcc"
            ],
            "layout": "IPY_MODEL_b5589f80c30f4cdbad26db8acfc7b927"
          }
        },
        "9687850f03d24b71bbe83aafb3b0059a": {
          "model_module": "@jupyter-widgets/controls",
          "model_name": "HTMLModel",
          "model_module_version": "1.5.0",
          "state": {
            "_dom_classes": [],
            "_model_module": "@jupyter-widgets/controls",
            "_model_module_version": "1.5.0",
            "_model_name": "HTMLModel",
            "_view_count": null,
            "_view_module": "@jupyter-widgets/controls",
            "_view_module_version": "1.5.0",
            "_view_name": "HTMLView",
            "description": "",
            "description_tooltip": null,
            "layout": "IPY_MODEL_af10b15b6a5b4005b98f759d37a2f62d",
            "placeholder": "​",
            "style": "IPY_MODEL_1610400baede458da54dcf3eb7c2b903",
            "value": "Epoch 4: 100%"
          }
        },
        "4ea29a3f821b43a7880a46b93cc9f3ed": {
          "model_module": "@jupyter-widgets/controls",
          "model_name": "FloatProgressModel",
          "model_module_version": "1.5.0",
          "state": {
            "_dom_classes": [],
            "_model_module": "@jupyter-widgets/controls",
            "_model_module_version": "1.5.0",
            "_model_name": "FloatProgressModel",
            "_view_count": null,
            "_view_module": "@jupyter-widgets/controls",
            "_view_module_version": "1.5.0",
            "_view_name": "ProgressView",
            "bar_style": "success",
            "description": "",
            "description_tooltip": null,
            "layout": "IPY_MODEL_dcef99c142314f76860fa90441794013",
            "max": 1500,
            "min": 0,
            "orientation": "horizontal",
            "style": "IPY_MODEL_d423475bec7e4398ba110ed237d64c5b",
            "value": 1500
          }
        },
        "c5618be827534932b25b757112893fcc": {
          "model_module": "@jupyter-widgets/controls",
          "model_name": "HTMLModel",
          "model_module_version": "1.5.0",
          "state": {
            "_dom_classes": [],
            "_model_module": "@jupyter-widgets/controls",
            "_model_module_version": "1.5.0",
            "_model_name": "HTMLModel",
            "_view_count": null,
            "_view_module": "@jupyter-widgets/controls",
            "_view_module_version": "1.5.0",
            "_view_name": "HTMLView",
            "description": "",
            "description_tooltip": null,
            "layout": "IPY_MODEL_417b46aa81e3404f8724fe7c498ce616",
            "placeholder": "​",
            "style": "IPY_MODEL_085967a0244a4252b986666090b7bd42",
            "value": " 1500/1500 [00:18&lt;00:00, 81.54it/s, v_num=30, train_loss_step=1.500, trainMulticlassAccuracy_step=0.969, train_loss_epoch=1.490, trainMulticlassAccuracy_epoch=0.967]"
          }
        },
        "b5589f80c30f4cdbad26db8acfc7b927": {
          "model_module": "@jupyter-widgets/base",
          "model_name": "LayoutModel",
          "model_module_version": "1.2.0",
          "state": {
            "_model_module": "@jupyter-widgets/base",
            "_model_module_version": "1.2.0",
            "_model_name": "LayoutModel",
            "_view_count": null,
            "_view_module": "@jupyter-widgets/base",
            "_view_module_version": "1.2.0",
            "_view_name": "LayoutView",
            "align_content": null,
            "align_items": null,
            "align_self": null,
            "border": null,
            "bottom": null,
            "display": "inline-flex",
            "flex": null,
            "flex_flow": "row wrap",
            "grid_area": null,
            "grid_auto_columns": null,
            "grid_auto_flow": null,
            "grid_auto_rows": null,
            "grid_column": null,
            "grid_gap": null,
            "grid_row": null,
            "grid_template_areas": null,
            "grid_template_columns": null,
            "grid_template_rows": null,
            "height": null,
            "justify_content": null,
            "justify_items": null,
            "left": null,
            "margin": null,
            "max_height": null,
            "max_width": null,
            "min_height": null,
            "min_width": null,
            "object_fit": null,
            "object_position": null,
            "order": null,
            "overflow": null,
            "overflow_x": null,
            "overflow_y": null,
            "padding": null,
            "right": null,
            "top": null,
            "visibility": null,
            "width": "100%"
          }
        },
        "af10b15b6a5b4005b98f759d37a2f62d": {
          "model_module": "@jupyter-widgets/base",
          "model_name": "LayoutModel",
          "model_module_version": "1.2.0",
          "state": {
            "_model_module": "@jupyter-widgets/base",
            "_model_module_version": "1.2.0",
            "_model_name": "LayoutModel",
            "_view_count": null,
            "_view_module": "@jupyter-widgets/base",
            "_view_module_version": "1.2.0",
            "_view_name": "LayoutView",
            "align_content": null,
            "align_items": null,
            "align_self": null,
            "border": null,
            "bottom": null,
            "display": null,
            "flex": null,
            "flex_flow": null,
            "grid_area": null,
            "grid_auto_columns": null,
            "grid_auto_flow": null,
            "grid_auto_rows": null,
            "grid_column": null,
            "grid_gap": null,
            "grid_row": null,
            "grid_template_areas": null,
            "grid_template_columns": null,
            "grid_template_rows": null,
            "height": null,
            "justify_content": null,
            "justify_items": null,
            "left": null,
            "margin": null,
            "max_height": null,
            "max_width": null,
            "min_height": null,
            "min_width": null,
            "object_fit": null,
            "object_position": null,
            "order": null,
            "overflow": null,
            "overflow_x": null,
            "overflow_y": null,
            "padding": null,
            "right": null,
            "top": null,
            "visibility": null,
            "width": null
          }
        },
        "1610400baede458da54dcf3eb7c2b903": {
          "model_module": "@jupyter-widgets/controls",
          "model_name": "DescriptionStyleModel",
          "model_module_version": "1.5.0",
          "state": {
            "_model_module": "@jupyter-widgets/controls",
            "_model_module_version": "1.5.0",
            "_model_name": "DescriptionStyleModel",
            "_view_count": null,
            "_view_module": "@jupyter-widgets/base",
            "_view_module_version": "1.2.0",
            "_view_name": "StyleView",
            "description_width": ""
          }
        },
        "dcef99c142314f76860fa90441794013": {
          "model_module": "@jupyter-widgets/base",
          "model_name": "LayoutModel",
          "model_module_version": "1.2.0",
          "state": {
            "_model_module": "@jupyter-widgets/base",
            "_model_module_version": "1.2.0",
            "_model_name": "LayoutModel",
            "_view_count": null,
            "_view_module": "@jupyter-widgets/base",
            "_view_module_version": "1.2.0",
            "_view_name": "LayoutView",
            "align_content": null,
            "align_items": null,
            "align_self": null,
            "border": null,
            "bottom": null,
            "display": null,
            "flex": "2",
            "flex_flow": null,
            "grid_area": null,
            "grid_auto_columns": null,
            "grid_auto_flow": null,
            "grid_auto_rows": null,
            "grid_column": null,
            "grid_gap": null,
            "grid_row": null,
            "grid_template_areas": null,
            "grid_template_columns": null,
            "grid_template_rows": null,
            "height": null,
            "justify_content": null,
            "justify_items": null,
            "left": null,
            "margin": null,
            "max_height": null,
            "max_width": null,
            "min_height": null,
            "min_width": null,
            "object_fit": null,
            "object_position": null,
            "order": null,
            "overflow": null,
            "overflow_x": null,
            "overflow_y": null,
            "padding": null,
            "right": null,
            "top": null,
            "visibility": null,
            "width": null
          }
        },
        "d423475bec7e4398ba110ed237d64c5b": {
          "model_module": "@jupyter-widgets/controls",
          "model_name": "ProgressStyleModel",
          "model_module_version": "1.5.0",
          "state": {
            "_model_module": "@jupyter-widgets/controls",
            "_model_module_version": "1.5.0",
            "_model_name": "ProgressStyleModel",
            "_view_count": null,
            "_view_module": "@jupyter-widgets/base",
            "_view_module_version": "1.2.0",
            "_view_name": "StyleView",
            "bar_color": null,
            "description_width": ""
          }
        },
        "417b46aa81e3404f8724fe7c498ce616": {
          "model_module": "@jupyter-widgets/base",
          "model_name": "LayoutModel",
          "model_module_version": "1.2.0",
          "state": {
            "_model_module": "@jupyter-widgets/base",
            "_model_module_version": "1.2.0",
            "_model_name": "LayoutModel",
            "_view_count": null,
            "_view_module": "@jupyter-widgets/base",
            "_view_module_version": "1.2.0",
            "_view_name": "LayoutView",
            "align_content": null,
            "align_items": null,
            "align_self": null,
            "border": null,
            "bottom": null,
            "display": null,
            "flex": null,
            "flex_flow": null,
            "grid_area": null,
            "grid_auto_columns": null,
            "grid_auto_flow": null,
            "grid_auto_rows": null,
            "grid_column": null,
            "grid_gap": null,
            "grid_row": null,
            "grid_template_areas": null,
            "grid_template_columns": null,
            "grid_template_rows": null,
            "height": null,
            "justify_content": null,
            "justify_items": null,
            "left": null,
            "margin": null,
            "max_height": null,
            "max_width": null,
            "min_height": null,
            "min_width": null,
            "object_fit": null,
            "object_position": null,
            "order": null,
            "overflow": null,
            "overflow_x": null,
            "overflow_y": null,
            "padding": null,
            "right": null,
            "top": null,
            "visibility": null,
            "width": null
          }
        },
        "085967a0244a4252b986666090b7bd42": {
          "model_module": "@jupyter-widgets/controls",
          "model_name": "DescriptionStyleModel",
          "model_module_version": "1.5.0",
          "state": {
            "_model_module": "@jupyter-widgets/controls",
            "_model_module_version": "1.5.0",
            "_model_name": "DescriptionStyleModel",
            "_view_count": null,
            "_view_module": "@jupyter-widgets/base",
            "_view_module_version": "1.2.0",
            "_view_name": "StyleView",
            "description_width": ""
          }
        },
        "8ef56d92b91041c0b3bdc79ae0b65410": {
          "model_module": "@jupyter-widgets/controls",
          "model_name": "HBoxModel",
          "model_module_version": "1.5.0",
          "state": {
            "_dom_classes": [],
            "_model_module": "@jupyter-widgets/controls",
            "_model_module_version": "1.5.0",
            "_model_name": "HBoxModel",
            "_view_count": null,
            "_view_module": "@jupyter-widgets/controls",
            "_view_module_version": "1.5.0",
            "_view_name": "HBoxView",
            "box_style": "",
            "children": [
              "IPY_MODEL_23dddf4e6315471ba3e1400d86013ae5",
              "IPY_MODEL_cfde6f4cc22c4ac687fa6ce836c58744",
              "IPY_MODEL_42af9479c591470ab03ee49d5a218e74"
            ],
            "layout": "IPY_MODEL_d51d2f00d8e04f7f8f969d2659b6a9d2"
          }
        },
        "23dddf4e6315471ba3e1400d86013ae5": {
          "model_module": "@jupyter-widgets/controls",
          "model_name": "HTMLModel",
          "model_module_version": "1.5.0",
          "state": {
            "_dom_classes": [],
            "_model_module": "@jupyter-widgets/controls",
            "_model_module_version": "1.5.0",
            "_model_name": "HTMLModel",
            "_view_count": null,
            "_view_module": "@jupyter-widgets/controls",
            "_view_module_version": "1.5.0",
            "_view_name": "HTMLView",
            "description": "",
            "description_tooltip": null,
            "layout": "IPY_MODEL_06707be0c13e438b831a660a84a43de6",
            "placeholder": "​",
            "style": "IPY_MODEL_17ad05314d964950963a0034ce41247c",
            "value": "Testing DataLoader 0: 100%"
          }
        },
        "cfde6f4cc22c4ac687fa6ce836c58744": {
          "model_module": "@jupyter-widgets/controls",
          "model_name": "FloatProgressModel",
          "model_module_version": "1.5.0",
          "state": {
            "_dom_classes": [],
            "_model_module": "@jupyter-widgets/controls",
            "_model_module_version": "1.5.0",
            "_model_name": "FloatProgressModel",
            "_view_count": null,
            "_view_module": "@jupyter-widgets/controls",
            "_view_module_version": "1.5.0",
            "_view_name": "ProgressView",
            "bar_style": "success",
            "description": "",
            "description_tooltip": null,
            "layout": "IPY_MODEL_25b828dd41644bbc8d69a4b6fd5b14f8",
            "max": 47,
            "min": 0,
            "orientation": "horizontal",
            "style": "IPY_MODEL_efe07059f726414ab353556c99b4078f",
            "value": 47
          }
        },
        "42af9479c591470ab03ee49d5a218e74": {
          "model_module": "@jupyter-widgets/controls",
          "model_name": "HTMLModel",
          "model_module_version": "1.5.0",
          "state": {
            "_dom_classes": [],
            "_model_module": "@jupyter-widgets/controls",
            "_model_module_version": "1.5.0",
            "_model_name": "HTMLModel",
            "_view_count": null,
            "_view_module": "@jupyter-widgets/controls",
            "_view_module_version": "1.5.0",
            "_view_name": "HTMLView",
            "description": "",
            "description_tooltip": null,
            "layout": "IPY_MODEL_a4523500bb9a45999ecee85e5c7ea2f7",
            "placeholder": "​",
            "style": "IPY_MODEL_4b1512e7e4454f4380fa816d25775d68",
            "value": " 47/47 [00:00&lt;00:00, 102.36it/s]"
          }
        },
        "d51d2f00d8e04f7f8f969d2659b6a9d2": {
          "model_module": "@jupyter-widgets/base",
          "model_name": "LayoutModel",
          "model_module_version": "1.2.0",
          "state": {
            "_model_module": "@jupyter-widgets/base",
            "_model_module_version": "1.2.0",
            "_model_name": "LayoutModel",
            "_view_count": null,
            "_view_module": "@jupyter-widgets/base",
            "_view_module_version": "1.2.0",
            "_view_name": "LayoutView",
            "align_content": null,
            "align_items": null,
            "align_self": null,
            "border": null,
            "bottom": null,
            "display": "inline-flex",
            "flex": null,
            "flex_flow": "row wrap",
            "grid_area": null,
            "grid_auto_columns": null,
            "grid_auto_flow": null,
            "grid_auto_rows": null,
            "grid_column": null,
            "grid_gap": null,
            "grid_row": null,
            "grid_template_areas": null,
            "grid_template_columns": null,
            "grid_template_rows": null,
            "height": null,
            "justify_content": null,
            "justify_items": null,
            "left": null,
            "margin": null,
            "max_height": null,
            "max_width": null,
            "min_height": null,
            "min_width": null,
            "object_fit": null,
            "object_position": null,
            "order": null,
            "overflow": null,
            "overflow_x": null,
            "overflow_y": null,
            "padding": null,
            "right": null,
            "top": null,
            "visibility": null,
            "width": "100%"
          }
        },
        "06707be0c13e438b831a660a84a43de6": {
          "model_module": "@jupyter-widgets/base",
          "model_name": "LayoutModel",
          "model_module_version": "1.2.0",
          "state": {
            "_model_module": "@jupyter-widgets/base",
            "_model_module_version": "1.2.0",
            "_model_name": "LayoutModel",
            "_view_count": null,
            "_view_module": "@jupyter-widgets/base",
            "_view_module_version": "1.2.0",
            "_view_name": "LayoutView",
            "align_content": null,
            "align_items": null,
            "align_self": null,
            "border": null,
            "bottom": null,
            "display": null,
            "flex": null,
            "flex_flow": null,
            "grid_area": null,
            "grid_auto_columns": null,
            "grid_auto_flow": null,
            "grid_auto_rows": null,
            "grid_column": null,
            "grid_gap": null,
            "grid_row": null,
            "grid_template_areas": null,
            "grid_template_columns": null,
            "grid_template_rows": null,
            "height": null,
            "justify_content": null,
            "justify_items": null,
            "left": null,
            "margin": null,
            "max_height": null,
            "max_width": null,
            "min_height": null,
            "min_width": null,
            "object_fit": null,
            "object_position": null,
            "order": null,
            "overflow": null,
            "overflow_x": null,
            "overflow_y": null,
            "padding": null,
            "right": null,
            "top": null,
            "visibility": null,
            "width": null
          }
        },
        "17ad05314d964950963a0034ce41247c": {
          "model_module": "@jupyter-widgets/controls",
          "model_name": "DescriptionStyleModel",
          "model_module_version": "1.5.0",
          "state": {
            "_model_module": "@jupyter-widgets/controls",
            "_model_module_version": "1.5.0",
            "_model_name": "DescriptionStyleModel",
            "_view_count": null,
            "_view_module": "@jupyter-widgets/base",
            "_view_module_version": "1.2.0",
            "_view_name": "StyleView",
            "description_width": ""
          }
        },
        "25b828dd41644bbc8d69a4b6fd5b14f8": {
          "model_module": "@jupyter-widgets/base",
          "model_name": "LayoutModel",
          "model_module_version": "1.2.0",
          "state": {
            "_model_module": "@jupyter-widgets/base",
            "_model_module_version": "1.2.0",
            "_model_name": "LayoutModel",
            "_view_count": null,
            "_view_module": "@jupyter-widgets/base",
            "_view_module_version": "1.2.0",
            "_view_name": "LayoutView",
            "align_content": null,
            "align_items": null,
            "align_self": null,
            "border": null,
            "bottom": null,
            "display": null,
            "flex": "2",
            "flex_flow": null,
            "grid_area": null,
            "grid_auto_columns": null,
            "grid_auto_flow": null,
            "grid_auto_rows": null,
            "grid_column": null,
            "grid_gap": null,
            "grid_row": null,
            "grid_template_areas": null,
            "grid_template_columns": null,
            "grid_template_rows": null,
            "height": null,
            "justify_content": null,
            "justify_items": null,
            "left": null,
            "margin": null,
            "max_height": null,
            "max_width": null,
            "min_height": null,
            "min_width": null,
            "object_fit": null,
            "object_position": null,
            "order": null,
            "overflow": null,
            "overflow_x": null,
            "overflow_y": null,
            "padding": null,
            "right": null,
            "top": null,
            "visibility": null,
            "width": null
          }
        },
        "efe07059f726414ab353556c99b4078f": {
          "model_module": "@jupyter-widgets/controls",
          "model_name": "ProgressStyleModel",
          "model_module_version": "1.5.0",
          "state": {
            "_model_module": "@jupyter-widgets/controls",
            "_model_module_version": "1.5.0",
            "_model_name": "ProgressStyleModel",
            "_view_count": null,
            "_view_module": "@jupyter-widgets/base",
            "_view_module_version": "1.2.0",
            "_view_name": "StyleView",
            "bar_color": null,
            "description_width": ""
          }
        },
        "a4523500bb9a45999ecee85e5c7ea2f7": {
          "model_module": "@jupyter-widgets/base",
          "model_name": "LayoutModel",
          "model_module_version": "1.2.0",
          "state": {
            "_model_module": "@jupyter-widgets/base",
            "_model_module_version": "1.2.0",
            "_model_name": "LayoutModel",
            "_view_count": null,
            "_view_module": "@jupyter-widgets/base",
            "_view_module_version": "1.2.0",
            "_view_name": "LayoutView",
            "align_content": null,
            "align_items": null,
            "align_self": null,
            "border": null,
            "bottom": null,
            "display": null,
            "flex": null,
            "flex_flow": null,
            "grid_area": null,
            "grid_auto_columns": null,
            "grid_auto_flow": null,
            "grid_auto_rows": null,
            "grid_column": null,
            "grid_gap": null,
            "grid_row": null,
            "grid_template_areas": null,
            "grid_template_columns": null,
            "grid_template_rows": null,
            "height": null,
            "justify_content": null,
            "justify_items": null,
            "left": null,
            "margin": null,
            "max_height": null,
            "max_width": null,
            "min_height": null,
            "min_width": null,
            "object_fit": null,
            "object_position": null,
            "order": null,
            "overflow": null,
            "overflow_x": null,
            "overflow_y": null,
            "padding": null,
            "right": null,
            "top": null,
            "visibility": null,
            "width": null
          }
        },
        "4b1512e7e4454f4380fa816d25775d68": {
          "model_module": "@jupyter-widgets/controls",
          "model_name": "DescriptionStyleModel",
          "model_module_version": "1.5.0",
          "state": {
            "_model_module": "@jupyter-widgets/controls",
            "_model_module_version": "1.5.0",
            "_model_name": "DescriptionStyleModel",
            "_view_count": null,
            "_view_module": "@jupyter-widgets/base",
            "_view_module_version": "1.2.0",
            "_view_name": "StyleView",
            "description_width": ""
          }
        },
        "f86ed4b917824edbb071212dc1a069b7": {
          "model_module": "@jupyter-widgets/controls",
          "model_name": "HBoxModel",
          "model_module_version": "1.5.0",
          "state": {
            "_dom_classes": [],
            "_model_module": "@jupyter-widgets/controls",
            "_model_module_version": "1.5.0",
            "_model_name": "HBoxModel",
            "_view_count": null,
            "_view_module": "@jupyter-widgets/controls",
            "_view_module_version": "1.5.0",
            "_view_name": "HBoxView",
            "box_style": "",
            "children": [
              "IPY_MODEL_6a144bd88a514471a8b7117b17914c02",
              "IPY_MODEL_6f6259a1b5a94e45b7c06c3ab8811f0e",
              "IPY_MODEL_902c9f5ad56c4d12a52ebb62b3cfb26a"
            ],
            "layout": "IPY_MODEL_3a35a20028dd471fb0e3a29254744a63"
          }
        },
        "6a144bd88a514471a8b7117b17914c02": {
          "model_module": "@jupyter-widgets/controls",
          "model_name": "HTMLModel",
          "model_module_version": "1.5.0",
          "state": {
            "_dom_classes": [],
            "_model_module": "@jupyter-widgets/controls",
            "_model_module_version": "1.5.0",
            "_model_name": "HTMLModel",
            "_view_count": null,
            "_view_module": "@jupyter-widgets/controls",
            "_view_module_version": "1.5.0",
            "_view_name": "HTMLView",
            "description": "",
            "description_tooltip": null,
            "layout": "IPY_MODEL_c3ac10a6bc7a49b6825af52e9a9d1af0",
            "placeholder": "​",
            "style": "IPY_MODEL_e5fd9f6d26cc4af29f5e4c5b4ffd2023",
            "value": "Epoch 4: 100%"
          }
        },
        "6f6259a1b5a94e45b7c06c3ab8811f0e": {
          "model_module": "@jupyter-widgets/controls",
          "model_name": "FloatProgressModel",
          "model_module_version": "1.5.0",
          "state": {
            "_dom_classes": [],
            "_model_module": "@jupyter-widgets/controls",
            "_model_module_version": "1.5.0",
            "_model_name": "FloatProgressModel",
            "_view_count": null,
            "_view_module": "@jupyter-widgets/controls",
            "_view_module_version": "1.5.0",
            "_view_name": "ProgressView",
            "bar_style": "success",
            "description": "",
            "description_tooltip": null,
            "layout": "IPY_MODEL_827167e243b84b06a44eaf68e70ca6d2",
            "max": 1500,
            "min": 0,
            "orientation": "horizontal",
            "style": "IPY_MODEL_80d221d151de4bb98bb3b94809ae1e1a",
            "value": 1500
          }
        },
        "902c9f5ad56c4d12a52ebb62b3cfb26a": {
          "model_module": "@jupyter-widgets/controls",
          "model_name": "HTMLModel",
          "model_module_version": "1.5.0",
          "state": {
            "_dom_classes": [],
            "_model_module": "@jupyter-widgets/controls",
            "_model_module_version": "1.5.0",
            "_model_name": "HTMLModel",
            "_view_count": null,
            "_view_module": "@jupyter-widgets/controls",
            "_view_module_version": "1.5.0",
            "_view_name": "HTMLView",
            "description": "",
            "description_tooltip": null,
            "layout": "IPY_MODEL_fbc228e8d5424da88fd01a75d9350e44",
            "placeholder": "​",
            "style": "IPY_MODEL_a4624091b24b4111bdf69725358337a0",
            "value": " 1500/1500 [01:06&lt;00:00, 22.51it/s, v_num=31, train_loss_step=0.136, trainMulticlassAccuracy_step=0.969, train_loss_epoch=0.181, trainMulticlassAccuracy_epoch=0.945]"
          }
        },
        "3a35a20028dd471fb0e3a29254744a63": {
          "model_module": "@jupyter-widgets/base",
          "model_name": "LayoutModel",
          "model_module_version": "1.2.0",
          "state": {
            "_model_module": "@jupyter-widgets/base",
            "_model_module_version": "1.2.0",
            "_model_name": "LayoutModel",
            "_view_count": null,
            "_view_module": "@jupyter-widgets/base",
            "_view_module_version": "1.2.0",
            "_view_name": "LayoutView",
            "align_content": null,
            "align_items": null,
            "align_self": null,
            "border": null,
            "bottom": null,
            "display": "inline-flex",
            "flex": null,
            "flex_flow": "row wrap",
            "grid_area": null,
            "grid_auto_columns": null,
            "grid_auto_flow": null,
            "grid_auto_rows": null,
            "grid_column": null,
            "grid_gap": null,
            "grid_row": null,
            "grid_template_areas": null,
            "grid_template_columns": null,
            "grid_template_rows": null,
            "height": null,
            "justify_content": null,
            "justify_items": null,
            "left": null,
            "margin": null,
            "max_height": null,
            "max_width": null,
            "min_height": null,
            "min_width": null,
            "object_fit": null,
            "object_position": null,
            "order": null,
            "overflow": null,
            "overflow_x": null,
            "overflow_y": null,
            "padding": null,
            "right": null,
            "top": null,
            "visibility": null,
            "width": "100%"
          }
        },
        "c3ac10a6bc7a49b6825af52e9a9d1af0": {
          "model_module": "@jupyter-widgets/base",
          "model_name": "LayoutModel",
          "model_module_version": "1.2.0",
          "state": {
            "_model_module": "@jupyter-widgets/base",
            "_model_module_version": "1.2.0",
            "_model_name": "LayoutModel",
            "_view_count": null,
            "_view_module": "@jupyter-widgets/base",
            "_view_module_version": "1.2.0",
            "_view_name": "LayoutView",
            "align_content": null,
            "align_items": null,
            "align_self": null,
            "border": null,
            "bottom": null,
            "display": null,
            "flex": null,
            "flex_flow": null,
            "grid_area": null,
            "grid_auto_columns": null,
            "grid_auto_flow": null,
            "grid_auto_rows": null,
            "grid_column": null,
            "grid_gap": null,
            "grid_row": null,
            "grid_template_areas": null,
            "grid_template_columns": null,
            "grid_template_rows": null,
            "height": null,
            "justify_content": null,
            "justify_items": null,
            "left": null,
            "margin": null,
            "max_height": null,
            "max_width": null,
            "min_height": null,
            "min_width": null,
            "object_fit": null,
            "object_position": null,
            "order": null,
            "overflow": null,
            "overflow_x": null,
            "overflow_y": null,
            "padding": null,
            "right": null,
            "top": null,
            "visibility": null,
            "width": null
          }
        },
        "e5fd9f6d26cc4af29f5e4c5b4ffd2023": {
          "model_module": "@jupyter-widgets/controls",
          "model_name": "DescriptionStyleModel",
          "model_module_version": "1.5.0",
          "state": {
            "_model_module": "@jupyter-widgets/controls",
            "_model_module_version": "1.5.0",
            "_model_name": "DescriptionStyleModel",
            "_view_count": null,
            "_view_module": "@jupyter-widgets/base",
            "_view_module_version": "1.2.0",
            "_view_name": "StyleView",
            "description_width": ""
          }
        },
        "827167e243b84b06a44eaf68e70ca6d2": {
          "model_module": "@jupyter-widgets/base",
          "model_name": "LayoutModel",
          "model_module_version": "1.2.0",
          "state": {
            "_model_module": "@jupyter-widgets/base",
            "_model_module_version": "1.2.0",
            "_model_name": "LayoutModel",
            "_view_count": null,
            "_view_module": "@jupyter-widgets/base",
            "_view_module_version": "1.2.0",
            "_view_name": "LayoutView",
            "align_content": null,
            "align_items": null,
            "align_self": null,
            "border": null,
            "bottom": null,
            "display": null,
            "flex": "2",
            "flex_flow": null,
            "grid_area": null,
            "grid_auto_columns": null,
            "grid_auto_flow": null,
            "grid_auto_rows": null,
            "grid_column": null,
            "grid_gap": null,
            "grid_row": null,
            "grid_template_areas": null,
            "grid_template_columns": null,
            "grid_template_rows": null,
            "height": null,
            "justify_content": null,
            "justify_items": null,
            "left": null,
            "margin": null,
            "max_height": null,
            "max_width": null,
            "min_height": null,
            "min_width": null,
            "object_fit": null,
            "object_position": null,
            "order": null,
            "overflow": null,
            "overflow_x": null,
            "overflow_y": null,
            "padding": null,
            "right": null,
            "top": null,
            "visibility": null,
            "width": null
          }
        },
        "80d221d151de4bb98bb3b94809ae1e1a": {
          "model_module": "@jupyter-widgets/controls",
          "model_name": "ProgressStyleModel",
          "model_module_version": "1.5.0",
          "state": {
            "_model_module": "@jupyter-widgets/controls",
            "_model_module_version": "1.5.0",
            "_model_name": "ProgressStyleModel",
            "_view_count": null,
            "_view_module": "@jupyter-widgets/base",
            "_view_module_version": "1.2.0",
            "_view_name": "StyleView",
            "bar_color": null,
            "description_width": ""
          }
        },
        "fbc228e8d5424da88fd01a75d9350e44": {
          "model_module": "@jupyter-widgets/base",
          "model_name": "LayoutModel",
          "model_module_version": "1.2.0",
          "state": {
            "_model_module": "@jupyter-widgets/base",
            "_model_module_version": "1.2.0",
            "_model_name": "LayoutModel",
            "_view_count": null,
            "_view_module": "@jupyter-widgets/base",
            "_view_module_version": "1.2.0",
            "_view_name": "LayoutView",
            "align_content": null,
            "align_items": null,
            "align_self": null,
            "border": null,
            "bottom": null,
            "display": null,
            "flex": null,
            "flex_flow": null,
            "grid_area": null,
            "grid_auto_columns": null,
            "grid_auto_flow": null,
            "grid_auto_rows": null,
            "grid_column": null,
            "grid_gap": null,
            "grid_row": null,
            "grid_template_areas": null,
            "grid_template_columns": null,
            "grid_template_rows": null,
            "height": null,
            "justify_content": null,
            "justify_items": null,
            "left": null,
            "margin": null,
            "max_height": null,
            "max_width": null,
            "min_height": null,
            "min_width": null,
            "object_fit": null,
            "object_position": null,
            "order": null,
            "overflow": null,
            "overflow_x": null,
            "overflow_y": null,
            "padding": null,
            "right": null,
            "top": null,
            "visibility": null,
            "width": null
          }
        },
        "a4624091b24b4111bdf69725358337a0": {
          "model_module": "@jupyter-widgets/controls",
          "model_name": "DescriptionStyleModel",
          "model_module_version": "1.5.0",
          "state": {
            "_model_module": "@jupyter-widgets/controls",
            "_model_module_version": "1.5.0",
            "_model_name": "DescriptionStyleModel",
            "_view_count": null,
            "_view_module": "@jupyter-widgets/base",
            "_view_module_version": "1.2.0",
            "_view_name": "StyleView",
            "description_width": ""
          }
        },
        "8231897b24dc4e2f8256268be1040f7e": {
          "model_module": "@jupyter-widgets/controls",
          "model_name": "HBoxModel",
          "model_module_version": "1.5.0",
          "state": {
            "_dom_classes": [],
            "_model_module": "@jupyter-widgets/controls",
            "_model_module_version": "1.5.0",
            "_model_name": "HBoxModel",
            "_view_count": null,
            "_view_module": "@jupyter-widgets/controls",
            "_view_module_version": "1.5.0",
            "_view_name": "HBoxView",
            "box_style": "",
            "children": [
              "IPY_MODEL_117054ac11ca45a99d7f990c9b6f0474",
              "IPY_MODEL_7c648c12ca4049efbca1fb8fd8ed2e11",
              "IPY_MODEL_ea493c4c352a4befa3de8a4a583e1912"
            ],
            "layout": "IPY_MODEL_568d6367cfe448118f4411a2f04bdf32"
          }
        },
        "117054ac11ca45a99d7f990c9b6f0474": {
          "model_module": "@jupyter-widgets/controls",
          "model_name": "HTMLModel",
          "model_module_version": "1.5.0",
          "state": {
            "_dom_classes": [],
            "_model_module": "@jupyter-widgets/controls",
            "_model_module_version": "1.5.0",
            "_model_name": "HTMLModel",
            "_view_count": null,
            "_view_module": "@jupyter-widgets/controls",
            "_view_module_version": "1.5.0",
            "_view_name": "HTMLView",
            "description": "",
            "description_tooltip": null,
            "layout": "IPY_MODEL_151783c597434d0bbe5368b66f01d3c2",
            "placeholder": "​",
            "style": "IPY_MODEL_197f55cc6e4b4b5485fc626cb665d1fd",
            "value": "Testing DataLoader 0: 100%"
          }
        },
        "7c648c12ca4049efbca1fb8fd8ed2e11": {
          "model_module": "@jupyter-widgets/controls",
          "model_name": "FloatProgressModel",
          "model_module_version": "1.5.0",
          "state": {
            "_dom_classes": [],
            "_model_module": "@jupyter-widgets/controls",
            "_model_module_version": "1.5.0",
            "_model_name": "FloatProgressModel",
            "_view_count": null,
            "_view_module": "@jupyter-widgets/controls",
            "_view_module_version": "1.5.0",
            "_view_name": "ProgressView",
            "bar_style": "success",
            "description": "",
            "description_tooltip": null,
            "layout": "IPY_MODEL_2884620488df49bc80ac2e128005a96c",
            "max": 47,
            "min": 0,
            "orientation": "horizontal",
            "style": "IPY_MODEL_b4da5cac58d64ac0b92c7c7242670e4b",
            "value": 47
          }
        },
        "ea493c4c352a4befa3de8a4a583e1912": {
          "model_module": "@jupyter-widgets/controls",
          "model_name": "HTMLModel",
          "model_module_version": "1.5.0",
          "state": {
            "_dom_classes": [],
            "_model_module": "@jupyter-widgets/controls",
            "_model_module_version": "1.5.0",
            "_model_name": "HTMLModel",
            "_view_count": null,
            "_view_module": "@jupyter-widgets/controls",
            "_view_module_version": "1.5.0",
            "_view_name": "HTMLView",
            "description": "",
            "description_tooltip": null,
            "layout": "IPY_MODEL_479dcca9920b45828e5ce9f5fc6dad33",
            "placeholder": "​",
            "style": "IPY_MODEL_da03d5c951194036a0d657949de16e09",
            "value": " 47/47 [00:07&lt;00:00,  6.51it/s]"
          }
        },
        "568d6367cfe448118f4411a2f04bdf32": {
          "model_module": "@jupyter-widgets/base",
          "model_name": "LayoutModel",
          "model_module_version": "1.2.0",
          "state": {
            "_model_module": "@jupyter-widgets/base",
            "_model_module_version": "1.2.0",
            "_model_name": "LayoutModel",
            "_view_count": null,
            "_view_module": "@jupyter-widgets/base",
            "_view_module_version": "1.2.0",
            "_view_name": "LayoutView",
            "align_content": null,
            "align_items": null,
            "align_self": null,
            "border": null,
            "bottom": null,
            "display": "inline-flex",
            "flex": null,
            "flex_flow": "row wrap",
            "grid_area": null,
            "grid_auto_columns": null,
            "grid_auto_flow": null,
            "grid_auto_rows": null,
            "grid_column": null,
            "grid_gap": null,
            "grid_row": null,
            "grid_template_areas": null,
            "grid_template_columns": null,
            "grid_template_rows": null,
            "height": null,
            "justify_content": null,
            "justify_items": null,
            "left": null,
            "margin": null,
            "max_height": null,
            "max_width": null,
            "min_height": null,
            "min_width": null,
            "object_fit": null,
            "object_position": null,
            "order": null,
            "overflow": null,
            "overflow_x": null,
            "overflow_y": null,
            "padding": null,
            "right": null,
            "top": null,
            "visibility": null,
            "width": "100%"
          }
        },
        "151783c597434d0bbe5368b66f01d3c2": {
          "model_module": "@jupyter-widgets/base",
          "model_name": "LayoutModel",
          "model_module_version": "1.2.0",
          "state": {
            "_model_module": "@jupyter-widgets/base",
            "_model_module_version": "1.2.0",
            "_model_name": "LayoutModel",
            "_view_count": null,
            "_view_module": "@jupyter-widgets/base",
            "_view_module_version": "1.2.0",
            "_view_name": "LayoutView",
            "align_content": null,
            "align_items": null,
            "align_self": null,
            "border": null,
            "bottom": null,
            "display": null,
            "flex": null,
            "flex_flow": null,
            "grid_area": null,
            "grid_auto_columns": null,
            "grid_auto_flow": null,
            "grid_auto_rows": null,
            "grid_column": null,
            "grid_gap": null,
            "grid_row": null,
            "grid_template_areas": null,
            "grid_template_columns": null,
            "grid_template_rows": null,
            "height": null,
            "justify_content": null,
            "justify_items": null,
            "left": null,
            "margin": null,
            "max_height": null,
            "max_width": null,
            "min_height": null,
            "min_width": null,
            "object_fit": null,
            "object_position": null,
            "order": null,
            "overflow": null,
            "overflow_x": null,
            "overflow_y": null,
            "padding": null,
            "right": null,
            "top": null,
            "visibility": null,
            "width": null
          }
        },
        "197f55cc6e4b4b5485fc626cb665d1fd": {
          "model_module": "@jupyter-widgets/controls",
          "model_name": "DescriptionStyleModel",
          "model_module_version": "1.5.0",
          "state": {
            "_model_module": "@jupyter-widgets/controls",
            "_model_module_version": "1.5.0",
            "_model_name": "DescriptionStyleModel",
            "_view_count": null,
            "_view_module": "@jupyter-widgets/base",
            "_view_module_version": "1.2.0",
            "_view_name": "StyleView",
            "description_width": ""
          }
        },
        "2884620488df49bc80ac2e128005a96c": {
          "model_module": "@jupyter-widgets/base",
          "model_name": "LayoutModel",
          "model_module_version": "1.2.0",
          "state": {
            "_model_module": "@jupyter-widgets/base",
            "_model_module_version": "1.2.0",
            "_model_name": "LayoutModel",
            "_view_count": null,
            "_view_module": "@jupyter-widgets/base",
            "_view_module_version": "1.2.0",
            "_view_name": "LayoutView",
            "align_content": null,
            "align_items": null,
            "align_self": null,
            "border": null,
            "bottom": null,
            "display": null,
            "flex": "2",
            "flex_flow": null,
            "grid_area": null,
            "grid_auto_columns": null,
            "grid_auto_flow": null,
            "grid_auto_rows": null,
            "grid_column": null,
            "grid_gap": null,
            "grid_row": null,
            "grid_template_areas": null,
            "grid_template_columns": null,
            "grid_template_rows": null,
            "height": null,
            "justify_content": null,
            "justify_items": null,
            "left": null,
            "margin": null,
            "max_height": null,
            "max_width": null,
            "min_height": null,
            "min_width": null,
            "object_fit": null,
            "object_position": null,
            "order": null,
            "overflow": null,
            "overflow_x": null,
            "overflow_y": null,
            "padding": null,
            "right": null,
            "top": null,
            "visibility": null,
            "width": null
          }
        },
        "b4da5cac58d64ac0b92c7c7242670e4b": {
          "model_module": "@jupyter-widgets/controls",
          "model_name": "ProgressStyleModel",
          "model_module_version": "1.5.0",
          "state": {
            "_model_module": "@jupyter-widgets/controls",
            "_model_module_version": "1.5.0",
            "_model_name": "ProgressStyleModel",
            "_view_count": null,
            "_view_module": "@jupyter-widgets/base",
            "_view_module_version": "1.2.0",
            "_view_name": "StyleView",
            "bar_color": null,
            "description_width": ""
          }
        },
        "479dcca9920b45828e5ce9f5fc6dad33": {
          "model_module": "@jupyter-widgets/base",
          "model_name": "LayoutModel",
          "model_module_version": "1.2.0",
          "state": {
            "_model_module": "@jupyter-widgets/base",
            "_model_module_version": "1.2.0",
            "_model_name": "LayoutModel",
            "_view_count": null,
            "_view_module": "@jupyter-widgets/base",
            "_view_module_version": "1.2.0",
            "_view_name": "LayoutView",
            "align_content": null,
            "align_items": null,
            "align_self": null,
            "border": null,
            "bottom": null,
            "display": null,
            "flex": null,
            "flex_flow": null,
            "grid_area": null,
            "grid_auto_columns": null,
            "grid_auto_flow": null,
            "grid_auto_rows": null,
            "grid_column": null,
            "grid_gap": null,
            "grid_row": null,
            "grid_template_areas": null,
            "grid_template_columns": null,
            "grid_template_rows": null,
            "height": null,
            "justify_content": null,
            "justify_items": null,
            "left": null,
            "margin": null,
            "max_height": null,
            "max_width": null,
            "min_height": null,
            "min_width": null,
            "object_fit": null,
            "object_position": null,
            "order": null,
            "overflow": null,
            "overflow_x": null,
            "overflow_y": null,
            "padding": null,
            "right": null,
            "top": null,
            "visibility": null,
            "width": null
          }
        },
        "da03d5c951194036a0d657949de16e09": {
          "model_module": "@jupyter-widgets/controls",
          "model_name": "DescriptionStyleModel",
          "model_module_version": "1.5.0",
          "state": {
            "_model_module": "@jupyter-widgets/controls",
            "_model_module_version": "1.5.0",
            "_model_name": "DescriptionStyleModel",
            "_view_count": null,
            "_view_module": "@jupyter-widgets/base",
            "_view_module_version": "1.2.0",
            "_view_name": "StyleView",
            "description_width": ""
          }
        }
      }
    }
  },
  "nbformat": 4,
  "nbformat_minor": 0
}