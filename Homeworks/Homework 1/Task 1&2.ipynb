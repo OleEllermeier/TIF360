{
  "cells": [
    {
      "cell_type": "markdown",
      "metadata": {
        "id": "ar-nu8aC5ZTy"
      },
      "source": [
        "# Classifying Blood Smears with a Convolutional Neural Network\n",
        "\n",
        "\n",
        "<div style=\"background-color: #f0f8ff; border: 2px solid #4682b4; padding: 10px;\">\n",
        "<a href=\"https://colab.research.google.com/github/DeepTrackAI/DeepLearningCrashCourse/blob/main/Ch03_CNN/ec03_A_blood_smears/blood_smears.ipynb\" target=\"_parent\"><img src=\"https://colab.research.google.com/assets/colab-badge.svg\" alt=\"Open In Colab\"/></a>\n",
        "<strong>If using Colab/Kaggle:</strong> You need to uncomment the code in the cell below this one.\n",
        "</div>"
      ]
    },
    {
      "cell_type": "code",
      "execution_count": 1,
      "metadata": {
        "id": "bCT0qNXi5ZT3",
        "colab": {
          "base_uri": "https://localhost:8080/"
        },
        "outputId": "395cbb7a-6372-4d7a-d38b-4eb0aae3d4a2"
      },
      "outputs": [
        {
          "output_type": "stream",
          "name": "stdout",
          "text": [
            "Requirement already satisfied: deeplay in /usr/local/lib/python3.11/dist-packages (0.1.3)\n",
            "Requirement already satisfied: numpy in /usr/local/lib/python3.11/dist-packages (from deeplay) (2.0.2)\n",
            "Requirement already satisfied: matplotlib in /usr/local/lib/python3.11/dist-packages (from deeplay) (3.10.0)\n",
            "Requirement already satisfied: torch>2.3 in /usr/local/lib/python3.11/dist-packages (from deeplay) (2.6.0+cu124)\n",
            "Requirement already satisfied: lightning in /usr/local/lib/python3.11/dist-packages (from deeplay) (2.5.1)\n",
            "Requirement already satisfied: torchmetrics in /usr/local/lib/python3.11/dist-packages (from deeplay) (1.7.0)\n",
            "Requirement already satisfied: torchvision in /usr/local/lib/python3.11/dist-packages (from deeplay) (0.21.0+cu124)\n",
            "Requirement already satisfied: torch-geometric in /usr/local/lib/python3.11/dist-packages (from deeplay) (2.6.1)\n",
            "Requirement already satisfied: kornia in /usr/local/lib/python3.11/dist-packages (from deeplay) (0.8.0)\n",
            "Requirement already satisfied: scipy in /usr/local/lib/python3.11/dist-packages (from deeplay) (1.14.1)\n",
            "Requirement already satisfied: scikit-image in /usr/local/lib/python3.11/dist-packages (from deeplay) (0.25.2)\n",
            "Requirement already satisfied: rich in /usr/local/lib/python3.11/dist-packages (from deeplay) (13.9.4)\n",
            "Requirement already satisfied: dill in /usr/local/lib/python3.11/dist-packages (from deeplay) (0.3.9)\n",
            "Requirement already satisfied: filelock in /usr/local/lib/python3.11/dist-packages (from torch>2.3->deeplay) (3.18.0)\n",
            "Requirement already satisfied: typing-extensions>=4.10.0 in /usr/local/lib/python3.11/dist-packages (from torch>2.3->deeplay) (4.13.0)\n",
            "Requirement already satisfied: networkx in /usr/local/lib/python3.11/dist-packages (from torch>2.3->deeplay) (3.4.2)\n",
            "Requirement already satisfied: jinja2 in /usr/local/lib/python3.11/dist-packages (from torch>2.3->deeplay) (3.1.6)\n",
            "Requirement already satisfied: fsspec in /usr/local/lib/python3.11/dist-packages (from torch>2.3->deeplay) (2025.3.0)\n",
            "Requirement already satisfied: nvidia-cuda-nvrtc-cu12==12.4.127 in /usr/local/lib/python3.11/dist-packages (from torch>2.3->deeplay) (12.4.127)\n",
            "Requirement already satisfied: nvidia-cuda-runtime-cu12==12.4.127 in /usr/local/lib/python3.11/dist-packages (from torch>2.3->deeplay) (12.4.127)\n",
            "Requirement already satisfied: nvidia-cuda-cupti-cu12==12.4.127 in /usr/local/lib/python3.11/dist-packages (from torch>2.3->deeplay) (12.4.127)\n",
            "Requirement already satisfied: nvidia-cudnn-cu12==9.1.0.70 in /usr/local/lib/python3.11/dist-packages (from torch>2.3->deeplay) (9.1.0.70)\n",
            "Requirement already satisfied: nvidia-cublas-cu12==12.4.5.8 in /usr/local/lib/python3.11/dist-packages (from torch>2.3->deeplay) (12.4.5.8)\n",
            "Requirement already satisfied: nvidia-cufft-cu12==11.2.1.3 in /usr/local/lib/python3.11/dist-packages (from torch>2.3->deeplay) (11.2.1.3)\n",
            "Requirement already satisfied: nvidia-curand-cu12==10.3.5.147 in /usr/local/lib/python3.11/dist-packages (from torch>2.3->deeplay) (10.3.5.147)\n",
            "Requirement already satisfied: nvidia-cusolver-cu12==11.6.1.9 in /usr/local/lib/python3.11/dist-packages (from torch>2.3->deeplay) (11.6.1.9)\n",
            "Requirement already satisfied: nvidia-cusparse-cu12==12.3.1.170 in /usr/local/lib/python3.11/dist-packages (from torch>2.3->deeplay) (12.3.1.170)\n",
            "Requirement already satisfied: nvidia-cusparselt-cu12==0.6.2 in /usr/local/lib/python3.11/dist-packages (from torch>2.3->deeplay) (0.6.2)\n",
            "Requirement already satisfied: nvidia-nccl-cu12==2.21.5 in /usr/local/lib/python3.11/dist-packages (from torch>2.3->deeplay) (2.21.5)\n",
            "Requirement already satisfied: nvidia-nvtx-cu12==12.4.127 in /usr/local/lib/python3.11/dist-packages (from torch>2.3->deeplay) (12.4.127)\n",
            "Requirement already satisfied: nvidia-nvjitlink-cu12==12.4.127 in /usr/local/lib/python3.11/dist-packages (from torch>2.3->deeplay) (12.4.127)\n",
            "Requirement already satisfied: triton==3.2.0 in /usr/local/lib/python3.11/dist-packages (from torch>2.3->deeplay) (3.2.0)\n",
            "Requirement already satisfied: sympy==1.13.1 in /usr/local/lib/python3.11/dist-packages (from torch>2.3->deeplay) (1.13.1)\n",
            "Requirement already satisfied: mpmath<1.4,>=1.1.0 in /usr/local/lib/python3.11/dist-packages (from sympy==1.13.1->torch>2.3->deeplay) (1.3.0)\n",
            "Requirement already satisfied: kornia_rs>=0.1.0 in /usr/local/lib/python3.11/dist-packages (from kornia->deeplay) (0.1.8)\n",
            "Requirement already satisfied: packaging in /usr/local/lib/python3.11/dist-packages (from kornia->deeplay) (24.2)\n",
            "Requirement already satisfied: PyYAML<8.0,>=5.4 in /usr/local/lib/python3.11/dist-packages (from lightning->deeplay) (6.0.2)\n",
            "Requirement already satisfied: lightning-utilities<2.0,>=0.10.0 in /usr/local/lib/python3.11/dist-packages (from lightning->deeplay) (0.14.2)\n",
            "Requirement already satisfied: tqdm<6.0,>=4.57.0 in /usr/local/lib/python3.11/dist-packages (from lightning->deeplay) (4.67.1)\n",
            "Requirement already satisfied: pytorch-lightning in /usr/local/lib/python3.11/dist-packages (from lightning->deeplay) (2.5.1)\n",
            "Requirement already satisfied: contourpy>=1.0.1 in /usr/local/lib/python3.11/dist-packages (from matplotlib->deeplay) (1.3.1)\n",
            "Requirement already satisfied: cycler>=0.10 in /usr/local/lib/python3.11/dist-packages (from matplotlib->deeplay) (0.12.1)\n",
            "Requirement already satisfied: fonttools>=4.22.0 in /usr/local/lib/python3.11/dist-packages (from matplotlib->deeplay) (4.56.0)\n",
            "Requirement already satisfied: kiwisolver>=1.3.1 in /usr/local/lib/python3.11/dist-packages (from matplotlib->deeplay) (1.4.8)\n",
            "Requirement already satisfied: pillow>=8 in /usr/local/lib/python3.11/dist-packages (from matplotlib->deeplay) (11.1.0)\n",
            "Requirement already satisfied: pyparsing>=2.3.1 in /usr/local/lib/python3.11/dist-packages (from matplotlib->deeplay) (3.2.3)\n",
            "Requirement already satisfied: python-dateutil>=2.7 in /usr/local/lib/python3.11/dist-packages (from matplotlib->deeplay) (2.8.2)\n",
            "Requirement already satisfied: markdown-it-py>=2.2.0 in /usr/local/lib/python3.11/dist-packages (from rich->deeplay) (3.0.0)\n",
            "Requirement already satisfied: pygments<3.0.0,>=2.13.0 in /usr/local/lib/python3.11/dist-packages (from rich->deeplay) (2.18.0)\n",
            "Requirement already satisfied: imageio!=2.35.0,>=2.33 in /usr/local/lib/python3.11/dist-packages (from scikit-image->deeplay) (2.37.0)\n",
            "Requirement already satisfied: tifffile>=2022.8.12 in /usr/local/lib/python3.11/dist-packages (from scikit-image->deeplay) (2025.3.13)\n",
            "Requirement already satisfied: lazy-loader>=0.4 in /usr/local/lib/python3.11/dist-packages (from scikit-image->deeplay) (0.4)\n",
            "Requirement already satisfied: aiohttp in /usr/local/lib/python3.11/dist-packages (from torch-geometric->deeplay) (3.11.14)\n",
            "Requirement already satisfied: psutil>=5.8.0 in /usr/local/lib/python3.11/dist-packages (from torch-geometric->deeplay) (5.9.5)\n",
            "Requirement already satisfied: requests in /usr/local/lib/python3.11/dist-packages (from torch-geometric->deeplay) (2.32.3)\n",
            "Requirement already satisfied: aiohappyeyeballs>=2.3.0 in /usr/local/lib/python3.11/dist-packages (from aiohttp->torch-geometric->deeplay) (2.6.1)\n",
            "Requirement already satisfied: aiosignal>=1.1.2 in /usr/local/lib/python3.11/dist-packages (from aiohttp->torch-geometric->deeplay) (1.3.2)\n",
            "Requirement already satisfied: attrs>=17.3.0 in /usr/local/lib/python3.11/dist-packages (from aiohttp->torch-geometric->deeplay) (25.3.0)\n",
            "Requirement already satisfied: frozenlist>=1.1.1 in /usr/local/lib/python3.11/dist-packages (from aiohttp->torch-geometric->deeplay) (1.5.0)\n",
            "Requirement already satisfied: multidict<7.0,>=4.5 in /usr/local/lib/python3.11/dist-packages (from aiohttp->torch-geometric->deeplay) (6.2.0)\n",
            "Requirement already satisfied: propcache>=0.2.0 in /usr/local/lib/python3.11/dist-packages (from aiohttp->torch-geometric->deeplay) (0.3.1)\n",
            "Requirement already satisfied: yarl<2.0,>=1.17.0 in /usr/local/lib/python3.11/dist-packages (from aiohttp->torch-geometric->deeplay) (1.18.3)\n",
            "Requirement already satisfied: setuptools in /usr/local/lib/python3.11/dist-packages (from lightning-utilities<2.0,>=0.10.0->lightning->deeplay) (75.2.0)\n",
            "Requirement already satisfied: mdurl~=0.1 in /usr/local/lib/python3.11/dist-packages (from markdown-it-py>=2.2.0->rich->deeplay) (0.1.2)\n",
            "Requirement already satisfied: six>=1.5 in /usr/local/lib/python3.11/dist-packages (from python-dateutil>=2.7->matplotlib->deeplay) (1.17.0)\n",
            "Requirement already satisfied: MarkupSafe>=2.0 in /usr/local/lib/python3.11/dist-packages (from jinja2->torch>2.3->deeplay) (3.0.2)\n",
            "Requirement already satisfied: charset-normalizer<4,>=2 in /usr/local/lib/python3.11/dist-packages (from requests->torch-geometric->deeplay) (3.4.1)\n",
            "Requirement already satisfied: idna<4,>=2.5 in /usr/local/lib/python3.11/dist-packages (from requests->torch-geometric->deeplay) (3.10)\n",
            "Requirement already satisfied: urllib3<3,>=1.21.1 in /usr/local/lib/python3.11/dist-packages (from requests->torch-geometric->deeplay) (2.3.0)\n",
            "Requirement already satisfied: certifi>=2017.4.17 in /usr/local/lib/python3.11/dist-packages (from requests->torch-geometric->deeplay) (2025.1.31)\n"
          ]
        }
      ],
      "source": [
        "!pip install deeplay  # Uncomment if using Colab/Kaggle."
      ]
    },
    {
      "cell_type": "markdown",
      "metadata": {
        "id": "dYb-hMRs5ZT5"
      },
      "source": [
        "This notebook provides you with a complete code example that loads the malaria dataset, trains a convolutional neural network with dense top to classify the images of cells with and without malaria, analyzes where the trained network fails, and shows the network activations and heatmaps."
      ]
    },
    {
      "cell_type": "markdown",
      "metadata": {
        "id": "3PWYs5g95ZT6"
      },
      "source": [
        "<div style=\"background-color: #f0f8ff; border: 2px solid #4682b4; padding: 10px;\">\n",
        "<strong>Note:</strong> This notebook contains the Code Example 3-A from the book  \n",
        "\n",
        "**Deep Learning Crash Course**  \n",
        "Benjamin Midtvedt, Jesús Pineda, Henrik Klein Moberg, Harshith Bachimanchi, Joana B. Pereira, Carlo Manzo, Giovanni Volpe  \n",
        "No Starch Press, San Francisco (CA), 2025  \n",
        "ISBN-13: 9781718503922  \n",
        "\n",
        "[https://nostarch.com/deep-learning-crash-course](https://nostarch.com/deep-learning-crash-course)\n",
        "\n",
        "You can find the other notebooks on the [Deep Learning Crash Course GitHub page](https://github.com/DeepTrackAI/DeepLearningCrashCourse).\n",
        "</div>"
      ]
    },
    {
      "cell_type": "markdown",
      "metadata": {
        "id": "kVmHdFCk5ZT7"
      },
      "source": [
        "## Loading the Malaria Dataset"
      ]
    },
    {
      "cell_type": "markdown",
      "metadata": {
        "id": "zNi_jukR5ZT8"
      },
      "source": [
        "This dataset was originally published in S. Rajaraman, S. K. Antani, M. Poost- chi, K. Silamut, Md A. Hossain, R. J. Maude, S. Jaeger, and G. R. Thoma. _Pre-trained convolutional neural networks as feature extractors toward improved malaria parasite detection in thin blood smear images._ PeerJ 6, e4568, 2018.\n",
        "\n",
        "It is available at https://data.lhncbc.nlm.nih.gov/public/Malaria/cell_images.zip.\n"
      ]
    },
    {
      "cell_type": "code",
      "execution_count": 2,
      "metadata": {
        "id": "ayl48cLf5ZT8"
      },
      "outputs": [],
      "source": [
        "import os\n",
        "from torchvision.datasets.utils import _extract_zip, download_url\n",
        "\n",
        "dataset_path = os.path.join(\".\", \"blood_smears_dataset\")\n",
        "if not os.path.exists(dataset_path):\n",
        "    url = \"https://data.lhncbc.nlm.nih.gov/public/Malaria/cell_images.zip\"\n",
        "    download_url(url, \".\")\n",
        "    _extract_zip(\"cell_images.zip\", dataset_path, None)\n",
        "    os.remove(\"cell_images.zip\")"
      ]
    },
    {
      "cell_type": "markdown",
      "metadata": {
        "id": "TpGcX1gJ5ZT9"
      },
      "source": [
        "### Transforming the Images and Their Ground Thruth\n",
        "\n",
        "Define a transformation to resize the images to 28 by 28 pixels and convert them to PyTorch tensors (note that `ToTensor()` also normalizes their values between 0 and 1) ..."
      ]
    },
    {
      "cell_type": "code",
      "execution_count": 3,
      "metadata": {
        "id": "ZM56mqv-5ZT_"
      },
      "outputs": [],
      "source": [
        "from torchvision.transforms import Compose, Resize, ToTensor\n",
        "\n",
        "image_trans = Compose([Resize((28, 28)), ToTensor()])"
      ]
    },
    {
      "cell_type": "markdown",
      "metadata": {
        "id": "_hQFiCCv5ZT_"
      },
      "source": [
        "... define a transformation to make the target label equal to 0 for the uninfected cells and to 1 for the parasitized ones, converting it into a floating-point PyTorch tensor and adding a new dimension for batch processing ..."
      ]
    },
    {
      "cell_type": "code",
      "execution_count": 4,
      "metadata": {
        "id": "J5NLJzHz5ZUA"
      },
      "outputs": [],
      "source": [
        "import torch\n",
        "\n",
        "def label_trans(label):\n",
        "    \"\"\"Transform label.\"\"\"\n",
        "    return torch.tensor(1 - label).float().unsqueeze(-1)"
      ]
    },
    {
      "cell_type": "markdown",
      "metadata": {
        "id": "E5RmMpZ35ZUA"
      },
      "source": [
        "... and define a dataset that also makes these transformations."
      ]
    },
    {
      "cell_type": "code",
      "execution_count": 5,
      "metadata": {
        "id": "Iv93uxHi5ZUB"
      },
      "outputs": [],
      "source": [
        "from torchvision.datasets import ImageFolder\n",
        "\n",
        "base_dir = os.path.join(dataset_path, \"cell_images\")\n",
        "dataset = ImageFolder(base_dir, transform=image_trans,\n",
        "                      target_transform=label_trans)"
      ]
    },
    {
      "cell_type": "markdown",
      "metadata": {
        "id": "3lzgyljM5ZUB"
      },
      "source": [
        "### Visualizing the Blood Smears\n",
        "\n",
        "Implement a function to plot some examples of blood smears ..."
      ]
    },
    {
      "cell_type": "code",
      "execution_count": 6,
      "metadata": {
        "id": "oEBRPnN65ZUC"
      },
      "outputs": [],
      "source": [
        "import matplotlib.pyplot as plt\n",
        "import numpy as np\n",
        "\n",
        "def plot_blood_smears(dataset, parasitized):\n",
        "    \"\"\"Plot blood smears.\"\"\"\n",
        "    fig, axs = plt.subplots(3, 6, figsize=(16, 8))\n",
        "    for ax in axs.ravel():\n",
        "        image, label = dataset[np.random.randint(0, len(dataset))]\n",
        "        if isinstance(image, torch.Tensor):\n",
        "            image, label = image.numpy().transpose(1, 2, 0), label.numpy()\n",
        "        ax.imshow(image)\n",
        "        ax.set_title(f\"Parasitized ({label})\" if label == parasitized\n",
        "                     else f\"Uninfected ({label})\", fontsize=16)\n",
        "    plt.tight_layout()\n",
        "    plt.show()"
      ]
    },
    {
      "cell_type": "markdown",
      "metadata": {
        "id": "qaxbEAR55ZUC"
      },
      "source": [
        "... and use it to plot them."
      ]
    },
    {
      "cell_type": "code",
      "execution_count": 7,
      "metadata": {
        "colab": {
          "base_uri": "https://localhost:8080/",
          "height": 732
        },
        "id": "LonXLaNW5ZUC",
        "outputId": "f4b47edc-a932-453d-ef4d-b16f2c2da065"
      },
      "outputs": [
        {
          "output_type": "display_data",
          "data": {
            "text/plain": [
              "<Figure size 1600x800 with 18 Axes>"
            ],
            "image/png": "[encoded data removed]"
          },
          "metadata": {}
        }
      ],
      "source": [
        "plot_blood_smears(dataset, parasitized=1)"
      ]
    },
    {
      "cell_type": "markdown",
      "source": [
        "# New data set"
      ],
      "metadata": {
        "id": "MaTE4Yi97IDv"
      }
    },
    {
      "cell_type": "code",
      "source": [
        "import os\n",
        "\n",
        "if not os.path.exists(\"MNIST_dataset\"):\n",
        "    os.system(\"git clone https://github.com/DeepTrackAI/MNIST_dataset\")\n",
        "\n",
        "train_path = os.path.join(\"MNIST_dataset\", \"mnist\", \"train\")\n",
        "train_image_files = sorted(os.listdir(train_path))"
      ],
      "metadata": {
        "id": "x3Q9YVdR7Os0"
      },
      "execution_count": 8,
      "outputs": []
    },
    {
      "cell_type": "code",
      "source": [
        "import matplotlib.pyplot as plt\n",
        "\n",
        "train_images = []\n",
        "for file in train_image_files:\n",
        "    image = plt.imread(os.path.join(train_path, file))\n",
        "    train_images.append(image)"
      ],
      "metadata": {
        "id": "TVwCwBit8Vbx"
      },
      "execution_count": 9,
      "outputs": []
    },
    {
      "cell_type": "code",
      "source": [
        "print(len(train_images))\n",
        "print(train_images[0].shape)"
      ],
      "metadata": {
        "colab": {
          "base_uri": "https://localhost:8080/"
        },
        "id": "zAiL1QN68UxX",
        "outputId": "a249c86a-37e1-40fc-dc5d-8803a46f508a"
      },
      "execution_count": 10,
      "outputs": [
        {
          "output_type": "stream",
          "name": "stdout",
          "text": [
            "60000\n",
            "(28, 28)\n"
          ]
        }
      ]
    },
    {
      "cell_type": "code",
      "source": [
        "train_digits = []\n",
        "for file in train_image_files:\n",
        "    filename = os.path.basename(file)\n",
        "    digit = int(filename[0])\n",
        "    train_digits.append(digit)"
      ],
      "metadata": {
        "id": "Uxzgzdak8fHp"
      },
      "execution_count": 11,
      "outputs": []
    },
    {
      "cell_type": "code",
      "source": [
        "import numpy as np\n",
        "\n",
        "fig, axs = plt.subplots(nrows=3, ncols=10, figsize=(20, 6))\n",
        "for ax in axs.ravel():\n",
        "    idx_image = np.random.choice(60000)\n",
        "    ax.imshow(train_images[idx_image], cmap=\"Greys\")\n",
        "    ax.set_title(f\"Label: {train_digits[idx_image]}\", fontsize=20)\n",
        "    ax.axis(\"off\")\n",
        "plt.show()"
      ],
      "metadata": {
        "colab": {
          "base_uri": "https://localhost:8080/",
          "height": 474
        },
        "id": "1YzawLcZ8hlS",
        "outputId": "1e299be4-5d34-4b59-f65f-9179b9cdcf65"
      },
      "execution_count": 12,
      "outputs": [
        {
          "output_type": "display_data",
          "data": {
            "text/plain": [
              "<Figure size 2000x600 with 30 Axes>"
            ],
            "image/png": "[encoded data removed]"
          },
          "metadata": {}
        }
      ]
    },
    {
      "cell_type": "markdown",
      "metadata": {
        "id": "xHD2oOYQ5ZUE"
      },
      "source": [
        "### Splitting the Dataset and Defining the Data Loaders\n",
        "\n",
        "Split the dataset, composed by ca. 27,000 cell images, into train (80%) and test (20%) sets ..."
      ]
    },
    {
      "cell_type": "code",
      "source": [
        "train_data = list(zip(train_images, train_digits))  # Create a list of (image, label) tuples"
      ],
      "metadata": {
        "id": "PshdUcIv_3NB"
      },
      "execution_count": 13,
      "outputs": []
    },
    {
      "cell_type": "code",
      "source": [
        "dataset = train_data # define the new data set"
      ],
      "metadata": {
        "id": "7GYSvE5U-Ttu"
      },
      "execution_count": 14,
      "outputs": []
    },
    {
      "cell_type": "code",
      "execution_count": 15,
      "metadata": {
        "id": "rjX7IcCM5ZUF"
      },
      "outputs": [],
      "source": [
        "train, test = torch.utils.data.random_split(dataset, [0.8, 0.2])"
      ]
    },
    {
      "cell_type": "markdown",
      "metadata": {
        "id": "LpB0O0Yx5ZUF"
      },
      "source": [
        "... and define the data loaders."
      ]
    },
    {
      "cell_type": "code",
      "execution_count": 16,
      "metadata": {
        "id": "0dxBPMb25ZUG"
      },
      "outputs": [],
      "source": [
        "train_loader = torch.utils.data.DataLoader(train, batch_size=32, shuffle=True)\n",
        "test_loader = torch.utils.data.DataLoader(test, batch_size=256, shuffle=False)"
      ]
    },
    {
      "cell_type": "code",
      "source": [
        "import deeplay as dl\n",
        "\n",
        "train_images_digits = list(zip(train_images, train_digits))\n",
        "train_loader = dl.DataLoader(train_images_digits, shuffle=True)\n",
        "\n",
        "test_path = os.path.join(\"MNIST_dataset\", \"mnist\", \"test\")\n",
        "test_images_files = sorted(os.listdir(test_path))\n",
        "\n",
        "test_images, test_digits = [], []\n",
        "for file in test_images_files:\n",
        "    image = plt.imread(os.path.join(test_path, file))\n",
        "    test_images.append(image)\n",
        "\n",
        "    filename = os.path.basename(file)\n",
        "    digit = int(filename[0])\n",
        "    test_digits.append(digit)\n",
        "\n",
        "test_images_digits = list(zip(test_images, test_digits))\n",
        "test_loader = dl.DataLoader(test_images_digits, shuffle=False)"
      ],
      "metadata": {
        "id": "4bLsXjerDY5L"
      },
      "execution_count": 17,
      "outputs": []
    },
    {
      "cell_type": "markdown",
      "metadata": {
        "id": "Yu8aHcx75ZUH"
      },
      "source": [
        "## Classifying the Blood Smears with Dense Neural Networks\n",
        "\n",
        "Implement a dense neural network ..."
      ]
    },
    {
      "cell_type": "code",
      "execution_count": 18,
      "metadata": {
        "id": "a3cYV_NS5ZUH"
      },
      "outputs": [],
      "source": [
        "class MNISTClassifier(dl.Classifier):\n",
        "    def train_preprocess(self, batch):\n",
        "        images, labels = batch\n",
        "        # Reshape the images to be 1D tensors\n",
        "        images = images.view(images.size(0), -1)\n",
        "        # Explicitly convert labels to torch.int64\n",
        "        labels = labels.type(torch.int64)\n",
        "        return images, labels\n",
        "\n",
        "dnn = dl.MultiLayerPerceptron(\n",
        "    in_features=28 * 28, hidden_features=[128, 128], out_features=10, # change out_features to 10 for the 10 digits\n",
        "    out_activation=torch.nn.Softmax,\n",
        ")"
      ]
    },
    {
      "cell_type": "markdown",
      "metadata": {
        "id": "2i6McXZW5ZUI"
      },
      "source": [
        "... print out its detailed architecture ..."
      ]
    },
    {
      "cell_type": "code",
      "execution_count": 19,
      "metadata": {
        "colab": {
          "base_uri": "https://localhost:8080/"
        },
        "id": "WjfhzQUC5ZUI",
        "outputId": "daedb213-ab47-4321-beac-f651485678e9"
      },
      "outputs": [
        {
          "output_type": "stream",
          "name": "stdout",
          "text": [
            "MultiLayerPerceptron(\n",
            "  (blocks): LayerList(\n",
            "    (0): LinearBlock(\n",
            "      (layer): Layer[Linear](in_features=784, out_features=128, bias=True)\n",
            "      (activation): Layer[ReLU]()\n",
            "    )\n",
            "    (1): LinearBlock(\n",
            "      (layer): Layer[Linear](in_features=128, out_features=128, bias=True)\n",
            "      (activation): Layer[ReLU]()\n",
            "    )\n",
            "    (2): LinearBlock(\n",
            "      (layer): Layer[Linear](in_features=128, out_features=10, bias=True)\n",
            "      (activation): Layer[Softmax]()\n",
            "    )\n",
            "  )\n",
            ")\n"
          ]
        }
      ],
      "source": [
        "print(dnn)"
      ]
    },
    {
      "cell_type": "markdown",
      "metadata": {
        "id": "2eKlcqoy5ZUJ"
      },
      "source": [
        "... compile it ..."
      ]
    },
    {
      "cell_type": "code",
      "execution_count": 20,
      "metadata": {
        "colab": {
          "base_uri": "https://localhost:8080/"
        },
        "id": "weSodld65ZUJ",
        "outputId": "ee2e7c32-8e96-4f0a-a7c9-3ebe01075fae"
      },
      "outputs": [
        {
          "output_type": "stream",
          "name": "stderr",
          "text": [
            "/usr/local/lib/python3.11/dist-packages/torch/nn/modules/module.py:1739: UserWarning: Implicit dimension choice for softmax has been deprecated. Change the call to include dim=X as an argument.\n",
            "  return self._call_impl(*args, **kwargs)\n"
          ]
        }
      ],
      "source": [
        "# dnn_classifier = dl.BinaryClassifier(\n",
        "#     model=dnn, optimizer=dl.RMSprop(lr=0.001),\n",
        "# ).create()\n",
        "\n",
        "from torch.nn import CrossEntropyLoss\n",
        "\n",
        "classifier_template = dl.Classifier(\n",
        "    model=dnn, num_classes=10, make_targets_one_hot=True,\n",
        "    loss=CrossEntropyLoss(),\n",
        ")\n",
        "dnn_classifier = classifier_template.create()"
      ]
    },
    {
      "cell_type": "markdown",
      "metadata": {
        "id": "6zOm8AgR5ZUK"
      },
      "source": [
        "... and print out the compiled dense neural network."
      ]
    },
    {
      "cell_type": "code",
      "execution_count": 21,
      "metadata": {
        "colab": {
          "base_uri": "https://localhost:8080/"
        },
        "id": "iolBIZgC5ZUK",
        "outputId": "a85333c0-9adb-47f5-dae0-685d1805dc89"
      },
      "outputs": [
        {
          "output_type": "stream",
          "name": "stdout",
          "text": [
            "Classifier(\n",
            "  (loss): CrossEntropyLoss()\n",
            "  (optimizer): Adam[Adam](lr=0.001)\n",
            "  (train_metrics): MetricCollection(\n",
            "    (MulticlassAccuracy): MulticlassAccuracy(),\n",
            "    prefix=train\n",
            "  )\n",
            "  (val_metrics): MetricCollection(\n",
            "    (MulticlassAccuracy): MulticlassAccuracy(),\n",
            "    prefix=val\n",
            "  )\n",
            "  (test_metrics): MetricCollection(\n",
            "    (MulticlassAccuracy): MulticlassAccuracy(),\n",
            "    prefix=test\n",
            "  )\n",
            "  (model): MultiLayerPerceptron(\n",
            "    (blocks): LayerList(\n",
            "      (0): LinearBlock(\n",
            "        (layer): Linear(in_features=784, out_features=128, bias=True)\n",
            "        (activation): ReLU()\n",
            "      )\n",
            "      (1): LinearBlock(\n",
            "        (layer): Linear(in_features=128, out_features=128, bias=True)\n",
            "        (activation): ReLU()\n",
            "      )\n",
            "      (2): LinearBlock(\n",
            "        (layer): Linear(in_features=128, out_features=10, bias=True)\n",
            "        (activation): Softmax(dim=None)\n",
            "      )\n",
            "    )\n",
            "  )\n",
            ")\n"
          ]
        }
      ],
      "source": [
        "print(dnn_classifier)"
      ]
    },
    {
      "cell_type": "markdown",
      "metadata": {
        "id": "gaaW4YYD5ZUK"
      },
      "source": [
        "The default loss of `dl.BinaryClassifier` is a binary cross-entropy loss."
      ]
    },
    {
      "cell_type": "markdown",
      "metadata": {
        "id": "JUvNQdJn5ZUL"
      },
      "source": [
        "### Training the Dense Neural Network"
      ]
    },
    {
      "cell_type": "code",
      "execution_count": 22,
      "metadata": {
        "id": "mCnunbDT5ZUL"
      },
      "outputs": [],
      "source": [
        "# dnn_trainer = dl.Trainer(max_epochs=5, accelerator=\"auto\")\n",
        "# dnn_trainer.fit(dnn_classifier, train_loader)"
      ]
    },
    {
      "cell_type": "markdown",
      "metadata": {
        "id": "8X2vfgbh5ZUM"
      },
      "source": [
        "### Testing the Dense Neural Network"
      ]
    },
    {
      "cell_type": "code",
      "execution_count": 23,
      "metadata": {
        "id": "sXRkvj8W5ZUN"
      },
      "outputs": [],
      "source": [
        "# dnn_trainer.test(dnn_classifier, test_loader)"
      ]
    },
    {
      "cell_type": "markdown",
      "metadata": {
        "id": "KOFCOPHA5ZUN"
      },
      "source": [
        "### Plotting the ROC Curve\n",
        "\n",
        "Implement a function to plot the ROC curve ..."
      ]
    },
    {
      "cell_type": "code",
      "execution_count": 24,
      "metadata": {
        "id": "6nYc01ko5ZUN"
      },
      "outputs": [],
      "source": [
        "import torchmetrics as tm\n",
        "\n",
        "# def plot_roc(classifier, loader):\n",
        "#     \"\"\"Plot ROC curve.\"\"\"\n",
        "#     roc = tm.ROC(task=\"multiclass\", num_classes=10)\n",
        "#     for image, label in loader:\n",
        "#         roc.update(classifier(image), label.long())\n",
        "\n",
        "#     fig, ax = roc.plot(score=True)\n",
        "#     ax.grid(False)\n",
        "#     ax.axis(\"square\")\n",
        "#     ax.set_xlim(0, 1)\n",
        "#     ax.set_ylim(0, 1)\n",
        "#     ax.legend(loc=\"center right\")\n",
        "#     plt.show()"
      ]
    },
    {
      "cell_type": "markdown",
      "metadata": {
        "id": "n32y7wvX5ZUO"
      },
      "source": [
        "... and use it to plot the performance of the classifier based on a dense neural network."
      ]
    },
    {
      "cell_type": "code",
      "execution_count": 25,
      "metadata": {
        "id": "KFrv9fIX5ZUO"
      },
      "outputs": [],
      "source": [
        "# plot_roc(dnn_classifier, test_loader)"
      ]
    },
    {
      "cell_type": "markdown",
      "metadata": {
        "id": "vTeIYb1F5ZUO"
      },
      "source": [
        "## Classifying the Blood Smears with Convolutional Neural Networks\n",
        "\n",
        "Implement a convolutional neural network with a dense top ..."
      ]
    },
    {
      "cell_type": "code",
      "source": [
        "class MNISTCNNClassifier(dl.Classifier):\n",
        "    def train_preprocess(self, batch):\n",
        "        images, labels = batch\n",
        "        # Convert images (which are numpy arrays) to torch tensors if needed.\n",
        "        if not isinstance(images, torch.Tensor):\n",
        "            images = torch.tensor(np.array(images), dtype=torch.float32)\n",
        "        # If the image is 2D (28, 28), add a channel dimension.\n",
        "        if images.ndim == 3:  # (batch, height, width)\n",
        "            images = images.unsqueeze(1)  # becomes (batch, 1, height, width)\n",
        "        # Ensure labels are proper torch tensors\n",
        "        if not isinstance(labels, torch.Tensor):\n",
        "            labels = torch.tensor(labels, dtype=torch.int64)\n",
        "        return images, labels\n",
        "\n",
        "    def test_preprocess(self, batch):\n",
        "        images, labels = batch\n",
        "        # Same as train_preprocess: convert and add channel if necessary.\n",
        "        if not isinstance(images, torch.Tensor):\n",
        "            images = torch.tensor(np.array(images), dtype=torch.float32)\n",
        "        if images.ndim == 3:\n",
        "            images = images.unsqueeze(1)\n",
        "        if not isinstance(labels, torch.Tensor):\n",
        "            labels = torch.tensor(labels, dtype=torch.int64)\n",
        "        return images, labels\n"
      ],
      "metadata": {
        "id": "aDNNdG4lZJXx"
      },
      "execution_count": 26,
      "outputs": []
    },
    {
      "cell_type": "code",
      "execution_count": 27,
      "metadata": {
        "id": "dD-fSmuq5ZUP"
      },
      "outputs": [],
      "source": [
        "conv_base = dl.ConvolutionalNeuralNetwork(\n",
        "    in_channels=1, hidden_channels=[16, 16, 32], out_channels=32, #in_channels = 1\n",
        ")\n",
        "conv_base.blocks[2].pool.configure(torch.nn.MaxPool2d, kernel_size=2)\n",
        "\n",
        "connector = dl.Layer(torch.nn.AdaptiveAvgPool2d, output_size=1)\n",
        "\n",
        "dense_top = dl.MultiLayerPerceptron(\n",
        "    in_features=32, hidden_features=[], out_features=10, #out_features 10\n",
        ")\n",
        "\n",
        "cnn = dl.Sequential(conv_base, connector, dense_top)"
      ]
    },
    {
      "cell_type": "markdown",
      "metadata": {
        "id": "5ts0aBVs5ZUQ"
      },
      "source": [
        "... print out its detailed architecture ..."
      ]
    },
    {
      "cell_type": "code",
      "execution_count": 28,
      "metadata": {
        "colab": {
          "base_uri": "https://localhost:8080/"
        },
        "id": "18Rk2hMo5ZUQ",
        "outputId": "fc806102-d37f-4da8-8550-0f64cabf56e6"
      },
      "outputs": [
        {
          "output_type": "stream",
          "name": "stdout",
          "text": [
            "Sequential(\n",
            "  (0): ConvolutionalNeuralNetwork(\n",
            "    (blocks): LayerList(\n",
            "      (0): Conv2dBlock(\n",
            "        (layer): Layer[Conv2d](in_channels=1, out_channels=16, kernel_size=3, stride=1, padding=1)\n",
            "        (activation): Layer[ReLU]()\n",
            "      )\n",
            "      (1): Conv2dBlock(\n",
            "        (layer): Layer[Conv2d](in_channels=16, out_channels=16, kernel_size=3, stride=1, padding=1)\n",
            "        (activation): Layer[ReLU]()\n",
            "      )\n",
            "      (2): Conv2dBlock(\n",
            "        (pool): Layer[MaxPool2d](kernel_size=2)\n",
            "        (layer): Layer[Conv2d](in_channels=16, out_channels=32, kernel_size=3, stride=1, padding=1)\n",
            "        (activation): Layer[ReLU]()\n",
            "      )\n",
            "      (3): Conv2dBlock(\n",
            "        (layer): Layer[Conv2d](in_channels=32, out_channels=32, kernel_size=3, stride=1, padding=1)\n",
            "        (activation): Layer[Identity]()\n",
            "      )\n",
            "    )\n",
            "  )\n",
            "  (1): Layer[AdaptiveAvgPool2d](output_size=1)\n",
            "  (2): MultiLayerPerceptron(\n",
            "    (blocks): LayerList(\n",
            "      (0): LinearBlock(\n",
            "        (layer): Layer[Linear](in_features=32, out_features=10, bias=True)\n",
            "        (activation): Layer[Identity]()\n",
            "      )\n",
            "    )\n",
            "  )\n",
            ")\n"
          ]
        }
      ],
      "source": [
        "print(cnn)"
      ]
    },
    {
      "cell_type": "markdown",
      "metadata": {
        "id": "bcbn2BgY5ZUR"
      },
      "source": [
        "... compile it ..."
      ]
    },
    {
      "cell_type": "code",
      "execution_count": 29,
      "metadata": {
        "id": "XbsLtgbm5ZUR"
      },
      "outputs": [],
      "source": [
        "# cnn_classifier = dl.Classifier( #multiple classes\n",
        "#     model=cnn,\n",
        "#     num_classes=10,\n",
        "#     make_targets_one_hot=True,\n",
        "#     loss=CrossEntropyLoss(),\n",
        "# ).create()\n",
        "\n",
        "cnn_classifier = MNISTCNNClassifier(\n",
        "    model=cnn,\n",
        "    num_classes=10,\n",
        "    make_targets_one_hot=True,\n",
        "    loss=CrossEntropyLoss(),\n",
        ").create()"
      ]
    },
    {
      "cell_type": "markdown",
      "metadata": {
        "id": "mCli6out5ZUR"
      },
      "source": [
        "... and print out the compiled convolutional neural network."
      ]
    },
    {
      "cell_type": "code",
      "execution_count": 30,
      "metadata": {
        "colab": {
          "base_uri": "https://localhost:8080/"
        },
        "id": "0iHwbHXe5ZUS",
        "outputId": "038a075a-ad46-4005-b455-0e587e71323d"
      },
      "outputs": [
        {
          "output_type": "stream",
          "name": "stdout",
          "text": [
            "MNISTCNNClassifier(\n",
            "  (loss): CrossEntropyLoss()\n",
            "  (optimizer): Adam[Adam](lr=0.001)\n",
            "  (train_metrics): MetricCollection(\n",
            "    (MulticlassAccuracy): MulticlassAccuracy(),\n",
            "    prefix=train\n",
            "  )\n",
            "  (val_metrics): MetricCollection(\n",
            "    (MulticlassAccuracy): MulticlassAccuracy(),\n",
            "    prefix=val\n",
            "  )\n",
            "  (test_metrics): MetricCollection(\n",
            "    (MulticlassAccuracy): MulticlassAccuracy(),\n",
            "    prefix=test\n",
            "  )\n",
            "  (model): Sequential(\n",
            "    (0): ConvolutionalNeuralNetwork(\n",
            "      (blocks): LayerList(\n",
            "        (0): Conv2dBlock(\n",
            "          (layer): Conv2d(1, 16, kernel_size=(3, 3), stride=(1, 1), padding=(1, 1))\n",
            "          (activation): ReLU()\n",
            "        )\n",
            "        (1): Conv2dBlock(\n",
            "          (layer): Conv2d(16, 16, kernel_size=(3, 3), stride=(1, 1), padding=(1, 1))\n",
            "          (activation): ReLU()\n",
            "        )\n",
            "        (2): Conv2dBlock(\n",
            "          (pool): MaxPool2d(kernel_size=2, stride=2, padding=0, dilation=1, ceil_mode=False)\n",
            "          (layer): Conv2d(16, 32, kernel_size=(3, 3), stride=(1, 1), padding=(1, 1))\n",
            "          (activation): ReLU()\n",
            "        )\n",
            "        (3): Conv2dBlock(\n",
            "          (layer): Conv2d(32, 32, kernel_size=(3, 3), stride=(1, 1), padding=(1, 1))\n",
            "          (activation): Identity()\n",
            "        )\n",
            "      )\n",
            "    )\n",
            "    (1): AdaptiveAvgPool2d(output_size=1)\n",
            "    (2): MultiLayerPerceptron(\n",
            "      (blocks): LayerList(\n",
            "        (0): LinearBlock(\n",
            "          (layer): Linear(in_features=32, out_features=10, bias=True)\n",
            "          (activation): Identity()\n",
            "        )\n",
            "      )\n",
            "    )\n",
            "  )\n",
            ")\n"
          ]
        }
      ],
      "source": [
        "print(cnn_classifier)"
      ]
    },
    {
      "cell_type": "markdown",
      "metadata": {
        "id": "v4h0t0ww5ZUS"
      },
      "source": [
        "### Training the Convolutional Neural Network"
      ]
    },
    {
      "cell_type": "code",
      "execution_count": 31,
      "metadata": {
        "colab": {
          "base_uri": "https://localhost:8080/",
          "height": 622,
          "referenced_widgets": [
            "25cebf784d1d4fd8b869e50031671cef",
            "f236267fe19d40f898c2efc798893258",
            "63cc670453434bdaa439e11fc1570e1b",
            "ef26ffdecedd40b1b953e63c38a47335",
            "90b94cd6daab4159b6a92772da80a42a",
            "e13c6ede90154e76b82d7b18c80f3274",
            "4469ac7cb4ce48639b39e374949b9fc5",
            "7d5fb99d886c42668f70cbd116db99cd",
            "f494b8a731004b77acc9bbfc219a803f",
            "7e09bc62578d4b1ea589641901f5e26e",
            "c45128b13866437cb7a63c3c09d1d641"
          ]
        },
        "id": "5-S_nmRv5ZUS",
        "outputId": "c99a2b08-75e2-48f8-e31d-a53beedf3799"
      },
      "outputs": [
        {
          "output_type": "stream",
          "name": "stderr",
          "text": [
            "/usr/local/lib/python3.11/dist-packages/lightning/pytorch/trainer/configuration_validator.py:70: You defined a `validation_step` but have no `val_dataloader`. Skipping val loop.\n",
            "INFO: \n",
            "  | Name          | Type             | Params | Mode \n",
            "-----------------------------------------------------------\n",
            "0 | loss          | CrossEntropyLoss | 0      | train\n",
            "1 | train_metrics | MetricCollection | 0      | train\n",
            "2 | val_metrics   | MetricCollection | 0      | train\n",
            "3 | test_metrics  | MetricCollection | 0      | train\n",
            "4 | model         | Sequential       | 16.7 K | train\n",
            "5 | optimizer     | Adam             | 0      | train\n",
            "-----------------------------------------------------------\n",
            "16.7 K    Trainable params\n",
            "0         Non-trainable params\n",
            "16.7 K    Total params\n",
            "0.067     Total estimated model params size (MB)\n",
            "30        Modules in train mode\n",
            "0         Modules in eval mode\n",
            "INFO:lightning.pytorch.callbacks.model_summary:\n",
            "  | Name          | Type             | Params | Mode \n",
            "-----------------------------------------------------------\n",
            "0 | loss          | CrossEntropyLoss | 0      | train\n",
            "1 | train_metrics | MetricCollection | 0      | train\n",
            "2 | val_metrics   | MetricCollection | 0      | train\n",
            "3 | test_metrics  | MetricCollection | 0      | train\n",
            "4 | model         | Sequential       | 16.7 K | train\n",
            "5 | optimizer     | Adam             | 0      | train\n",
            "-----------------------------------------------------------\n",
            "16.7 K    Trainable params\n",
            "0         Non-trainable params\n",
            "16.7 K    Total params\n",
            "0.067     Total estimated model params size (MB)\n",
            "30        Modules in train mode\n",
            "0         Modules in eval mode\n"
          ]
        },
        {
          "output_type": "display_data",
          "data": {
            "text/plain": [
              "Training: |          | 0/? [00:00<?, ?it/s]"
            ],
            "application/vnd.jupyter.widget-view+json": {
              "version_major": 2,
              "version_minor": 0,
              "model_id": "25cebf784d1d4fd8b869e50031671cef"
            }
          },
          "metadata": {}
        }
      ],
      "source": [
        "cnn_trainer = dl.Trainer(max_epochs=1, accelerator=\"auto\")\n",
        "cnn_trainer.fit(cnn_classifier, train_loader)"
      ]
    },
    {
      "cell_type": "markdown",
      "metadata": {
        "id": "9hDfRJ5c5ZUT"
      },
      "source": [
        "### Testing the Convolutional Neural Network"
      ]
    },
    {
      "cell_type": "code",
      "execution_count": 32,
      "metadata": {
        "colab": {
          "base_uri": "https://localhost:8080/",
          "height": 180,
          "referenced_widgets": [
            "1b76ac23dcc94ad9ba703eb1f12b8d83",
            "9496f88bcab84b729028ff1edba0eb2f",
            "f84c0fd05ba1455e955af2ce972bec36",
            "4d0362b190544a22abbbe7d359352e2e",
            "8fb67d8617064d30a3179db28ba5d800",
            "b2c552a671894183ae3c8ddcf2cc34be",
            "3d0768c52acf4ead92110cddf5fad067",
            "e7d5043cb49143a6bd49abffb608b6a8",
            "427a42ea3adc492c95557ae9fd8268ef",
            "fee8af372e474d1e8ab82bab4b1dd1de",
            "9f92437a2566476f81a4db0fc199cb9a"
          ]
        },
        "id": "k6yuDNRD5ZUU",
        "outputId": "003ae661-5990-42b6-c81b-f92e136081b5"
      },
      "outputs": [
        {
          "output_type": "display_data",
          "data": {
            "text/plain": [
              "Testing: |          | 0/? [00:00<?, ?it/s]"
            ],
            "application/vnd.jupyter.widget-view+json": {
              "version_major": 2,
              "version_minor": 0,
              "model_id": "1b76ac23dcc94ad9ba703eb1f12b8d83"
            }
          },
          "metadata": {}
        },
        {
          "output_type": "display_data",
          "data": {
            "text/plain": [
              "┏━━━━━━━━━━━━━━━━━━━━━━━━━━━━━━┳━━━━━━━━━━━━━━━━━━━━━━━━━━━━━━┓\n",
              "┃\u001b[1m \u001b[0m\u001b[1m        Test metric         \u001b[0m\u001b[1m \u001b[0m┃\u001b[1m \u001b[0m\u001b[1m        DataLoader 0        \u001b[0m\u001b[1m \u001b[0m┃\n",
              "┡━━━━━━━━━━━━━━━━━━━━━━━━━━━━━━╇━━━━━━━━━━━━━━━━━━━━━━━━━━━━━━┩\n",
              "│\u001b[36m \u001b[0m\u001b[36mtestMulticlassAccuracy_epoch\u001b[0m\u001b[36m \u001b[0m│\u001b[35m \u001b[0m\u001b[35m     0.968999981880188      \u001b[0m\u001b[35m \u001b[0m│\n",
              "│\u001b[36m \u001b[0m\u001b[36m      test_loss_epoch       \u001b[0m\u001b[36m \u001b[0m│\u001b[35m \u001b[0m\u001b[35m     0.0991816595196724     \u001b[0m\u001b[35m \u001b[0m│\n",
              "└──────────────────────────────┴──────────────────────────────┘\n"
            ],
            "text/html": [
              "<pre style=\"white-space:pre;overflow-x:auto;line-height:normal;font-family:Menlo,'DejaVu Sans Mono',consolas,'Courier New',monospace\">┏━━━━━━━━━━━━━━━━━━━━━━━━━━━━━━┳━━━━━━━━━━━━━━━━━━━━━━━━━━━━━━┓\n",
              "┃<span style=\"font-weight: bold\">         Test metric          </span>┃<span style=\"font-weight: bold\">         DataLoader 0         </span>┃\n",
              "┡━━━━━━━━━━━━━━━━━━━━━━━━━━━━━━╇━━━━━━━━━━━━━━━━━━━━━━━━━━━━━━┩\n",
              "│<span style=\"color: #008080; text-decoration-color: #008080\"> testMulticlassAccuracy_epoch </span>│<span style=\"color: #800080; text-decoration-color: #800080\">      0.968999981880188       </span>│\n",
              "│<span style=\"color: #008080; text-decoration-color: #008080\">       test_loss_epoch        </span>│<span style=\"color: #800080; text-decoration-color: #800080\">      0.0991816595196724      </span>│\n",
              "└──────────────────────────────┴──────────────────────────────┘\n",
              "</pre>\n"
            ]
          },
          "metadata": {}
        },
        {
          "output_type": "execute_result",
          "data": {
            "text/plain": [
              "[{'test_loss_epoch': 0.0991816595196724,\n",
              "  'testMulticlassAccuracy_epoch': 0.968999981880188}]"
            ]
          },
          "metadata": {},
          "execution_count": 32
        }
      ],
      "source": [
        "cnn_trainer.test(cnn_classifier, test_loader)"
      ]
    },
    {
      "cell_type": "markdown",
      "metadata": {
        "id": "409-AabS5ZUU"
      },
      "source": [
        "### Plotting the ROC Curve"
      ]
    },
    {
      "cell_type": "code",
      "execution_count": 33,
      "metadata": {
        "colab": {
          "base_uri": "https://localhost:8080/",
          "height": 472
        },
        "id": "FuA_q3qk5ZUV",
        "outputId": "5bc5674a-6a65-4948-fa23-834576d93c0e"
      },
      "outputs": [
        {
          "output_type": "display_data",
          "data": {
            "text/plain": [
              "<Figure size 640x480 with 1 Axes>"
            ],
            "image/png": "[encoded data removed]"
          },
          "metadata": {}
        }
      ],
      "source": [
        "# plot_roc(cnn_classifier, test_loader)\n",
        "\n",
        "def plot_roc(classifier, loader):\n",
        "    \"\"\"Plot ROC curve.\"\"\"\n",
        "    roc = tm.ROC(task=\"multiclass\", num_classes=10)\n",
        "    for images, labels in loader:\n",
        "        # Apply test preprocessing to ensure proper shape.\n",
        "        images, labels = classifier.test_preprocess((images, labels))\n",
        "        outputs = classifier(images)\n",
        "        roc.update(outputs, labels.long())\n",
        "\n",
        "    fig, ax = roc.plot(score=True)\n",
        "    ax.grid(False)\n",
        "    ax.axis(\"square\")\n",
        "    ax.set_xlim(0, 1)\n",
        "    ax.set_ylim(0, 1)\n",
        "    ax.legend(loc=\"center right\")\n",
        "    plt.show()\n",
        "\n",
        "plot_roc(cnn_classifier, test_loader)"
      ]
    },
    {
      "cell_type": "markdown",
      "metadata": {
        "id": "LXAeB81y5ZUV"
      },
      "source": [
        "### Checking the Values of the Filters\n",
        "\n",
        "The following code accesses the 32nd filter's weights in the first convolutional layer of the CNN. It navigates through the model's first module (`model[0]`), selects the initial block (`blocks[0]`), and then targets the layer's weights (`layer.weight[15]`)."
      ]
    },
    {
      "cell_type": "code",
      "execution_count": 34,
      "metadata": {
        "colab": {
          "base_uri": "https://localhost:8080/"
        },
        "id": "ZB8tpcpA5ZUW",
        "outputId": "94c0440e-1a9c-4b3a-bce4-8af4f50a211f"
      },
      "outputs": [
        {
          "output_type": "stream",
          "name": "stdout",
          "text": [
            "tensor([[[ 0.3243,  0.3364,  0.3687],\n",
            "         [-0.2235, -0.0520, -0.2012],\n",
            "         [-1.0460, -0.5200, -0.9220]]], grad_fn=<SelectBackward0>)\n"
          ]
        }
      ],
      "source": [
        "filter = cnn_classifier.model[0].blocks[0].layer.weight[15]\n",
        "\n",
        "print(filter)"
      ]
    },
    {
      "cell_type": "code",
      "source": [
        "from torch.nn.functional import relu\n",
        "\n",
        "def generate_gradcam_heatmap(model, image, target_class=None):\n",
        "    \"\"\"\n",
        "    Generate a Grad-CAM heatmap for one MNIST image.\n",
        "\n",
        "    Parameters:\n",
        "      model: Your CNN model (e.g. cnn_classifier.model)\n",
        "      image: A torch tensor of shape (1, 28, 28) (grayscale image)\n",
        "      target_class: Optional integer target class. If None, uses the predicted class.\n",
        "\n",
        "    Returns:\n",
        "      heatmap: A numpy array (28, 28) with values normalized between 0 and 1.\n",
        "      target_class: The class used for Grad-CAM.\n",
        "    \"\"\"\n",
        "    hookdata = {}\n",
        "\n",
        "    # Define hook functions to capture activations and gradients.\n",
        "    def forward_hook(module, input, output):\n",
        "        hookdata[\"activations\"] = output.detach()\n",
        "\n",
        "    def backward_hook(module, grad_input, grad_output):\n",
        "        hookdata[\"gradients\"] = grad_output[0].detach()\n",
        "\n",
        "    # Choose the target convolutional layer.\n",
        "    target_layer = model[0].blocks[0].layer\n",
        "\n",
        "    # Register hooks.\n",
        "    handle_fwd = target_layer.register_forward_hook(forward_hook)\n",
        "    handle_bwd = target_layer.register_full_backward_hook(backward_hook)\n",
        "\n",
        "    model.eval()  # Set model to evaluation mode.\n",
        "\n",
        "    # Ensure image has batch dimension: (1, 1, 28, 28)\n",
        "    image_batch = image.unsqueeze(0)\n",
        "    output = model(image_batch)\n",
        "\n",
        "    # Select the target class.\n",
        "    if target_class is None:\n",
        "        target_class = output.argmax(dim=1).item()\n",
        "\n",
        "    # Backward pass: compute gradients only for the target class.\n",
        "    model.zero_grad()\n",
        "    score = output[0, target_class]\n",
        "    score.backward()\n",
        "\n",
        "    # Remove hooks.\n",
        "    handle_fwd.remove()\n",
        "    handle_bwd.remove()\n",
        "\n",
        "    # Retrieve captured activations and gradients.\n",
        "    # activations shape: (channels, H, W)\n",
        "    activations = hookdata[\"activations\"][0]\n",
        "    gradients = hookdata[\"gradients\"][0]\n",
        "\n",
        "    # Compute channel-wise mean of the gradients.\n",
        "    pooled_gradients = gradients.mean(dim=[1, 2], keepdim=True)\n",
        "\n",
        "    # Weight the channels by the corresponding pooled gradients and sum up.\n",
        "    weighted_activations = pooled_gradients * activations\n",
        "    heatmap = weighted_activations.sum(dim=0)\n",
        "    heatmap = relu(heatmap)\n",
        "\n",
        "    # Normalize the heatmap to the range 0-1.\n",
        "    heatmap = heatmap.cpu().numpy()\n",
        "    heatmap = (heatmap - heatmap.min()) / (heatmap.max() - heatmap.min() + 1e-8)\n",
        "\n",
        "    return heatmap, target_class"
      ],
      "metadata": {
        "id": "TRQ2dIYmJ1S0"
      },
      "execution_count": 68,
      "outputs": []
    },
    {
      "cell_type": "code",
      "source": [
        "# Collect one sample per class.\n",
        "samples_per_class = {}\n",
        "for img_np, lbl in zip(train_images, train_digits):\n",
        "    if lbl not in samples_per_class:\n",
        "        # Convert image to tensor and add channel dimension if needed.\n",
        "        img_tensor = torch.tensor(img_np, dtype=torch.float32)\n",
        "        if img_tensor.ndim == 2:\n",
        "            img_tensor = img_tensor.unsqueeze(0)\n",
        "        samples_per_class[lbl] = img_tensor\n",
        "    if len(samples_per_class) == 10:\n",
        "        break\n",
        "\n",
        "# Plot Grad-CAM for each class.\n",
        "plt.figure(figsize=(20, 8))\n",
        "for i, (lbl, img_tensor) in enumerate(sorted(samples_per_class.items())):\n",
        "    heatmap, t_class = generate_gradcam_heatmap(cnn_classifier.model, img_tensor)\n",
        "    plt.subplot(2, 5, i + 1)\n",
        "    plt.imshow(img_tensor.squeeze(0), cmap=\"gray\")\n",
        "    plt.imshow(heatmap, cmap=\"jet\", alpha=0.5)\n",
        "    plt.title(f\"Class {lbl}\\n(Target: {t_class})\")\n",
        "    plt.axis(\"off\")\n",
        "plt.tight_layout()\n",
        "plt.show()"
      ],
      "metadata": {
        "id": "K5rQUP7mJ-ch",
        "outputId": "0db2df12-e343-4fad-dd5b-06d420162a3f",
        "colab": {
          "base_uri": "https://localhost:8080/",
          "height": 594
        }
      },
      "execution_count": 73,
      "outputs": [
        {
          "output_type": "display_data",
          "data": {
            "text/plain": [
              "<Figure size 2000x800 with 10 Axes>"
            ],
            "image/png": "[encoded data removed]"
          },
          "metadata": {}
        }
      ]
    },
    {
      "cell_type": "markdown",
      "metadata": {
        "id": "W1zqRuij5ZUW"
      },
      "source": [
        "### Visualizing the Activations of the Convolutional Layers\n",
        "\n",
        "Pick the image of an infected smear to then check the activations it produces on the last convolutional layer ..."
      ]
    },
    {
      "cell_type": "code",
      "execution_count": 35,
      "metadata": {
        "colab": {
          "base_uri": "https://localhost:8080/",
          "height": 211
        },
        "id": "RqJgnCWR5ZUX",
        "outputId": "823ce70e-ee9b-4363-e9ec-f4ea783edeb4"
      },
      "outputs": [
        {
          "output_type": "error",
          "ename": "AttributeError",
          "evalue": "'list' object has no attribute 'samples'",
          "traceback": [
            "\u001b[0;31m---------------------------------------------------------------------------\u001b[0m",
            "\u001b[0;31mAttributeError\u001b[0m                            Traceback (most recent call last)",
            "\u001b[0;32m<ipython-input-35-5e3cac4b65e6>\u001b[0m in \u001b[0;36m<cell line: 0>\u001b[0;34m()\u001b[0m\n\u001b[1;32m      2\u001b[0m \u001b[0;34m\u001b[0m\u001b[0m\n\u001b[1;32m      3\u001b[0m \u001b[0mim_ind\u001b[0m \u001b[0;34m=\u001b[0m \u001b[0;36m0\u001b[0m\u001b[0;34m\u001b[0m\u001b[0;34m\u001b[0m\u001b[0m\n\u001b[0;32m----> 4\u001b[0;31m \u001b[0mimage_filename\u001b[0m \u001b[0;34m=\u001b[0m \u001b[0mdataset\u001b[0m\u001b[0;34m.\u001b[0m\u001b[0msamples\u001b[0m\u001b[0;34m[\u001b[0m\u001b[0mim_ind\u001b[0m\u001b[0;34m]\u001b[0m\u001b[0;34m[\u001b[0m\u001b[0;36m0\u001b[0m\u001b[0;34m]\u001b[0m\u001b[0;34m\u001b[0m\u001b[0;34m\u001b[0m\u001b[0m\n\u001b[0m\u001b[1;32m      5\u001b[0m \u001b[0mimage_hr\u001b[0m \u001b[0;34m=\u001b[0m \u001b[0mImage\u001b[0m\u001b[0;34m.\u001b[0m\u001b[0mopen\u001b[0m\u001b[0;34m(\u001b[0m\u001b[0mimage_filename\u001b[0m\u001b[0;34m)\u001b[0m\u001b[0;34m\u001b[0m\u001b[0;34m\u001b[0m\u001b[0m\n\u001b[1;32m      6\u001b[0m \u001b[0mimage\u001b[0m \u001b[0;34m=\u001b[0m \u001b[0mimage_trans\u001b[0m\u001b[0;34m(\u001b[0m\u001b[0mimage_hr\u001b[0m\u001b[0;34m)\u001b[0m\u001b[0;34m\u001b[0m\u001b[0;34m\u001b[0m\u001b[0m\n",
            "\u001b[0;31mAttributeError\u001b[0m: 'list' object has no attribute 'samples'"
          ]
        }
      ],
      "source": [
        "from PIL import Image\n",
        "\n",
        "im_ind = 0\n",
        "image_filename = dataset.samples[im_ind][0]\n",
        "image_hr = Image.open(image_filename)\n",
        "image = image_trans(image_hr)"
      ]
    },
    {
      "cell_type": "markdown",
      "metadata": {
        "id": "GTlPEwPc5ZUX"
      },
      "source": [
        "... verify whether this image is of a parasitized cell ..."
      ]
    },
    {
      "cell_type": "code",
      "execution_count": null,
      "metadata": {
        "id": "xJLY2Wj15ZUY"
      },
      "outputs": [],
      "source": [
        "print(label_trans(dataset.targets[im_ind]))"
      ]
    },
    {
      "cell_type": "markdown",
      "metadata": {
        "id": "gZ8OTIGt5ZUY"
      },
      "source": [
        "... define a function to visualize the activations ..."
      ]
    },
    {
      "cell_type": "code",
      "execution_count": null,
      "metadata": {
        "id": "6heKlVqB5ZUY"
      },
      "outputs": [],
      "source": [
        "def plot_activations(activations, cols=8):\n",
        "    \"\"\"Visualize activations.\"\"\"\n",
        "    rows = -(activations.shape[0] // -cols)\n",
        "\n",
        "    fig, axs = plt.subplots(rows, cols, figsize=(2 * cols, 2 * rows))\n",
        "    for i, ax in enumerate(axs.ravel()):\n",
        "        ax.axis(\"off\")\n",
        "        if i < activations.shape[0]:\n",
        "            ax.imshow(activations[i].numpy())\n",
        "            ax.set_title(i, fontsize=16)\n",
        "    plt.show()"
      ]
    },
    {
      "cell_type": "markdown",
      "metadata": {
        "id": "rzR5UvzT5ZUZ"
      },
      "source": [
        "... add a hook to access the activations in the forward pass ...\n"
      ]
    },
    {
      "cell_type": "code",
      "execution_count": null,
      "metadata": {
        "id": "RMIiR86P5ZUZ"
      },
      "outputs": [],
      "source": [
        "def hook_func(layer, input, output):\n",
        "    \"\"\"Hook for activations.\"\"\"\n",
        "    activations = output.detach().clone()\n",
        "    plot_activations(activations[0])\n",
        "\n",
        "for block in cnn_classifier.model[0].blocks:\n",
        "    layer = block.layer\n",
        "    handle_hook = layer.register_forward_hook(hook_func)\n",
        "\n",
        "    try:\n",
        "        pred = cnn_classifier.model(image.unsqueeze(0))\n",
        "    except Exception as e:\n",
        "        print(f\"An error occurred during model prediction: {e}\")\n",
        "    finally:\n",
        "        handle_hook.remove()"
      ]
    },
    {
      "cell_type": "markdown",
      "metadata": {
        "id": "LUvAB7Lc5ZUa"
      },
      "source": [
        "### Visualizing the Heatmaps\n",
        "\n",
        "Use hooks to keep tracks also of the gradients in the backward pass ..."
      ]
    },
    {
      "cell_type": "code",
      "execution_count": null,
      "metadata": {
        "id": "Y3BQP-rm5ZUa"
      },
      "outputs": [],
      "source": [
        "hookdata = {}\n",
        "\n",
        "def fwd_hook_func(layer, input, output):\n",
        "    \"\"\"Forward hook function.\"\"\"\n",
        "    hookdata[\"activations\"] = output.detach().clone()\n",
        "\n",
        "def bwd_hook_func(layer, grad_input, grad_output):\n",
        "    \"\"\"Backward hook function.\"\"\"\n",
        "    hookdata[\"gradients\"] = grad_output[0].detach().clone()\n",
        "\n",
        "layer = cnn_classifier.model[0].blocks[3].layer\n",
        "handle_fwd_hook = layer.register_forward_hook(fwd_hook_func)\n",
        "handle_bwd_hook = layer.register_full_backward_hook(bwd_hook_func)\n",
        "\n",
        "try:\n",
        "    pred = cnn_classifier.model(image.unsqueeze(0))\n",
        "    pred.sum().backward()\n",
        "except Exception as e:\n",
        "    print(f\"An error occurred during model prediction: {e}\")\n",
        "finally:\n",
        "    handle_fwd_hook.remove()\n",
        "    handle_bwd_hook.remove()"
      ]
    },
    {
      "cell_type": "markdown",
      "metadata": {
        "id": "Kmtw_0-U5ZUa"
      },
      "source": [
        "... calculate the heatmap combining activations and gradients ..."
      ]
    },
    {
      "cell_type": "code",
      "execution_count": null,
      "metadata": {
        "id": "eDyTW3_d5ZUb"
      },
      "outputs": [],
      "source": [
        "from torch.nn.functional import relu\n",
        "\n",
        "activations = hookdata[\"activations\"][0]\n",
        "gradients = hookdata[\"gradients\"][0]\n",
        "\n",
        "pooled_gradients = gradients.mean(dim=[1, 2], keepdim=True)\n",
        "heatmap = relu((pooled_gradients * activations).sum(0)).detach().numpy()"
      ]
    },
    {
      "cell_type": "markdown",
      "metadata": {
        "id": "Ya1DRRbq5ZUb"
      },
      "source": [
        "... and plot the heatmap."
      ]
    },
    {
      "cell_type": "code",
      "execution_count": null,
      "metadata": {
        "id": "PVG8S6j_5ZUc"
      },
      "outputs": [],
      "source": [
        "from numpy import array\n",
        "from skimage.exposure import rescale_intensity\n",
        "from skimage.transform import resize\n",
        "\n",
        "rescaled_image = rescale_intensity(array(image_hr), out_range=(0, 1))\n",
        "resized_heatmap = resize(heatmap, rescaled_image.shape, order=2)\n",
        "rescaled_heatmap = rescale_intensity(resized_heatmap, out_range=(0.25, 1))\n",
        "\n",
        "plt.figure(figsize=(12, 5))\n",
        "\n",
        "plt.subplot(1, 3, 1)\n",
        "plt.imshow(rescaled_image, interpolation=\"bilinear\")\n",
        "plt.title(\"Original image\", fontsize=16)\n",
        "plt.axis(\"off\")\n",
        "\n",
        "plt.subplot(1, 3, 2)\n",
        "plt.imshow(rescaled_heatmap.mean(axis=-1), interpolation=\"bilinear\")\n",
        "plt.title(\"Heatmap with Grad-CAM\", fontsize=16)\n",
        "plt.axis(\"off\")\n",
        "\n",
        "plt.subplot(1, 3, 3)\n",
        "plt.imshow(rescaled_image * rescaled_heatmap)\n",
        "plt.title(\"Overlay\", fontsize=16)\n",
        "plt.axis(\"off\")\n",
        "\n",
        "plt.show()"
      ]
    }
  ],
  "metadata": {
    "kernelspec": {
      "display_name": "py_env_book",
      "language": "python",
      "name": "python3"
    },
    "language_info": {
      "codemirror_mode": {
        "name": "ipython",
        "version": 3
      },
      "file_extension": ".py",
      "mimetype": "text/x-python",
      "name": "python",
      "nbconvert_exporter": "python",
      "pygments_lexer": "ipython3",
      "version": "3.10.15"
    },
    "colab": {
      "provenance": []
    },
    "widgets": {
      "application/vnd.jupyter.widget-state+json": {
        "25cebf784d1d4fd8b869e50031671cef": {
          "model_module": "@jupyter-widgets/controls",
          "model_name": "HBoxModel",
          "model_module_version": "1.5.0",
          "state": {
            "_dom_classes": [],
            "_model_module": "@jupyter-widgets/controls",
            "_model_module_version": "1.5.0",
            "_model_name": "HBoxModel",
            "_view_count": null,
            "_view_module": "@jupyter-widgets/controls",
            "_view_module_version": "1.5.0",
            "_view_name": "HBoxView",
            "box_style": "",
            "children": [
              "IPY_MODEL_f236267fe19d40f898c2efc798893258",
              "IPY_MODEL_63cc670453434bdaa439e11fc1570e1b",
              "IPY_MODEL_ef26ffdecedd40b1b953e63c38a47335"
            ],
            "layout": "IPY_MODEL_90b94cd6daab4159b6a92772da80a42a"
          }
        },
        "f236267fe19d40f898c2efc798893258": {
          "model_module": "@jupyter-widgets/controls",
          "model_name": "HTMLModel",
          "model_module_version": "1.5.0",
          "state": {
            "_dom_classes": [],
            "_model_module": "@jupyter-widgets/controls",
            "_model_module_version": "1.5.0",
            "_model_name": "HTMLModel",
            "_view_count": null,
            "_view_module": "@jupyter-widgets/controls",
            "_view_module_version": "1.5.0",
            "_view_name": "HTMLView",
            "description": "",
            "description_tooltip": null,
            "layout": "IPY_MODEL_e13c6ede90154e76b82d7b18c80f3274",
            "placeholder": "​",
            "style": "IPY_MODEL_4469ac7cb4ce48639b39e374949b9fc5",
            "value": "Epoch 0: 100%"
          }
        },
        "63cc670453434bdaa439e11fc1570e1b": {
          "model_module": "@jupyter-widgets/controls",
          "model_name": "FloatProgressModel",
          "model_module_version": "1.5.0",
          "state": {
            "_dom_classes": [],
            "_model_module": "@jupyter-widgets/controls",
            "_model_module_version": "1.5.0",
            "_model_name": "FloatProgressModel",
            "_view_count": null,
            "_view_module": "@jupyter-widgets/controls",
            "_view_module_version": "1.5.0",
            "_view_name": "ProgressView",
            "bar_style": "success",
            "description": "",
            "description_tooltip": null,
            "layout": "IPY_MODEL_7d5fb99d886c42668f70cbd116db99cd",
            "max": 60000,
            "min": 0,
            "orientation": "horizontal",
            "style": "IPY_MODEL_f494b8a731004b77acc9bbfc219a803f",
            "value": 60000
          }
        },
        "ef26ffdecedd40b1b953e63c38a47335": {
          "model_module": "@jupyter-widgets/controls",
          "model_name": "HTMLModel",
          "model_module_version": "1.5.0",
          "state": {
            "_dom_classes": [],
            "_model_module": "@jupyter-widgets/controls",
            "_model_module_version": "1.5.0",
            "_model_name": "HTMLModel",
            "_view_count": null,
            "_view_module": "@jupyter-widgets/controls",
            "_view_module_version": "1.5.0",
            "_view_name": "HTMLView",
            "description": "",
            "description_tooltip": null,
            "layout": "IPY_MODEL_7e09bc62578d4b1ea589641901f5e26e",
            "placeholder": "​",
            "style": "IPY_MODEL_c45128b13866437cb7a63c3c09d1d641",
            "value": " 60000/60000 [12:25&lt;00:00, 80.46it/s, v_num=1, train_loss_step=0.0144, trainMulticlassAccuracy_step=1.000, train_loss_epoch=0.383, trainMulticlassAccuracy_epoch=0.871]"
          }
        },
        "90b94cd6daab4159b6a92772da80a42a": {
          "model_module": "@jupyter-widgets/base",
          "model_name": "LayoutModel",
          "model_module_version": "1.2.0",
          "state": {
            "_model_module": "@jupyter-widgets/base",
            "_model_module_version": "1.2.0",
            "_model_name": "LayoutModel",
            "_view_count": null,
            "_view_module": "@jupyter-widgets/base",
            "_view_module_version": "1.2.0",
            "_view_name": "LayoutView",
            "align_content": null,
            "align_items": null,
            "align_self": null,
            "border": null,
            "bottom": null,
            "display": "inline-flex",
            "flex": null,
            "flex_flow": "row wrap",
            "grid_area": null,
            "grid_auto_columns": null,
            "grid_auto_flow": null,
            "grid_auto_rows": null,
            "grid_column": null,
            "grid_gap": null,
            "grid_row": null,
            "grid_template_areas": null,
            "grid_template_columns": null,
            "grid_template_rows": null,
            "height": null,
            "justify_content": null,
            "justify_items": null,
            "left": null,
            "margin": null,
            "max_height": null,
            "max_width": null,
            "min_height": null,
            "min_width": null,
            "object_fit": null,
            "object_position": null,
            "order": null,
            "overflow": null,
            "overflow_x": null,
            "overflow_y": null,
            "padding": null,
            "right": null,
            "top": null,
            "visibility": null,
            "width": "100%"
          }
        },
        "e13c6ede90154e76b82d7b18c80f3274": {
          "model_module": "@jupyter-widgets/base",
          "model_name": "LayoutModel",
          "model_module_version": "1.2.0",
          "state": {
            "_model_module": "@jupyter-widgets/base",
            "_model_module_version": "1.2.0",
            "_model_name": "LayoutModel",
            "_view_count": null,
            "_view_module": "@jupyter-widgets/base",
            "_view_module_version": "1.2.0",
            "_view_name": "LayoutView",
            "align_content": null,
            "align_items": null,
            "align_self": null,
            "border": null,
            "bottom": null,
            "display": null,
            "flex": null,
            "flex_flow": null,
            "grid_area": null,
            "grid_auto_columns": null,
            "grid_auto_flow": null,
            "grid_auto_rows": null,
            "grid_column": null,
            "grid_gap": null,
            "grid_row": null,
            "grid_template_areas": null,
            "grid_template_columns": null,
            "grid_template_rows": null,
            "height": null,
            "justify_content": null,
            "justify_items": null,
            "left": null,
            "margin": null,
            "max_height": null,
            "max_width": null,
            "min_height": null,
            "min_width": null,
            "object_fit": null,
            "object_position": null,
            "order": null,
            "overflow": null,
            "overflow_x": null,
            "overflow_y": null,
            "padding": null,
            "right": null,
            "top": null,
            "visibility": null,
            "width": null
          }
        },
        "4469ac7cb4ce48639b39e374949b9fc5": {
          "model_module": "@jupyter-widgets/controls",
          "model_name": "DescriptionStyleModel",
          "model_module_version": "1.5.0",
          "state": {
            "_model_module": "@jupyter-widgets/controls",
            "_model_module_version": "1.5.0",
            "_model_name": "DescriptionStyleModel",
            "_view_count": null,
            "_view_module": "@jupyter-widgets/base",
            "_view_module_version": "1.2.0",
            "_view_name": "StyleView",
            "description_width": ""
          }
        },
        "7d5fb99d886c42668f70cbd116db99cd": {
          "model_module": "@jupyter-widgets/base",
          "model_name": "LayoutModel",
          "model_module_version": "1.2.0",
          "state": {
            "_model_module": "@jupyter-widgets/base",
            "_model_module_version": "1.2.0",
            "_model_name": "LayoutModel",
            "_view_count": null,
            "_view_module": "@jupyter-widgets/base",
            "_view_module_version": "1.2.0",
            "_view_name": "LayoutView",
            "align_content": null,
            "align_items": null,
            "align_self": null,
            "border": null,
            "bottom": null,
            "display": null,
            "flex": "2",
            "flex_flow": null,
            "grid_area": null,
            "grid_auto_columns": null,
            "grid_auto_flow": null,
            "grid_auto_rows": null,
            "grid_column": null,
            "grid_gap": null,
            "grid_row": null,
            "grid_template_areas": null,
            "grid_template_columns": null,
            "grid_template_rows": null,
            "height": null,
            "justify_content": null,
            "justify_items": null,
            "left": null,
            "margin": null,
            "max_height": null,
            "max_width": null,
            "min_height": null,
            "min_width": null,
            "object_fit": null,
            "object_position": null,
            "order": null,
            "overflow": null,
            "overflow_x": null,
            "overflow_y": null,
            "padding": null,
            "right": null,
            "top": null,
            "visibility": null,
            "width": null
          }
        },
        "f494b8a731004b77acc9bbfc219a803f": {
          "model_module": "@jupyter-widgets/controls",
          "model_name": "ProgressStyleModel",
          "model_module_version": "1.5.0",
          "state": {
            "_model_module": "@jupyter-widgets/controls",
            "_model_module_version": "1.5.0",
            "_model_name": "ProgressStyleModel",
            "_view_count": null,
            "_view_module": "@jupyter-widgets/base",
            "_view_module_version": "1.2.0",
            "_view_name": "StyleView",
            "bar_color": null,
            "description_width": ""
          }
        },
        "7e09bc62578d4b1ea589641901f5e26e": {
          "model_module": "@jupyter-widgets/base",
          "model_name": "LayoutModel",
          "model_module_version": "1.2.0",
          "state": {
            "_model_module": "@jupyter-widgets/base",
            "_model_module_version": "1.2.0",
            "_model_name": "LayoutModel",
            "_view_count": null,
            "_view_module": "@jupyter-widgets/base",
            "_view_module_version": "1.2.0",
            "_view_name": "LayoutView",
            "align_content": null,
            "align_items": null,
            "align_self": null,
            "border": null,
            "bottom": null,
            "display": null,
            "flex": null,
            "flex_flow": null,
            "grid_area": null,
            "grid_auto_columns": null,
            "grid_auto_flow": null,
            "grid_auto_rows": null,
            "grid_column": null,
            "grid_gap": null,
            "grid_row": null,
            "grid_template_areas": null,
            "grid_template_columns": null,
            "grid_template_rows": null,
            "height": null,
            "justify_content": null,
            "justify_items": null,
            "left": null,
            "margin": null,
            "max_height": null,
            "max_width": null,
            "min_height": null,
            "min_width": null,
            "object_fit": null,
            "object_position": null,
            "order": null,
            "overflow": null,
            "overflow_x": null,
            "overflow_y": null,
            "padding": null,
            "right": null,
            "top": null,
            "visibility": null,
            "width": null
          }
        },
        "c45128b13866437cb7a63c3c09d1d641": {
          "model_module": "@jupyter-widgets/controls",
          "model_name": "DescriptionStyleModel",
          "model_module_version": "1.5.0",
          "state": {
            "_model_module": "@jupyter-widgets/controls",
            "_model_module_version": "1.5.0",
            "_model_name": "DescriptionStyleModel",
            "_view_count": null,
            "_view_module": "@jupyter-widgets/base",
            "_view_module_version": "1.2.0",
            "_view_name": "StyleView",
            "description_width": ""
          }
        },
        "1b76ac23dcc94ad9ba703eb1f12b8d83": {
          "model_module": "@jupyter-widgets/controls",
          "model_name": "HBoxModel",
          "model_module_version": "1.5.0",
          "state": {
            "_dom_classes": [],
            "_model_module": "@jupyter-widgets/controls",
            "_model_module_version": "1.5.0",
            "_model_name": "HBoxModel",
            "_view_count": null,
            "_view_module": "@jupyter-widgets/controls",
            "_view_module_version": "1.5.0",
            "_view_name": "HBoxView",
            "box_style": "",
            "children": [
              "IPY_MODEL_9496f88bcab84b729028ff1edba0eb2f",
              "IPY_MODEL_f84c0fd05ba1455e955af2ce972bec36",
              "IPY_MODEL_4d0362b190544a22abbbe7d359352e2e"
            ],
            "layout": "IPY_MODEL_8fb67d8617064d30a3179db28ba5d800"
          }
        },
        "9496f88bcab84b729028ff1edba0eb2f": {
          "model_module": "@jupyter-widgets/controls",
          "model_name": "HTMLModel",
          "model_module_version": "1.5.0",
          "state": {
            "_dom_classes": [],
            "_model_module": "@jupyter-widgets/controls",
            "_model_module_version": "1.5.0",
            "_model_name": "HTMLModel",
            "_view_count": null,
            "_view_module": "@jupyter-widgets/controls",
            "_view_module_version": "1.5.0",
            "_view_name": "HTMLView",
            "description": "",
            "description_tooltip": null,
            "layout": "IPY_MODEL_b2c552a671894183ae3c8ddcf2cc34be",
            "placeholder": "​",
            "style": "IPY_MODEL_3d0768c52acf4ead92110cddf5fad067",
            "value": "Testing DataLoader 0: 100%"
          }
        },
        "f84c0fd05ba1455e955af2ce972bec36": {
          "model_module": "@jupyter-widgets/controls",
          "model_name": "FloatProgressModel",
          "model_module_version": "1.5.0",
          "state": {
            "_dom_classes": [],
            "_model_module": "@jupyter-widgets/controls",
            "_model_module_version": "1.5.0",
            "_model_name": "FloatProgressModel",
            "_view_count": null,
            "_view_module": "@jupyter-widgets/controls",
            "_view_module_version": "1.5.0",
            "_view_name": "ProgressView",
            "bar_style": "success",
            "description": "",
            "description_tooltip": null,
            "layout": "IPY_MODEL_e7d5043cb49143a6bd49abffb608b6a8",
            "max": 10000,
            "min": 0,
            "orientation": "horizontal",
            "style": "IPY_MODEL_427a42ea3adc492c95557ae9fd8268ef",
            "value": 10000
          }
        },
        "4d0362b190544a22abbbe7d359352e2e": {
          "model_module": "@jupyter-widgets/controls",
          "model_name": "HTMLModel",
          "model_module_version": "1.5.0",
          "state": {
            "_dom_classes": [],
            "_model_module": "@jupyter-widgets/controls",
            "_model_module_version": "1.5.0",
            "_model_name": "HTMLModel",
            "_view_count": null,
            "_view_module": "@jupyter-widgets/controls",
            "_view_module_version": "1.5.0",
            "_view_name": "HTMLView",
            "description": "",
            "description_tooltip": null,
            "layout": "IPY_MODEL_fee8af372e474d1e8ab82bab4b1dd1de",
            "placeholder": "​",
            "style": "IPY_MODEL_9f92437a2566476f81a4db0fc199cb9a",
            "value": " 10000/10000 [01:09&lt;00:00, 143.06it/s]"
          }
        },
        "8fb67d8617064d30a3179db28ba5d800": {
          "model_module": "@jupyter-widgets/base",
          "model_name": "LayoutModel",
          "model_module_version": "1.2.0",
          "state": {
            "_model_module": "@jupyter-widgets/base",
            "_model_module_version": "1.2.0",
            "_model_name": "LayoutModel",
            "_view_count": null,
            "_view_module": "@jupyter-widgets/base",
            "_view_module_version": "1.2.0",
            "_view_name": "LayoutView",
            "align_content": null,
            "align_items": null,
            "align_self": null,
            "border": null,
            "bottom": null,
            "display": "inline-flex",
            "flex": null,
            "flex_flow": "row wrap",
            "grid_area": null,
            "grid_auto_columns": null,
            "grid_auto_flow": null,
            "grid_auto_rows": null,
            "grid_column": null,
            "grid_gap": null,
            "grid_row": null,
            "grid_template_areas": null,
            "grid_template_columns": null,
            "grid_template_rows": null,
            "height": null,
            "justify_content": null,
            "justify_items": null,
            "left": null,
            "margin": null,
            "max_height": null,
            "max_width": null,
            "min_height": null,
            "min_width": null,
            "object_fit": null,
            "object_position": null,
            "order": null,
            "overflow": null,
            "overflow_x": null,
            "overflow_y": null,
            "padding": null,
            "right": null,
            "top": null,
            "visibility": null,
            "width": "100%"
          }
        },
        "b2c552a671894183ae3c8ddcf2cc34be": {
          "model_module": "@jupyter-widgets/base",
          "model_name": "LayoutModel",
          "model_module_version": "1.2.0",
          "state": {
            "_model_module": "@jupyter-widgets/base",
            "_model_module_version": "1.2.0",
            "_model_name": "LayoutModel",
            "_view_count": null,
            "_view_module": "@jupyter-widgets/base",
            "_view_module_version": "1.2.0",
            "_view_name": "LayoutView",
            "align_content": null,
            "align_items": null,
            "align_self": null,
            "border": null,
            "bottom": null,
            "display": null,
            "flex": null,
            "flex_flow": null,
            "grid_area": null,
            "grid_auto_columns": null,
            "grid_auto_flow": null,
            "grid_auto_rows": null,
            "grid_column": null,
            "grid_gap": null,
            "grid_row": null,
            "grid_template_areas": null,
            "grid_template_columns": null,
            "grid_template_rows": null,
            "height": null,
            "justify_content": null,
            "justify_items": null,
            "left": null,
            "margin": null,
            "max_height": null,
            "max_width": null,
            "min_height": null,
            "min_width": null,
            "object_fit": null,
            "object_position": null,
            "order": null,
            "overflow": null,
            "overflow_x": null,
            "overflow_y": null,
            "padding": null,
            "right": null,
            "top": null,
            "visibility": null,
            "width": null
          }
        },
        "3d0768c52acf4ead92110cddf5fad067": {
          "model_module": "@jupyter-widgets/controls",
          "model_name": "DescriptionStyleModel",
          "model_module_version": "1.5.0",
          "state": {
            "_model_module": "@jupyter-widgets/controls",
            "_model_module_version": "1.5.0",
            "_model_name": "DescriptionStyleModel",
            "_view_count": null,
            "_view_module": "@jupyter-widgets/base",
            "_view_module_version": "1.2.0",
            "_view_name": "StyleView",
            "description_width": ""
          }
        },
        "e7d5043cb49143a6bd49abffb608b6a8": {
          "model_module": "@jupyter-widgets/base",
          "model_name": "LayoutModel",
          "model_module_version": "1.2.0",
          "state": {
            "_model_module": "@jupyter-widgets/base",
            "_model_module_version": "1.2.0",
            "_model_name": "LayoutModel",
            "_view_count": null,
            "_view_module": "@jupyter-widgets/base",
            "_view_module_version": "1.2.0",
            "_view_name": "LayoutView",
            "align_content": null,
            "align_items": null,
            "align_self": null,
            "border": null,
            "bottom": null,
            "display": null,
            "flex": "2",
            "flex_flow": null,
            "grid_area": null,
            "grid_auto_columns": null,
            "grid_auto_flow": null,
            "grid_auto_rows": null,
            "grid_column": null,
            "grid_gap": null,
            "grid_row": null,
            "grid_template_areas": null,
            "grid_template_columns": null,
            "grid_template_rows": null,
            "height": null,
            "justify_content": null,
            "justify_items": null,
            "left": null,
            "margin": null,
            "max_height": null,
            "max_width": null,
            "min_height": null,
            "min_width": null,
            "object_fit": null,
            "object_position": null,
            "order": null,
            "overflow": null,
            "overflow_x": null,
            "overflow_y": null,
            "padding": null,
            "right": null,
            "top": null,
            "visibility": null,
            "width": null
          }
        },
        "427a42ea3adc492c95557ae9fd8268ef": {
          "model_module": "@jupyter-widgets/controls",
          "model_name": "ProgressStyleModel",
          "model_module_version": "1.5.0",
          "state": {
            "_model_module": "@jupyter-widgets/controls",
            "_model_module_version": "1.5.0",
            "_model_name": "ProgressStyleModel",
            "_view_count": null,
            "_view_module": "@jupyter-widgets/base",
            "_view_module_version": "1.2.0",
            "_view_name": "StyleView",
            "bar_color": null,
            "description_width": ""
          }
        },
        "fee8af372e474d1e8ab82bab4b1dd1de": {
          "model_module": "@jupyter-widgets/base",
          "model_name": "LayoutModel",
          "model_module_version": "1.2.0",
          "state": {
            "_model_module": "@jupyter-widgets/base",
            "_model_module_version": "1.2.0",
            "_model_name": "LayoutModel",
            "_view_count": null,
            "_view_module": "@jupyter-widgets/base",
            "_view_module_version": "1.2.0",
            "_view_name": "LayoutView",
            "align_content": null,
            "align_items": null,
            "align_self": null,
            "border": null,
            "bottom": null,
            "display": null,
            "flex": null,
            "flex_flow": null,
            "grid_area": null,
            "grid_auto_columns": null,
            "grid_auto_flow": null,
            "grid_auto_rows": null,
            "grid_column": null,
            "grid_gap": null,
            "grid_row": null,
            "grid_template_areas": null,
            "grid_template_columns": null,
            "grid_template_rows": null,
            "height": null,
            "justify_content": null,
            "justify_items": null,
            "left": null,
            "margin": null,
            "max_height": null,
            "max_width": null,
            "min_height": null,
            "min_width": null,
            "object_fit": null,
            "object_position": null,
            "order": null,
            "overflow": null,
            "overflow_x": null,
            "overflow_y": null,
            "padding": null,
            "right": null,
            "top": null,
            "visibility": null,
            "width": null
          }
        },
        "9f92437a2566476f81a4db0fc199cb9a": {
          "model_module": "@jupyter-widgets/controls",
          "model_name": "DescriptionStyleModel",
          "model_module_version": "1.5.0",
          "state": {
            "_model_module": "@jupyter-widgets/controls",
            "_model_module_version": "1.5.0",
            "_model_name": "DescriptionStyleModel",
            "_view_count": null,
            "_view_module": "@jupyter-widgets/base",
            "_view_module_version": "1.2.0",
            "_view_name": "StyleView",
            "description_width": ""
          }
        }
      }
    }
  },
  "nbformat": 4,
  "nbformat_minor": 0
}
